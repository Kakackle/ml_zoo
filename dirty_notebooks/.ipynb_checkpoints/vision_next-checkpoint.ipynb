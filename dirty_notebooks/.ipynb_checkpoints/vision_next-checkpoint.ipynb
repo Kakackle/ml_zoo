{
 "cells": [
  {
   "cell_type": "markdown",
   "id": "503b4832-26ab-41e7-8dbf-bd9eb62cb282",
   "metadata": {},
   "source": [
    "* Data segmentation\n",
    "* Object detection\n",
    "* Own dataset\n",
    "* Loading models with .keras is fucked\n",
    "* "
   ]
  },
  {
   "cell_type": "code",
   "execution_count": null,
   "id": "0cf8aa3c-242b-4f7b-b9dd-f131d9decc05",
   "metadata": {},
   "outputs": [],
   "source": []
  }
 ],
 "metadata": {
  "kernelspec": {
   "display_name": "ml_zoo_venv",
   "language": "python",
   "name": "ml_zoo_venv"
  },
  "language_info": {
   "codemirror_mode": {
    "name": "ipython",
    "version": 3
   },
   "file_extension": ".py",
   "mimetype": "text/x-python",
   "name": "python",
   "nbconvert_exporter": "python",
   "pygments_lexer": "ipython3",
   "version": "3.10.9"
  }
 },
 "nbformat": 4,
 "nbformat_minor": 5
}
