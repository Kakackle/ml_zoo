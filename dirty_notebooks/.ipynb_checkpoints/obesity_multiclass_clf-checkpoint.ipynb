{
 "cells": [
  {
   "cell_type": "markdown",
   "id": "e83faef7-970b-4183-a47a-d6068685b538",
   "metadata": {},
   "source": [
    "## Project 5.2 Neural network multi-class classification - obesity type\n",
    "Key things:  \n",
    "\n",
    "Data taken from a **[kaggle competition](https://www.kaggle.com/competitions/playground-series-s4e2/overview)**\n",
    "\n",
    "Non-obvious attributes:\n",
    "* FAVC - Frequent consumption of high caloric food\n",
    "* FCVC - Frequency of consumption of vegetables\n",
    "* NCP - Number of main meals\n",
    "* CAEC - Consumption of food between meals\n",
    "* CH20 - Consumption of water daily\n",
    "* CALC - Consumption of alcohol\n",
    "* SCC - Calories consumption monitoring\n",
    "* FAF - Physical activity frequency\n",
    "* TUE - Time using technology devices\n",
    "* MTRANS - (method of) Transportation used\n",
    "\n",
    "(Target) Obesity scores/classes (NObesity) are:\n",
    "* Underweight Less than 18.5\n",
    "* Normal 18.5 to 24.9\n",
    "* Overweight 25.0 to 29.9\n",
    "* Obesity I 30.0 to 34.9\n",
    "* Obesity II 35.0 to 39.9\n",
    "* Obesity III Higher than 40"
   ]
  },
  {
   "cell_type": "markdown",
   "id": "730d221b-11de-4b83-9622-90dda1a2a69a",
   "metadata": {},
   "source": [
    "## Code setup"
   ]
  },
  {
   "cell_type": "code",
   "execution_count": 3,
   "id": "d3654c55-e395-409a-88f1-2a92c3c3ea42",
   "metadata": {},
   "outputs": [],
   "source": [
    "import pandas as pd\n",
    "import numpy as np\n",
    "\n",
    "# tf\n",
    "import tensorflow as tf\n",
    "from tensorflow.keras import layers\n",
    "from tensorflow.keras.callbacks import EarlyStopping\n",
    "\n",
    "# plotting\n",
    "import matplotlib.pyplot as plt\n",
    "import seaborn as sns\n",
    "\n",
    "# sklearn utils\n",
    "from sklearn.model_selection import train_test_split, StratifiedKFold\n",
    "from sklearn.preprocessing import MinMaxScaler\n",
    "\n",
    "# sklearn preprocessing\n",
    "from sklearn.preprocessing import LabelEncoder, OneHotEncoder\n",
    "from sklearn.preprocessing import MinMaxScaler\n",
    "\n",
    "# sklearn classification metrics\n",
    "from sklearn.metrics  import (f1_score ,accuracy_score, confusion_matrix,\n",
    "                            classification_report, ConfusionMatrixDisplay, \n",
    "                            roc_curve, precision_recall_curve,\n",
    "                            auc, make_scorer, recall_score, accuracy_score, precision_score\n",
    "                            )\n",
    "\n",
    "from sklearn.ensemble import RandomForestClassifier"
   ]
  },
  {
   "cell_type": "markdown",
   "id": "6ea71e3b-05c4-4cf5-869f-45fc0a4cf736",
   "metadata": {},
   "source": [
    "#### Datasets"
   ]
  },
  {
   "cell_type": "code",
   "execution_count": 64,
   "id": "f2f3ff87-2918-4cc3-8566-3c7fba1da639",
   "metadata": {},
   "outputs": [],
   "source": [
    "# training dataset - to split into training and validationg\n",
    "# df_path = '../datasets/obesity/train.csv' # -  original dataset with original columns names\n",
    "df_path = '../datasets/obesity/train_renamed.csv'\n",
    "df = pd.read_csv(df_path, index_col=0)\n",
    "\n",
    "# testing dataset - unfortunately just the training dataset with no correct classes, but interesting\n",
    "# nonetheless, to get the result you'd need to submit it to the project/competition page \n",
    "# test_df_path = '../datasets/obesity/test.csv' # -  original dataset with original columns names\n",
    "test_df_path = '../datasets/obesity/test_renamed.csv'\n",
    "test_df = pd.read_csv(test_df_path, index_col=0)"
   ]
  },
  {
   "cell_type": "markdown",
   "id": "9232b5fc-1d5b-4bf3-9edd-6049aefc2cea",
   "metadata": {
    "jp-MarkdownHeadingCollapsed": true
   },
   "source": [
    "### Column renaming to human-readable - commented for notebook rerun ability\n",
    "plus **nunique** explorations\n",
    "\n",
    "one time operation, from now on we will be operating on datasets with these changes applied"
   ]
  },
  {
   "cell_type": "markdown",
   "id": "83cb9c5e-9c3c-4045-915d-33b5d111a7fc",
   "metadata": {},
   "source": [
    "By scheme of:\n",
    "* family_history_with_overweight                   -> family_history\n",
    "* FAVC - Frequent consumption of high caloric food -> high_caloric_cons\n",
    "* FCVC - Frequency of consumption of vegetables    -> vegetable_freq\n",
    "* NCP - Number of main meals                       -> main_meals\n",
    "* CAEC - Consumption of food between meals         -> between_cons\n",
    "* CH20 - Consumption of water daily                -> water_cons \n",
    "* CALC - Consumption of alcohol                    -> alcohol_cons\n",
    "* SCC - Calories consumption monitoring            -> calorie_monitor\n",
    "* FAF - Physical activity frequency                -> physical_freq\n",
    "* TUE - Time using technology devices              -> device_time\n",
    "* MTRANS - (method of) Transportation used         -> method_trans\n",
    "\n",
    "Additionally, every column name will be uniformized to lowercase"
   ]
  },
  {
   "cell_type": "code",
   "execution_count": 55,
   "id": "757988df-9982-4048-a30f-3086ff5c3b81",
   "metadata": {},
   "outputs": [
    {
     "data": {
      "text/html": [
       "<div>\n",
       "<style scoped>\n",
       "    .dataframe tbody tr th:only-of-type {\n",
       "        vertical-align: middle;\n",
       "    }\n",
       "\n",
       "    .dataframe tbody tr th {\n",
       "        vertical-align: top;\n",
       "    }\n",
       "\n",
       "    .dataframe thead th {\n",
       "        text-align: right;\n",
       "    }\n",
       "</style>\n",
       "<table border=\"1\" class=\"dataframe\">\n",
       "  <thead>\n",
       "    <tr style=\"text-align: right;\">\n",
       "      <th></th>\n",
       "      <th>Gender</th>\n",
       "      <th>Age</th>\n",
       "      <th>Height</th>\n",
       "      <th>Weight</th>\n",
       "      <th>family_history_with_overweight</th>\n",
       "      <th>FAVC</th>\n",
       "      <th>FCVC</th>\n",
       "      <th>NCP</th>\n",
       "      <th>CAEC</th>\n",
       "      <th>SMOKE</th>\n",
       "      <th>CH2O</th>\n",
       "      <th>SCC</th>\n",
       "      <th>FAF</th>\n",
       "      <th>TUE</th>\n",
       "      <th>CALC</th>\n",
       "      <th>MTRANS</th>\n",
       "      <th>NObeyesdad</th>\n",
       "    </tr>\n",
       "    <tr>\n",
       "      <th>id</th>\n",
       "      <th></th>\n",
       "      <th></th>\n",
       "      <th></th>\n",
       "      <th></th>\n",
       "      <th></th>\n",
       "      <th></th>\n",
       "      <th></th>\n",
       "      <th></th>\n",
       "      <th></th>\n",
       "      <th></th>\n",
       "      <th></th>\n",
       "      <th></th>\n",
       "      <th></th>\n",
       "      <th></th>\n",
       "      <th></th>\n",
       "      <th></th>\n",
       "      <th></th>\n",
       "    </tr>\n",
       "  </thead>\n",
       "  <tbody>\n",
       "    <tr>\n",
       "      <th>18579</th>\n",
       "      <td>Female</td>\n",
       "      <td>19.673262</td>\n",
       "      <td>1.792378</td>\n",
       "      <td>151.417292</td>\n",
       "      <td>yes</td>\n",
       "      <td>yes</td>\n",
       "      <td>3.000000</td>\n",
       "      <td>3.0</td>\n",
       "      <td>Sometimes</td>\n",
       "      <td>no</td>\n",
       "      <td>2.837797</td>\n",
       "      <td>no</td>\n",
       "      <td>1.999897</td>\n",
       "      <td>0.727828</td>\n",
       "      <td>Sometimes</td>\n",
       "      <td>Public_Transportation</td>\n",
       "      <td>Obesity_Type_III</td>\n",
       "    </tr>\n",
       "    <tr>\n",
       "      <th>12143</th>\n",
       "      <td>Male</td>\n",
       "      <td>26.699317</td>\n",
       "      <td>1.789992</td>\n",
       "      <td>119.201465</td>\n",
       "      <td>yes</td>\n",
       "      <td>yes</td>\n",
       "      <td>2.195964</td>\n",
       "      <td>3.0</td>\n",
       "      <td>Sometimes</td>\n",
       "      <td>no</td>\n",
       "      <td>2.511399</td>\n",
       "      <td>no</td>\n",
       "      <td>0.691369</td>\n",
       "      <td>0.000000</td>\n",
       "      <td>Sometimes</td>\n",
       "      <td>Automobile</td>\n",
       "      <td>Obesity_Type_II</td>\n",
       "    </tr>\n",
       "    <tr>\n",
       "      <th>17910</th>\n",
       "      <td>Male</td>\n",
       "      <td>30.000000</td>\n",
       "      <td>1.780000</td>\n",
       "      <td>78.000000</td>\n",
       "      <td>yes</td>\n",
       "      <td>yes</td>\n",
       "      <td>1.000000</td>\n",
       "      <td>3.0</td>\n",
       "      <td>Frequently</td>\n",
       "      <td>no</td>\n",
       "      <td>2.000000</td>\n",
       "      <td>no</td>\n",
       "      <td>2.000000</td>\n",
       "      <td>0.000000</td>\n",
       "      <td>Sometimes</td>\n",
       "      <td>Public_Transportation</td>\n",
       "      <td>Normal_Weight</td>\n",
       "    </tr>\n",
       "    <tr>\n",
       "      <th>7667</th>\n",
       "      <td>Male</td>\n",
       "      <td>20.634694</td>\n",
       "      <td>1.699818</td>\n",
       "      <td>82.919584</td>\n",
       "      <td>yes</td>\n",
       "      <td>yes</td>\n",
       "      <td>1.936479</td>\n",
       "      <td>3.0</td>\n",
       "      <td>Sometimes</td>\n",
       "      <td>no</td>\n",
       "      <td>2.000000</td>\n",
       "      <td>no</td>\n",
       "      <td>0.835271</td>\n",
       "      <td>1.000000</td>\n",
       "      <td>Sometimes</td>\n",
       "      <td>Public_Transportation</td>\n",
       "      <td>Overweight_Level_II</td>\n",
       "    </tr>\n",
       "    <tr>\n",
       "      <th>1528</th>\n",
       "      <td>Male</td>\n",
       "      <td>18.000000</td>\n",
       "      <td>1.790000</td>\n",
       "      <td>108.000000</td>\n",
       "      <td>yes</td>\n",
       "      <td>yes</td>\n",
       "      <td>2.000000</td>\n",
       "      <td>3.0</td>\n",
       "      <td>Sometimes</td>\n",
       "      <td>no</td>\n",
       "      <td>2.000000</td>\n",
       "      <td>no</td>\n",
       "      <td>2.000000</td>\n",
       "      <td>1.000000</td>\n",
       "      <td>Sometimes</td>\n",
       "      <td>Public_Transportation</td>\n",
       "      <td>Obesity_Type_I</td>\n",
       "    </tr>\n",
       "  </tbody>\n",
       "</table>\n",
       "</div>"
      ],
      "text/plain": [
       "       Gender        Age    Height      Weight family_history_with_overweight  \\\n",
       "id                                                                              \n",
       "18579  Female  19.673262  1.792378  151.417292                            yes   \n",
       "12143    Male  26.699317  1.789992  119.201465                            yes   \n",
       "17910    Male  30.000000  1.780000   78.000000                            yes   \n",
       "7667     Male  20.634694  1.699818   82.919584                            yes   \n",
       "1528     Male  18.000000  1.790000  108.000000                            yes   \n",
       "\n",
       "      FAVC      FCVC  NCP        CAEC SMOKE      CH2O SCC       FAF       TUE  \\\n",
       "id                                                                              \n",
       "18579  yes  3.000000  3.0   Sometimes    no  2.837797  no  1.999897  0.727828   \n",
       "12143  yes  2.195964  3.0   Sometimes    no  2.511399  no  0.691369  0.000000   \n",
       "17910  yes  1.000000  3.0  Frequently    no  2.000000  no  2.000000  0.000000   \n",
       "7667   yes  1.936479  3.0   Sometimes    no  2.000000  no  0.835271  1.000000   \n",
       "1528   yes  2.000000  3.0   Sometimes    no  2.000000  no  2.000000  1.000000   \n",
       "\n",
       "            CALC                 MTRANS           NObeyesdad  \n",
       "id                                                            \n",
       "18579  Sometimes  Public_Transportation     Obesity_Type_III  \n",
       "12143  Sometimes             Automobile      Obesity_Type_II  \n",
       "17910  Sometimes  Public_Transportation        Normal_Weight  \n",
       "7667   Sometimes  Public_Transportation  Overweight_Level_II  \n",
       "1528   Sometimes  Public_Transportation       Obesity_Type_I  "
      ]
     },
     "execution_count": 55,
     "metadata": {},
     "output_type": "execute_result"
    }
   ],
   "source": [
    "# df.sample(5)"
   ]
  },
  {
   "cell_type": "code",
   "execution_count": 56,
   "id": "709640ef-28a8-4a2a-8c06-807a756dc117",
   "metadata": {},
   "outputs": [],
   "source": [
    "# df = df.rename(columns = {\n",
    "#     'family_history_with_overweight': 'family_history',\n",
    "#     'FAVC': 'high_caloric_cons',\n",
    "#     'FCVC': 'vegetable_freq',\n",
    "#     'NCP': 'main_meals',\n",
    "#     'CAEC': 'between_meals_cons',\n",
    "#     'CH2O': 'water_cons',\n",
    "#     'CALC': 'alcohol_cons',\n",
    "#     'SCC': 'calorie_monitor',\n",
    "#     'FAF': 'physical_freq',\n",
    "#     'TUE' : 'device_time',\n",
    "#     'MTRANS': 'method_trans'\n",
    "# })"
   ]
  },
  {
   "cell_type": "code",
   "execution_count": 57,
   "id": "0cc073c4-43c0-436c-bb5c-92825aeb5aa7",
   "metadata": {},
   "outputs": [],
   "source": [
    "# df.columns = [col.lower() for col in df.columns]"
   ]
  },
  {
   "cell_type": "markdown",
   "id": "47e4999b-0fd8-4a48-8d12-3cfbcd9667b9",
   "metadata": {},
   "source": [
    "Let's also rename the target column name, from spanish to english"
   ]
  },
  {
   "cell_type": "code",
   "execution_count": 58,
   "id": "b5a87183-a837-485a-a9dc-35eb2b7b6f05",
   "metadata": {},
   "outputs": [],
   "source": [
    "# df = df.rename(columns = {'nobeyesdad': 'obesity_class'})"
   ]
  },
  {
   "cell_type": "code",
   "execution_count": 59,
   "id": "d4fc272b-1893-4efd-ba32-a87a7e1637ff",
   "metadata": {},
   "outputs": [
    {
     "data": {
      "text/plain": [
       "Index(['gender', 'age', 'height', 'weight', 'family_history',\n",
       "       'high_caloric_cons', 'vegetable_freq', 'main_meals',\n",
       "       'between_meals_cons', 'smoke', 'water_cons', 'calorie_monitor',\n",
       "       'physical_freq', 'device_time', 'alcohol_cons', 'method_trans',\n",
       "       'obesity_class'],\n",
       "      dtype='object')"
      ]
     },
     "execution_count": 59,
     "metadata": {},
     "output_type": "execute_result"
    }
   ],
   "source": [
    "# df.columns"
   ]
  },
  {
   "cell_type": "markdown",
   "id": "bacd08ae-4a9f-48d3-ae04-fdacc6fa2e80",
   "metadata": {},
   "source": [
    "#### Applying the column name transformations to the test dataset as well"
   ]
  },
  {
   "cell_type": "code",
   "execution_count": 60,
   "id": "aa86e8a9-0595-4a15-83a9-577ac3ec4552",
   "metadata": {},
   "outputs": [],
   "source": [
    "# test_df = test_df.rename(columns = {\n",
    "#     'family_history_with_overweight': 'family_history',\n",
    "#     'FAVC': 'high_caloric_cons',\n",
    "#     'FCVC': 'vegetable_freq',\n",
    "#     'NCP': 'main_meals',\n",
    "#     'CAEC': 'between_meals_cons',\n",
    "#     'CH2O': 'water_cons',\n",
    "#     'CALC': 'alcohol_cons',\n",
    "#     'SCC': 'calorie_monitor',\n",
    "#     'FAF': 'physical_freq',\n",
    "#     'TUE' : 'device_time',\n",
    "#     'MTRANS': 'method_trans'\n",
    "# })"
   ]
  },
  {
   "cell_type": "code",
   "execution_count": 61,
   "id": "70632bae-d51c-4c19-887e-78b8169bc9d9",
   "metadata": {},
   "outputs": [],
   "source": [
    "# test_df.columns = [col.lower() for col in test_df.columns]"
   ]
  },
  {
   "cell_type": "code",
   "execution_count": 62,
   "id": "7a4dbcf8-6537-4e88-a35e-dd038ff3306a",
   "metadata": {},
   "outputs": [
    {
     "data": {
      "text/plain": [
       "Index(['gender', 'age', 'height', 'weight', 'family_history',\n",
       "       'high_caloric_cons', 'vegetable_freq', 'main_meals',\n",
       "       'between_meals_cons', 'smoke', 'water_cons', 'calorie_monitor',\n",
       "       'physical_freq', 'device_time', 'alcohol_cons', 'method_trans'],\n",
       "      dtype='object')"
      ]
     },
     "execution_count": 62,
     "metadata": {},
     "output_type": "execute_result"
    }
   ],
   "source": [
    "# test_df.columns"
   ]
  },
  {
   "cell_type": "markdown",
   "id": "d0303460-6e29-4490-ba78-4404448ea7be",
   "metadata": {
    "jp-MarkdownHeadingCollapsed": true
   },
   "source": [
    "#### Saving the dataframes with new columns names"
   ]
  },
  {
   "cell_type": "code",
   "execution_count": 63,
   "id": "2516c4dd-b7c2-4bac-93a1-ac444964a196",
   "metadata": {},
   "outputs": [],
   "source": [
    "df.to_csv('../datasets/obesity/train_renamed.csv')\n",
    "test_df.to_csv('../datasets/obesity/test_renamed.csv')"
   ]
  },
  {
   "cell_type": "code",
   "execution_count": 14,
   "id": "ab2e8f93-44eb-494d-bff0-4a06da65e063",
   "metadata": {},
   "outputs": [
    {
     "data": {
      "text/plain": [
       "Gender                               2\n",
       "Age                               1703\n",
       "Height                            1833\n",
       "Weight                            1979\n",
       "family_history_with_overweight       2\n",
       "FAVC                                 2\n",
       "FCVC                               934\n",
       "NCP                                689\n",
       "CAEC                                 4\n",
       "SMOKE                                2\n",
       "CH2O                              1506\n",
       "SCC                                  2\n",
       "FAF                               1360\n",
       "TUE                               1297\n",
       "CALC                                 3\n",
       "MTRANS                               5\n",
       "NObeyesdad                           7\n",
       "dtype: int64"
      ]
     },
     "execution_count": 14,
     "metadata": {},
     "output_type": "execute_result"
    }
   ],
   "source": [
    "df.nunique()"
   ]
  },
  {
   "cell_type": "markdown",
   "id": "83bd7059-5c6c-48be-ad3b-7386cdb959c3",
   "metadata": {},
   "source": [
    "#### Further nunique explorations"
   ]
  },
  {
   "cell_type": "markdown",
   "id": "5f23fc1e-ee53-4d29-b034-d2f0029d8d3e",
   "metadata": {},
   "source": [
    "It seems there are many binary columns (2 unique values) - we'll be changing that. But also - what is happening with the age column? 1703 unique values? Surely that's not possible. Let's examine that."
   ]
  },
  {
   "cell_type": "code",
   "execution_count": 15,
   "id": "436a6baf-92ba-4630-984e-99add43414be",
   "metadata": {},
   "outputs": [
    {
     "data": {
      "text/plain": [
       "id\n",
       "0        24.443011\n",
       "1        18.000000\n",
       "2        18.000000\n",
       "3        20.952737\n",
       "4        31.641081\n",
       "           ...    \n",
       "20753    25.137087\n",
       "20754    18.000000\n",
       "20755    20.101026\n",
       "20756    33.852953\n",
       "20757    26.680376\n",
       "Name: Age, Length: 20758, dtype: float64"
      ]
     },
     "execution_count": 15,
     "metadata": {},
     "output_type": "execute_result"
    }
   ],
   "source": [
    "df['Age']"
   ]
  },
  {
   "cell_type": "markdown",
   "id": "0e4c2763-964b-4ec0-9336-453559e9b70b",
   "metadata": {},
   "source": [
    "Ah, it seems the ages, generated for the dataset were either allowed to be float values, or they were taken from the exact date of birth - doubtly necessary."
   ]
  },
  {
   "cell_type": "markdown",
   "id": "536a6845-2399-4224-bbce-1eaf547592eb",
   "metadata": {},
   "source": [
    "Let's look at the other columns of high uniqueness of values"
   ]
  },
  {
   "cell_type": "code",
   "execution_count": 16,
   "id": "7c2a2f66-2b0d-4aea-9774-b73910525f9a",
   "metadata": {},
   "outputs": [
    {
     "data": {
      "text/plain": [
       "id\n",
       "0        1.699998\n",
       "1        1.560000\n",
       "2        1.711460\n",
       "3        1.710730\n",
       "4        1.914186\n",
       "           ...   \n",
       "20753    1.766626\n",
       "20754    1.710000\n",
       "20755    1.819557\n",
       "20756    1.700000\n",
       "20757    1.816547\n",
       "Name: Height, Length: 20758, dtype: float64"
      ]
     },
     "execution_count": 16,
     "metadata": {},
     "output_type": "execute_result"
    }
   ],
   "source": [
    "df['Height']"
   ]
  },
  {
   "cell_type": "markdown",
   "id": "24f7fd29-1b14-4b37-9762-cfe64e80d619",
   "metadata": {},
   "source": [
    "The data is presented in meters - we really need such precision or should rounding to the second decimal place be enough? To improve model generality and learning, a rounding approach will be taken"
   ]
  },
  {
   "cell_type": "code",
   "execution_count": 17,
   "id": "30ff773a-e38e-44b5-b3ff-3ff2bedb55c6",
   "metadata": {},
   "outputs": [
    {
     "data": {
      "text/plain": [
       "id\n",
       "0         81.669950\n",
       "1         57.000000\n",
       "2         50.165754\n",
       "3        131.274851\n",
       "4         93.798055\n",
       "            ...    \n",
       "20753    114.187096\n",
       "20754     50.000000\n",
       "20755    105.580491\n",
       "20756     83.520113\n",
       "20757    118.134898\n",
       "Name: Weight, Length: 20758, dtype: float64"
      ]
     },
     "execution_count": 17,
     "metadata": {},
     "output_type": "execute_result"
    }
   ],
   "source": [
    "df['Weight']"
   ]
  },
  {
   "cell_type": "markdown",
   "id": "db49cbae-d2d0-4994-a684-c91febd6a804",
   "metadata": {},
   "source": [
    "## EDA"
   ]
  },
  {
   "cell_type": "markdown",
   "id": "5504d133-4482-47db-a7bd-8b136ff3d5f6",
   "metadata": {},
   "source": [
    "#### Head, dtypes, describe, info"
   ]
  },
  {
   "cell_type": "code",
   "execution_count": 67,
   "id": "27d92518-719d-4133-a8ec-80e14c1dd5b2",
   "metadata": {},
   "outputs": [
    {
     "data": {
      "text/html": [
       "<div>\n",
       "<style scoped>\n",
       "    .dataframe tbody tr th:only-of-type {\n",
       "        vertical-align: middle;\n",
       "    }\n",
       "\n",
       "    .dataframe tbody tr th {\n",
       "        vertical-align: top;\n",
       "    }\n",
       "\n",
       "    .dataframe thead th {\n",
       "        text-align: right;\n",
       "    }\n",
       "</style>\n",
       "<table border=\"1\" class=\"dataframe\">\n",
       "  <thead>\n",
       "    <tr style=\"text-align: right;\">\n",
       "      <th></th>\n",
       "      <th>gender</th>\n",
       "      <th>age</th>\n",
       "      <th>height</th>\n",
       "      <th>weight</th>\n",
       "      <th>family_history</th>\n",
       "      <th>high_caloric_cons</th>\n",
       "      <th>vegetable_freq</th>\n",
       "      <th>main_meals</th>\n",
       "      <th>between_meals_cons</th>\n",
       "      <th>smoke</th>\n",
       "      <th>water_cons</th>\n",
       "      <th>calorie_monitor</th>\n",
       "      <th>physical_freq</th>\n",
       "      <th>device_time</th>\n",
       "      <th>alcohol_cons</th>\n",
       "      <th>method_trans</th>\n",
       "      <th>obesity_class</th>\n",
       "    </tr>\n",
       "    <tr>\n",
       "      <th>id</th>\n",
       "      <th></th>\n",
       "      <th></th>\n",
       "      <th></th>\n",
       "      <th></th>\n",
       "      <th></th>\n",
       "      <th></th>\n",
       "      <th></th>\n",
       "      <th></th>\n",
       "      <th></th>\n",
       "      <th></th>\n",
       "      <th></th>\n",
       "      <th></th>\n",
       "      <th></th>\n",
       "      <th></th>\n",
       "      <th></th>\n",
       "      <th></th>\n",
       "      <th></th>\n",
       "    </tr>\n",
       "  </thead>\n",
       "  <tbody>\n",
       "    <tr>\n",
       "      <th>0</th>\n",
       "      <td>Male</td>\n",
       "      <td>24.443011</td>\n",
       "      <td>1.699998</td>\n",
       "      <td>81.669950</td>\n",
       "      <td>yes</td>\n",
       "      <td>yes</td>\n",
       "      <td>2.000000</td>\n",
       "      <td>2.983297</td>\n",
       "      <td>Sometimes</td>\n",
       "      <td>no</td>\n",
       "      <td>2.763573</td>\n",
       "      <td>no</td>\n",
       "      <td>0.000000</td>\n",
       "      <td>0.976473</td>\n",
       "      <td>Sometimes</td>\n",
       "      <td>Public_Transportation</td>\n",
       "      <td>Overweight_Level_II</td>\n",
       "    </tr>\n",
       "    <tr>\n",
       "      <th>1</th>\n",
       "      <td>Female</td>\n",
       "      <td>18.000000</td>\n",
       "      <td>1.560000</td>\n",
       "      <td>57.000000</td>\n",
       "      <td>yes</td>\n",
       "      <td>yes</td>\n",
       "      <td>2.000000</td>\n",
       "      <td>3.000000</td>\n",
       "      <td>Frequently</td>\n",
       "      <td>no</td>\n",
       "      <td>2.000000</td>\n",
       "      <td>no</td>\n",
       "      <td>1.000000</td>\n",
       "      <td>1.000000</td>\n",
       "      <td>no</td>\n",
       "      <td>Automobile</td>\n",
       "      <td>Normal_Weight</td>\n",
       "    </tr>\n",
       "    <tr>\n",
       "      <th>2</th>\n",
       "      <td>Female</td>\n",
       "      <td>18.000000</td>\n",
       "      <td>1.711460</td>\n",
       "      <td>50.165754</td>\n",
       "      <td>yes</td>\n",
       "      <td>yes</td>\n",
       "      <td>1.880534</td>\n",
       "      <td>1.411685</td>\n",
       "      <td>Sometimes</td>\n",
       "      <td>no</td>\n",
       "      <td>1.910378</td>\n",
       "      <td>no</td>\n",
       "      <td>0.866045</td>\n",
       "      <td>1.673584</td>\n",
       "      <td>no</td>\n",
       "      <td>Public_Transportation</td>\n",
       "      <td>Insufficient_Weight</td>\n",
       "    </tr>\n",
       "    <tr>\n",
       "      <th>3</th>\n",
       "      <td>Female</td>\n",
       "      <td>20.952737</td>\n",
       "      <td>1.710730</td>\n",
       "      <td>131.274851</td>\n",
       "      <td>yes</td>\n",
       "      <td>yes</td>\n",
       "      <td>3.000000</td>\n",
       "      <td>3.000000</td>\n",
       "      <td>Sometimes</td>\n",
       "      <td>no</td>\n",
       "      <td>1.674061</td>\n",
       "      <td>no</td>\n",
       "      <td>1.467863</td>\n",
       "      <td>0.780199</td>\n",
       "      <td>Sometimes</td>\n",
       "      <td>Public_Transportation</td>\n",
       "      <td>Obesity_Type_III</td>\n",
       "    </tr>\n",
       "    <tr>\n",
       "      <th>4</th>\n",
       "      <td>Male</td>\n",
       "      <td>31.641081</td>\n",
       "      <td>1.914186</td>\n",
       "      <td>93.798055</td>\n",
       "      <td>yes</td>\n",
       "      <td>yes</td>\n",
       "      <td>2.679664</td>\n",
       "      <td>1.971472</td>\n",
       "      <td>Sometimes</td>\n",
       "      <td>no</td>\n",
       "      <td>1.979848</td>\n",
       "      <td>no</td>\n",
       "      <td>1.967973</td>\n",
       "      <td>0.931721</td>\n",
       "      <td>Sometimes</td>\n",
       "      <td>Public_Transportation</td>\n",
       "      <td>Overweight_Level_II</td>\n",
       "    </tr>\n",
       "  </tbody>\n",
       "</table>\n",
       "</div>"
      ],
      "text/plain": [
       "    gender        age    height      weight family_history high_caloric_cons  \\\n",
       "id                                                                             \n",
       "0     Male  24.443011  1.699998   81.669950            yes               yes   \n",
       "1   Female  18.000000  1.560000   57.000000            yes               yes   \n",
       "2   Female  18.000000  1.711460   50.165754            yes               yes   \n",
       "3   Female  20.952737  1.710730  131.274851            yes               yes   \n",
       "4     Male  31.641081  1.914186   93.798055            yes               yes   \n",
       "\n",
       "    vegetable_freq  main_meals between_meals_cons smoke  water_cons  \\\n",
       "id                                                                    \n",
       "0         2.000000    2.983297          Sometimes    no    2.763573   \n",
       "1         2.000000    3.000000         Frequently    no    2.000000   \n",
       "2         1.880534    1.411685          Sometimes    no    1.910378   \n",
       "3         3.000000    3.000000          Sometimes    no    1.674061   \n",
       "4         2.679664    1.971472          Sometimes    no    1.979848   \n",
       "\n",
       "   calorie_monitor  physical_freq  device_time alcohol_cons  \\\n",
       "id                                                            \n",
       "0               no       0.000000     0.976473    Sometimes   \n",
       "1               no       1.000000     1.000000           no   \n",
       "2               no       0.866045     1.673584           no   \n",
       "3               no       1.467863     0.780199    Sometimes   \n",
       "4               no       1.967973     0.931721    Sometimes   \n",
       "\n",
       "             method_trans        obesity_class  \n",
       "id                                              \n",
       "0   Public_Transportation  Overweight_Level_II  \n",
       "1              Automobile        Normal_Weight  \n",
       "2   Public_Transportation  Insufficient_Weight  \n",
       "3   Public_Transportation     Obesity_Type_III  \n",
       "4   Public_Transportation  Overweight_Level_II  "
      ]
     },
     "execution_count": 67,
     "metadata": {},
     "output_type": "execute_result"
    }
   ],
   "source": [
    "df.head()"
   ]
  },
  {
   "cell_type": "code",
   "execution_count": 68,
   "id": "7619d65c-8ea1-45a3-9776-5aef410672fc",
   "metadata": {},
   "outputs": [
    {
     "data": {
      "text/plain": [
       "gender                 object\n",
       "age                   float64\n",
       "height                float64\n",
       "weight                float64\n",
       "family_history         object\n",
       "high_caloric_cons      object\n",
       "vegetable_freq        float64\n",
       "main_meals            float64\n",
       "between_meals_cons     object\n",
       "smoke                  object\n",
       "water_cons            float64\n",
       "calorie_monitor        object\n",
       "physical_freq         float64\n",
       "device_time           float64\n",
       "alcohol_cons           object\n",
       "method_trans           object\n",
       "obesity_class          object\n",
       "dtype: object"
      ]
     },
     "execution_count": 68,
     "metadata": {},
     "output_type": "execute_result"
    }
   ],
   "source": [
    "df.dtypes"
   ]
  },
  {
   "cell_type": "code",
   "execution_count": 69,
   "id": "16874b80-777c-46ad-826e-98818efa2062",
   "metadata": {},
   "outputs": [
    {
     "data": {
      "text/html": [
       "<div>\n",
       "<style scoped>\n",
       "    .dataframe tbody tr th:only-of-type {\n",
       "        vertical-align: middle;\n",
       "    }\n",
       "\n",
       "    .dataframe tbody tr th {\n",
       "        vertical-align: top;\n",
       "    }\n",
       "\n",
       "    .dataframe thead th {\n",
       "        text-align: right;\n",
       "    }\n",
       "</style>\n",
       "<table border=\"1\" class=\"dataframe\">\n",
       "  <thead>\n",
       "    <tr style=\"text-align: right;\">\n",
       "      <th></th>\n",
       "      <th>age</th>\n",
       "      <th>height</th>\n",
       "      <th>weight</th>\n",
       "      <th>vegetable_freq</th>\n",
       "      <th>main_meals</th>\n",
       "      <th>water_cons</th>\n",
       "      <th>physical_freq</th>\n",
       "      <th>device_time</th>\n",
       "    </tr>\n",
       "  </thead>\n",
       "  <tbody>\n",
       "    <tr>\n",
       "      <th>count</th>\n",
       "      <td>20758.000000</td>\n",
       "      <td>20758.000000</td>\n",
       "      <td>20758.000000</td>\n",
       "      <td>20758.000000</td>\n",
       "      <td>20758.000000</td>\n",
       "      <td>20758.000000</td>\n",
       "      <td>20758.000000</td>\n",
       "      <td>20758.000000</td>\n",
       "    </tr>\n",
       "    <tr>\n",
       "      <th>mean</th>\n",
       "      <td>23.841804</td>\n",
       "      <td>1.700245</td>\n",
       "      <td>87.887768</td>\n",
       "      <td>2.445908</td>\n",
       "      <td>2.761332</td>\n",
       "      <td>2.029418</td>\n",
       "      <td>0.981747</td>\n",
       "      <td>0.616756</td>\n",
       "    </tr>\n",
       "    <tr>\n",
       "      <th>std</th>\n",
       "      <td>5.688072</td>\n",
       "      <td>0.087312</td>\n",
       "      <td>26.379443</td>\n",
       "      <td>0.533218</td>\n",
       "      <td>0.705375</td>\n",
       "      <td>0.608467</td>\n",
       "      <td>0.838302</td>\n",
       "      <td>0.602113</td>\n",
       "    </tr>\n",
       "    <tr>\n",
       "      <th>min</th>\n",
       "      <td>14.000000</td>\n",
       "      <td>1.450000</td>\n",
       "      <td>39.000000</td>\n",
       "      <td>1.000000</td>\n",
       "      <td>1.000000</td>\n",
       "      <td>1.000000</td>\n",
       "      <td>0.000000</td>\n",
       "      <td>0.000000</td>\n",
       "    </tr>\n",
       "    <tr>\n",
       "      <th>25%</th>\n",
       "      <td>20.000000</td>\n",
       "      <td>1.631856</td>\n",
       "      <td>66.000000</td>\n",
       "      <td>2.000000</td>\n",
       "      <td>3.000000</td>\n",
       "      <td>1.792022</td>\n",
       "      <td>0.008013</td>\n",
       "      <td>0.000000</td>\n",
       "    </tr>\n",
       "    <tr>\n",
       "      <th>50%</th>\n",
       "      <td>22.815416</td>\n",
       "      <td>1.700000</td>\n",
       "      <td>84.064875</td>\n",
       "      <td>2.393837</td>\n",
       "      <td>3.000000</td>\n",
       "      <td>2.000000</td>\n",
       "      <td>1.000000</td>\n",
       "      <td>0.573887</td>\n",
       "    </tr>\n",
       "    <tr>\n",
       "      <th>75%</th>\n",
       "      <td>26.000000</td>\n",
       "      <td>1.762887</td>\n",
       "      <td>111.600553</td>\n",
       "      <td>3.000000</td>\n",
       "      <td>3.000000</td>\n",
       "      <td>2.549617</td>\n",
       "      <td>1.587406</td>\n",
       "      <td>1.000000</td>\n",
       "    </tr>\n",
       "    <tr>\n",
       "      <th>max</th>\n",
       "      <td>61.000000</td>\n",
       "      <td>1.975663</td>\n",
       "      <td>165.057269</td>\n",
       "      <td>3.000000</td>\n",
       "      <td>4.000000</td>\n",
       "      <td>3.000000</td>\n",
       "      <td>3.000000</td>\n",
       "      <td>2.000000</td>\n",
       "    </tr>\n",
       "  </tbody>\n",
       "</table>\n",
       "</div>"
      ],
      "text/plain": [
       "                age        height        weight  vegetable_freq    main_meals  \\\n",
       "count  20758.000000  20758.000000  20758.000000    20758.000000  20758.000000   \n",
       "mean      23.841804      1.700245     87.887768        2.445908      2.761332   \n",
       "std        5.688072      0.087312     26.379443        0.533218      0.705375   \n",
       "min       14.000000      1.450000     39.000000        1.000000      1.000000   \n",
       "25%       20.000000      1.631856     66.000000        2.000000      3.000000   \n",
       "50%       22.815416      1.700000     84.064875        2.393837      3.000000   \n",
       "75%       26.000000      1.762887    111.600553        3.000000      3.000000   \n",
       "max       61.000000      1.975663    165.057269        3.000000      4.000000   \n",
       "\n",
       "         water_cons  physical_freq   device_time  \n",
       "count  20758.000000   20758.000000  20758.000000  \n",
       "mean       2.029418       0.981747      0.616756  \n",
       "std        0.608467       0.838302      0.602113  \n",
       "min        1.000000       0.000000      0.000000  \n",
       "25%        1.792022       0.008013      0.000000  \n",
       "50%        2.000000       1.000000      0.573887  \n",
       "75%        2.549617       1.587406      1.000000  \n",
       "max        3.000000       3.000000      2.000000  "
      ]
     },
     "execution_count": 69,
     "metadata": {},
     "output_type": "execute_result"
    }
   ],
   "source": [
    "df.describe()"
   ]
  },
  {
   "cell_type": "markdown",
   "id": "e1d4d141-6d8b-427b-acc8-eebc0ba64f05",
   "metadata": {},
   "source": [
    "The metrics are obviously only being shown for numerical columns"
   ]
  },
  {
   "cell_type": "markdown",
   "id": "fcb3c1a3-5f75-4b8c-a615-a10d46fd80ef",
   "metadata": {},
   "source": [
    "#### Nulls, nuniques"
   ]
  },
  {
   "cell_type": "code",
   "execution_count": 70,
   "id": "db0abff4-4882-4834-826b-dab453686a18",
   "metadata": {
    "jp-MarkdownHeadingCollapsed": true
   },
   "outputs": [
    {
     "data": {
      "text/plain": [
       "gender                0\n",
       "age                   0\n",
       "height                0\n",
       "weight                0\n",
       "family_history        0\n",
       "high_caloric_cons     0\n",
       "vegetable_freq        0\n",
       "main_meals            0\n",
       "between_meals_cons    0\n",
       "smoke                 0\n",
       "water_cons            0\n",
       "calorie_monitor       0\n",
       "physical_freq         0\n",
       "device_time           0\n",
       "alcohol_cons          0\n",
       "method_trans          0\n",
       "obesity_class         0\n",
       "dtype: int64"
      ]
     },
     "execution_count": 70,
     "metadata": {},
     "output_type": "execute_result"
    }
   ],
   "source": [
    "df.isnull().sum()"
   ]
  },
  {
   "cell_type": "markdown",
   "id": "3deaaf28-6241-4358-bbad-fb7ca247decb",
   "metadata": {},
   "source": [
    "No nulls, beautiful"
   ]
  },
  {
   "cell_type": "code",
   "execution_count": 71,
   "id": "d222b96f-80ef-402a-abe8-b45d90dc04d4",
   "metadata": {},
   "outputs": [
    {
     "data": {
      "text/plain": [
       "gender                   2\n",
       "age                   1703\n",
       "height                1833\n",
       "weight                1979\n",
       "family_history           2\n",
       "high_caloric_cons        2\n",
       "vegetable_freq         934\n",
       "main_meals             689\n",
       "between_meals_cons       4\n",
       "smoke                    2\n",
       "water_cons            1506\n",
       "calorie_monitor          2\n",
       "physical_freq         1360\n",
       "device_time           1297\n",
       "alcohol_cons             3\n",
       "method_trans             5\n",
       "obesity_class            7\n",
       "dtype: int64"
      ]
     },
     "execution_count": 71,
     "metadata": {},
     "output_type": "execute_result"
    }
   ],
   "source": [
    "df.nunique()"
   ]
  },
  {
   "cell_type": "markdown",
   "id": "c164aa3b-2fbc-453d-962b-af4a1185feb4",
   "metadata": {},
   "source": [
    "### Data transformations\n",
    "All in all, the data will be transformed in the following ways:\n",
    "* The column names will be changed to be more human-readable, whilst maintaining conciseness\n",
    "* Age and other columns (above) values will be discretized (rounded) - age to integer, the rest to the second decimal place\n",
    "* columns of type object, if binary or categorical, will be encoded either one-hot, cardinally or whatever's needed\n",
    "\n",
    "Columns to round to 2:\n",
    "* height\n",
    "* weight\n",
    "* vegetable_freq \n",
    "* main_meals\n",
    "* water_cons\n",
    "* physical_freq\n",
    "* device_time"
   ]
  },
  {
   "cell_type": "markdown",
   "id": "29ed0653-2307-4838-91c2-40d3e43984c0",
   "metadata": {},
   "source": [
    "### Rounding, scaling, encoding - new dataset variable - df_eng"
   ]
  },
  {
   "cell_type": "code",
   "execution_count": 72,
   "id": "6c39c103-dd1e-4328-b2e0-1e785c5d560b",
   "metadata": {},
   "outputs": [],
   "source": [
    "df_eng = df.copy()"
   ]
  },
  {
   "cell_type": "markdown",
   "id": "abfe3ff3-ba3f-48de-9670-9e634f43aaa6",
   "metadata": {
    "jp-MarkdownHeadingCollapsed": true
   },
   "source": [
    "#### Scaling"
   ]
  },
  {
   "cell_type": "code",
   "execution_count": 73,
   "id": "438a63ec-7bbb-4dc6-a2cc-37bc665c25c0",
   "metadata": {},
   "outputs": [],
   "source": [
    "df_eng['age'] = round(df_eng['age'],0).astype('int')"
   ]
  },
  {
   "cell_type": "code",
   "execution_count": 77,
   "id": "1cec1ae5-799d-48ea-94ab-ae0cbb8fca43",
   "metadata": {},
   "outputs": [
    {
     "data": {
      "text/plain": [
       "Index(['gender', 'age', 'height', 'weight', 'family_history',\n",
       "       'high_caloric_cons', 'vegetable_freq', 'main_meals',\n",
       "       'between_meals_cons', 'smoke', 'water_cons', 'calorie_monitor',\n",
       "       'physical_freq', 'device_time', 'alcohol_cons', 'method_trans',\n",
       "       'obesity_class'],\n",
       "      dtype='object')"
      ]
     },
     "execution_count": 77,
     "metadata": {},
     "output_type": "execute_result"
    }
   ],
   "source": [
    "df_eng.columns"
   ]
  },
  {
   "cell_type": "code",
   "execution_count": 78,
   "id": "a7ca5469-8989-424b-8fd5-48d8c76e82f7",
   "metadata": {},
   "outputs": [],
   "source": [
    "to_round_cols = ['height', 'weight', 'vegetable_freq',\n",
    "                 'main_meals', 'water_cons', 'physical_freq',\n",
    "                 'device_time']"
   ]
  },
  {
   "cell_type": "code",
   "execution_count": 79,
   "id": "f248f64e-cb42-46f7-b220-3c72d4033cd4",
   "metadata": {},
   "outputs": [],
   "source": [
    "df_eng[to_round_cols] = round(df_eng[to_round_cols],2)"
   ]
  },
  {
   "cell_type": "code",
   "execution_count": 84,
   "id": "2c4ea124-840a-4f06-8f79-752a6ac9ac1f",
   "metadata": {},
   "outputs": [],
   "source": [
    "df_eng['weight'] = round(df['weight'],1)"
   ]
  },
  {
   "cell_type": "markdown",
   "id": "d434598a-18b6-45a8-9b23-2ce161bd79dd",
   "metadata": {},
   "source": [
    "Let's check the unique values count now"
   ]
  },
  {
   "cell_type": "code",
   "execution_count": 85,
   "id": "359d9ca3-860e-470f-af41-8ad8fe8f4d22",
   "metadata": {},
   "outputs": [
    {
     "data": {
      "text/plain": [
       "gender                  2\n",
       "age                    42\n",
       "height                 51\n",
       "weight                718\n",
       "family_history          2\n",
       "high_caloric_cons       2\n",
       "vegetable_freq        190\n",
       "main_meals            252\n",
       "between_meals_cons      4\n",
       "smoke                   2\n",
       "water_cons            200\n",
       "calorie_monitor         2\n",
       "physical_freq         266\n",
       "device_time           195\n",
       "alcohol_cons            3\n",
       "method_trans            5\n",
       "obesity_class           7\n",
       "dtype: int64"
      ]
     },
     "execution_count": 85,
     "metadata": {},
     "output_type": "execute_result"
    }
   ],
   "source": [
    "df_eng.nunique()"
   ]
  },
  {
   "cell_type": "markdown",
   "id": "e8b9ac25-7deb-498c-bb9a-6c519bb91313",
   "metadata": {},
   "source": [
    "Much more manageable"
   ]
  },
  {
   "cell_type": "markdown",
   "id": "3ae4960e-2235-439d-93e3-779b0d1672e7",
   "metadata": {},
   "source": [
    "#### Encoding"
   ]
  },
  {
   "cell_type": "code",
   "execution_count": 86,
   "id": "933299c5-c681-4ddf-ab1f-35401922bf72",
   "metadata": {},
   "outputs": [
    {
     "data": {
      "text/html": [
       "<div>\n",
       "<style scoped>\n",
       "    .dataframe tbody tr th:only-of-type {\n",
       "        vertical-align: middle;\n",
       "    }\n",
       "\n",
       "    .dataframe tbody tr th {\n",
       "        vertical-align: top;\n",
       "    }\n",
       "\n",
       "    .dataframe thead th {\n",
       "        text-align: right;\n",
       "    }\n",
       "</style>\n",
       "<table border=\"1\" class=\"dataframe\">\n",
       "  <thead>\n",
       "    <tr style=\"text-align: right;\">\n",
       "      <th></th>\n",
       "      <th>gender</th>\n",
       "      <th>age</th>\n",
       "      <th>height</th>\n",
       "      <th>weight</th>\n",
       "      <th>family_history</th>\n",
       "      <th>high_caloric_cons</th>\n",
       "      <th>vegetable_freq</th>\n",
       "      <th>main_meals</th>\n",
       "      <th>between_meals_cons</th>\n",
       "      <th>smoke</th>\n",
       "      <th>water_cons</th>\n",
       "      <th>calorie_monitor</th>\n",
       "      <th>physical_freq</th>\n",
       "      <th>device_time</th>\n",
       "      <th>alcohol_cons</th>\n",
       "      <th>method_trans</th>\n",
       "      <th>obesity_class</th>\n",
       "    </tr>\n",
       "    <tr>\n",
       "      <th>id</th>\n",
       "      <th></th>\n",
       "      <th></th>\n",
       "      <th></th>\n",
       "      <th></th>\n",
       "      <th></th>\n",
       "      <th></th>\n",
       "      <th></th>\n",
       "      <th></th>\n",
       "      <th></th>\n",
       "      <th></th>\n",
       "      <th></th>\n",
       "      <th></th>\n",
       "      <th></th>\n",
       "      <th></th>\n",
       "      <th></th>\n",
       "      <th></th>\n",
       "      <th></th>\n",
       "    </tr>\n",
       "  </thead>\n",
       "  <tbody>\n",
       "    <tr>\n",
       "      <th>6010</th>\n",
       "      <td>Male</td>\n",
       "      <td>21</td>\n",
       "      <td>1.72</td>\n",
       "      <td>104.9</td>\n",
       "      <td>yes</td>\n",
       "      <td>yes</td>\n",
       "      <td>2.00</td>\n",
       "      <td>1.92</td>\n",
       "      <td>Sometimes</td>\n",
       "      <td>no</td>\n",
       "      <td>1.85</td>\n",
       "      <td>no</td>\n",
       "      <td>0.0</td>\n",
       "      <td>1.41</td>\n",
       "      <td>no</td>\n",
       "      <td>Public_Transportation</td>\n",
       "      <td>Obesity_Type_II</td>\n",
       "    </tr>\n",
       "    <tr>\n",
       "      <th>9049</th>\n",
       "      <td>Male</td>\n",
       "      <td>23</td>\n",
       "      <td>1.75</td>\n",
       "      <td>95.3</td>\n",
       "      <td>yes</td>\n",
       "      <td>yes</td>\n",
       "      <td>2.00</td>\n",
       "      <td>3.00</td>\n",
       "      <td>Sometimes</td>\n",
       "      <td>no</td>\n",
       "      <td>2.08</td>\n",
       "      <td>no</td>\n",
       "      <td>2.0</td>\n",
       "      <td>1.40</td>\n",
       "      <td>no</td>\n",
       "      <td>Public_Transportation</td>\n",
       "      <td>Obesity_Type_I</td>\n",
       "    </tr>\n",
       "    <tr>\n",
       "      <th>13216</th>\n",
       "      <td>Male</td>\n",
       "      <td>23</td>\n",
       "      <td>1.87</td>\n",
       "      <td>121.7</td>\n",
       "      <td>yes</td>\n",
       "      <td>yes</td>\n",
       "      <td>2.72</td>\n",
       "      <td>2.99</td>\n",
       "      <td>Sometimes</td>\n",
       "      <td>no</td>\n",
       "      <td>1.57</td>\n",
       "      <td>no</td>\n",
       "      <td>0.9</td>\n",
       "      <td>0.00</td>\n",
       "      <td>Sometimes</td>\n",
       "      <td>Public_Transportation</td>\n",
       "      <td>Obesity_Type_II</td>\n",
       "    </tr>\n",
       "    <tr>\n",
       "      <th>12900</th>\n",
       "      <td>Female</td>\n",
       "      <td>18</td>\n",
       "      <td>1.55</td>\n",
       "      <td>56.0</td>\n",
       "      <td>no</td>\n",
       "      <td>yes</td>\n",
       "      <td>3.00</td>\n",
       "      <td>3.00</td>\n",
       "      <td>Frequently</td>\n",
       "      <td>no</td>\n",
       "      <td>2.00</td>\n",
       "      <td>no</td>\n",
       "      <td>1.0</td>\n",
       "      <td>1.00</td>\n",
       "      <td>Sometimes</td>\n",
       "      <td>Public_Transportation</td>\n",
       "      <td>Normal_Weight</td>\n",
       "    </tr>\n",
       "    <tr>\n",
       "      <th>15942</th>\n",
       "      <td>Female</td>\n",
       "      <td>23</td>\n",
       "      <td>1.60</td>\n",
       "      <td>84.0</td>\n",
       "      <td>yes</td>\n",
       "      <td>yes</td>\n",
       "      <td>2.00</td>\n",
       "      <td>3.00</td>\n",
       "      <td>Sometimes</td>\n",
       "      <td>no</td>\n",
       "      <td>2.00</td>\n",
       "      <td>no</td>\n",
       "      <td>2.0</td>\n",
       "      <td>0.00</td>\n",
       "      <td>Sometimes</td>\n",
       "      <td>Public_Transportation</td>\n",
       "      <td>Obesity_Type_I</td>\n",
       "    </tr>\n",
       "  </tbody>\n",
       "</table>\n",
       "</div>"
      ],
      "text/plain": [
       "       gender  age  height  weight family_history high_caloric_cons  \\\n",
       "id                                                                    \n",
       "6010     Male   21    1.72   104.9            yes               yes   \n",
       "9049     Male   23    1.75    95.3            yes               yes   \n",
       "13216    Male   23    1.87   121.7            yes               yes   \n",
       "12900  Female   18    1.55    56.0             no               yes   \n",
       "15942  Female   23    1.60    84.0            yes               yes   \n",
       "\n",
       "       vegetable_freq  main_meals between_meals_cons smoke  water_cons  \\\n",
       "id                                                                       \n",
       "6010             2.00        1.92          Sometimes    no        1.85   \n",
       "9049             2.00        3.00          Sometimes    no        2.08   \n",
       "13216            2.72        2.99          Sometimes    no        1.57   \n",
       "12900            3.00        3.00         Frequently    no        2.00   \n",
       "15942            2.00        3.00          Sometimes    no        2.00   \n",
       "\n",
       "      calorie_monitor  physical_freq  device_time alcohol_cons  \\\n",
       "id                                                               \n",
       "6010               no            0.0         1.41           no   \n",
       "9049               no            2.0         1.40           no   \n",
       "13216              no            0.9         0.00    Sometimes   \n",
       "12900              no            1.0         1.00    Sometimes   \n",
       "15942              no            2.0         0.00    Sometimes   \n",
       "\n",
       "                method_trans    obesity_class  \n",
       "id                                             \n",
       "6010   Public_Transportation  Obesity_Type_II  \n",
       "9049   Public_Transportation   Obesity_Type_I  \n",
       "13216  Public_Transportation  Obesity_Type_II  \n",
       "12900  Public_Transportation    Normal_Weight  \n",
       "15942  Public_Transportation   Obesity_Type_I  "
      ]
     },
     "execution_count": 86,
     "metadata": {},
     "output_type": "execute_result"
    }
   ],
   "source": [
    "df_eng.sample(5)"
   ]
  },
  {
   "cell_type": "markdown",
   "id": "dc189756-584b-4e5e-99c9-b838f60725ce",
   "metadata": {},
   "source": [
    "##### Yes/no to binary"
   ]
  },
  {
   "cell_type": "code",
   "execution_count": 87,
   "id": "becce0cd-4841-4a52-869e-49802cdcbb45",
   "metadata": {},
   "outputs": [],
   "source": [
    "yesno_cols = ['family_history', 'high_caloric_cons', 'smoke', 'calorie_monitor']"
   ]
  },
  {
   "cell_type": "code",
   "execution_count": 88,
   "id": "c6409963-b7fc-4d0b-8ab7-d0589293fba4",
   "metadata": {},
   "outputs": [
    {
     "name": "stderr",
     "output_type": "stream",
     "text": [
      "C:\\Users\\User\\AppData\\Local\\Temp\\ipykernel_22724\\293709219.py:2: FutureWarning: Downcasting behavior in `replace` is deprecated and will be removed in a future version. To retain the old behavior, explicitly call `result.infer_objects(copy=False)`. To opt-in to the future behavior, set `pd.set_option('future.no_silent_downcasting', True)`\n",
      "  df_eng[col] = df_eng[col].replace({'yes': 1, 'no': 0})\n"
     ]
    }
   ],
   "source": [
    "for col in yesno_cols:\n",
    "    df_eng[col] = df_eng[col].replace({'yes': 1, 'no': 0})"
   ]
  },
  {
   "cell_type": "markdown",
   "id": "f32e9983-7aa7-4369-a2d1-2632d2621da1",
   "metadata": {},
   "source": [
    "##### One hot"
   ]
  },
  {
   "cell_type": "code",
   "execution_count": 91,
   "id": "f6fdb001-f504-46c9-8901-2ee3f81fc62f",
   "metadata": {},
   "outputs": [],
   "source": [
    "one_hot_cols = ['gender', 'method_trans']"
   ]
  },
  {
   "cell_type": "code",
   "execution_count": 92,
   "id": "84af7a62-d274-42ab-bbbf-1eee25ce5a88",
   "metadata": {},
   "outputs": [],
   "source": [
    "df_eng = pd.get_dummies(df_eng, columns = one_hot_cols)"
   ]
  },
  {
   "cell_type": "markdown",
   "id": "42e4379e-e465-4e04-849a-35f0626e1970",
   "metadata": {},
   "source": [
    "##### cardinal columns"
   ]
  },
  {
   "cell_type": "code",
   "execution_count": 94,
   "id": "291a6eb5-7412-42a0-95cf-e737430713a7",
   "metadata": {},
   "outputs": [
    {
     "data": {
      "text/plain": [
       "array(['Sometimes', 'Frequently', 'no', 'Always'], dtype=object)"
      ]
     },
     "execution_count": 94,
     "metadata": {},
     "output_type": "execute_result"
    }
   ],
   "source": [
    "df_eng['between_meals_cons'].unique()"
   ]
  },
  {
   "cell_type": "code",
   "execution_count": 95,
   "id": "f727e8f4-26ab-43eb-a046-02d7ad8eb1b9",
   "metadata": {},
   "outputs": [
    {
     "data": {
      "text/plain": [
       "array(['Sometimes', 'no', 'Frequently'], dtype=object)"
      ]
     },
     "execution_count": 95,
     "metadata": {},
     "output_type": "execute_result"
    }
   ],
   "source": [
    "df_eng['alcohol_cons'].unique()"
   ]
  },
  {
   "cell_type": "code",
   "execution_count": 96,
   "id": "7def6ca0-972c-4004-8e96-3ffd27c39d58",
   "metadata": {},
   "outputs": [],
   "source": [
    "df_eng['between_meals_cons'] = df_eng['between_meals_cons'].map(\n",
    "    {\n",
    "        'no': 0,\n",
    "        'Sometimes': 1,\n",
    "        'Frequently': 2,\n",
    "        'Always': 3\n",
    "    }\n",
    ")"
   ]
  },
  {
   "cell_type": "code",
   "execution_count": 97,
   "id": "824fe101-8821-4f5f-8ffa-1170c978d3f0",
   "metadata": {},
   "outputs": [],
   "source": [
    "df_eng['alcohol_cons'] = df_eng['alcohol_cons'].map(\n",
    "    {\n",
    "        'no': 0,\n",
    "        'Sometimes': 1,\n",
    "        'Frequently': 2\n",
    "    }\n",
    ")"
   ]
  },
  {
   "cell_type": "markdown",
   "id": "a325fe56-5abd-4c83-97d9-6f3f3ce7eebe",
   "metadata": {},
   "source": [
    "##### The result"
   ]
  },
  {
   "cell_type": "code",
   "execution_count": 98,
   "id": "5347692a-05ec-4d06-aab4-332da7c2e986",
   "metadata": {},
   "outputs": [
    {
     "data": {
      "text/html": [
       "<div>\n",
       "<style scoped>\n",
       "    .dataframe tbody tr th:only-of-type {\n",
       "        vertical-align: middle;\n",
       "    }\n",
       "\n",
       "    .dataframe tbody tr th {\n",
       "        vertical-align: top;\n",
       "    }\n",
       "\n",
       "    .dataframe thead th {\n",
       "        text-align: right;\n",
       "    }\n",
       "</style>\n",
       "<table border=\"1\" class=\"dataframe\">\n",
       "  <thead>\n",
       "    <tr style=\"text-align: right;\">\n",
       "      <th></th>\n",
       "      <th>age</th>\n",
       "      <th>height</th>\n",
       "      <th>weight</th>\n",
       "      <th>family_history</th>\n",
       "      <th>high_caloric_cons</th>\n",
       "      <th>vegetable_freq</th>\n",
       "      <th>main_meals</th>\n",
       "      <th>between_meals_cons</th>\n",
       "      <th>smoke</th>\n",
       "      <th>water_cons</th>\n",
       "      <th>...</th>\n",
       "      <th>device_time</th>\n",
       "      <th>alcohol_cons</th>\n",
       "      <th>obesity_class</th>\n",
       "      <th>gender_Female</th>\n",
       "      <th>gender_Male</th>\n",
       "      <th>method_trans_Automobile</th>\n",
       "      <th>method_trans_Bike</th>\n",
       "      <th>method_trans_Motorbike</th>\n",
       "      <th>method_trans_Public_Transportation</th>\n",
       "      <th>method_trans_Walking</th>\n",
       "    </tr>\n",
       "    <tr>\n",
       "      <th>id</th>\n",
       "      <th></th>\n",
       "      <th></th>\n",
       "      <th></th>\n",
       "      <th></th>\n",
       "      <th></th>\n",
       "      <th></th>\n",
       "      <th></th>\n",
       "      <th></th>\n",
       "      <th></th>\n",
       "      <th></th>\n",
       "      <th></th>\n",
       "      <th></th>\n",
       "      <th></th>\n",
       "      <th></th>\n",
       "      <th></th>\n",
       "      <th></th>\n",
       "      <th></th>\n",
       "      <th></th>\n",
       "      <th></th>\n",
       "      <th></th>\n",
       "      <th></th>\n",
       "    </tr>\n",
       "  </thead>\n",
       "  <tbody>\n",
       "    <tr>\n",
       "      <th>19494</th>\n",
       "      <td>23</td>\n",
       "      <td>1.74</td>\n",
       "      <td>96.4</td>\n",
       "      <td>1</td>\n",
       "      <td>1</td>\n",
       "      <td>2.0</td>\n",
       "      <td>2.98</td>\n",
       "      <td>1</td>\n",
       "      <td>0</td>\n",
       "      <td>2.77</td>\n",
       "      <td>...</td>\n",
       "      <td>2.00</td>\n",
       "      <td>0</td>\n",
       "      <td>Obesity_Type_I</td>\n",
       "      <td>False</td>\n",
       "      <td>True</td>\n",
       "      <td>False</td>\n",
       "      <td>False</td>\n",
       "      <td>False</td>\n",
       "      <td>True</td>\n",
       "      <td>False</td>\n",
       "    </tr>\n",
       "    <tr>\n",
       "      <th>20578</th>\n",
       "      <td>20</td>\n",
       "      <td>1.75</td>\n",
       "      <td>75.0</td>\n",
       "      <td>0</td>\n",
       "      <td>0</td>\n",
       "      <td>3.0</td>\n",
       "      <td>3.00</td>\n",
       "      <td>2</td>\n",
       "      <td>1</td>\n",
       "      <td>1.00</td>\n",
       "      <td>...</td>\n",
       "      <td>0.00</td>\n",
       "      <td>1</td>\n",
       "      <td>Normal_Weight</td>\n",
       "      <td>False</td>\n",
       "      <td>True</td>\n",
       "      <td>False</td>\n",
       "      <td>False</td>\n",
       "      <td>False</td>\n",
       "      <td>True</td>\n",
       "      <td>False</td>\n",
       "    </tr>\n",
       "    <tr>\n",
       "      <th>20209</th>\n",
       "      <td>22</td>\n",
       "      <td>1.75</td>\n",
       "      <td>75.0</td>\n",
       "      <td>1</td>\n",
       "      <td>1</td>\n",
       "      <td>2.0</td>\n",
       "      <td>3.00</td>\n",
       "      <td>2</td>\n",
       "      <td>0</td>\n",
       "      <td>1.00</td>\n",
       "      <td>...</td>\n",
       "      <td>2.00</td>\n",
       "      <td>1</td>\n",
       "      <td>Overweight_Level_I</td>\n",
       "      <td>True</td>\n",
       "      <td>False</td>\n",
       "      <td>False</td>\n",
       "      <td>False</td>\n",
       "      <td>False</td>\n",
       "      <td>True</td>\n",
       "      <td>False</td>\n",
       "    </tr>\n",
       "    <tr>\n",
       "      <th>15950</th>\n",
       "      <td>26</td>\n",
       "      <td>1.65</td>\n",
       "      <td>104.8</td>\n",
       "      <td>1</td>\n",
       "      <td>1</td>\n",
       "      <td>3.0</td>\n",
       "      <td>3.00</td>\n",
       "      <td>1</td>\n",
       "      <td>0</td>\n",
       "      <td>2.84</td>\n",
       "      <td>...</td>\n",
       "      <td>0.12</td>\n",
       "      <td>1</td>\n",
       "      <td>Obesity_Type_III</td>\n",
       "      <td>True</td>\n",
       "      <td>False</td>\n",
       "      <td>False</td>\n",
       "      <td>False</td>\n",
       "      <td>False</td>\n",
       "      <td>True</td>\n",
       "      <td>False</td>\n",
       "    </tr>\n",
       "    <tr>\n",
       "      <th>18814</th>\n",
       "      <td>55</td>\n",
       "      <td>1.67</td>\n",
       "      <td>80.0</td>\n",
       "      <td>1</td>\n",
       "      <td>1</td>\n",
       "      <td>2.0</td>\n",
       "      <td>3.00</td>\n",
       "      <td>1</td>\n",
       "      <td>0</td>\n",
       "      <td>2.00</td>\n",
       "      <td>...</td>\n",
       "      <td>0.00</td>\n",
       "      <td>0</td>\n",
       "      <td>Overweight_Level_II</td>\n",
       "      <td>False</td>\n",
       "      <td>True</td>\n",
       "      <td>True</td>\n",
       "      <td>False</td>\n",
       "      <td>False</td>\n",
       "      <td>False</td>\n",
       "      <td>False</td>\n",
       "    </tr>\n",
       "  </tbody>\n",
       "</table>\n",
       "<p>5 rows × 22 columns</p>\n",
       "</div>"
      ],
      "text/plain": [
       "       age  height  weight  family_history  high_caloric_cons  vegetable_freq  \\\n",
       "id                                                                              \n",
       "19494   23    1.74    96.4               1                  1             2.0   \n",
       "20578   20    1.75    75.0               0                  0             3.0   \n",
       "20209   22    1.75    75.0               1                  1             2.0   \n",
       "15950   26    1.65   104.8               1                  1             3.0   \n",
       "18814   55    1.67    80.0               1                  1             2.0   \n",
       "\n",
       "       main_meals  between_meals_cons  smoke  water_cons  ...  device_time  \\\n",
       "id                                                        ...                \n",
       "19494        2.98                   1      0        2.77  ...         2.00   \n",
       "20578        3.00                   2      1        1.00  ...         0.00   \n",
       "20209        3.00                   2      0        1.00  ...         2.00   \n",
       "15950        3.00                   1      0        2.84  ...         0.12   \n",
       "18814        3.00                   1      0        2.00  ...         0.00   \n",
       "\n",
       "       alcohol_cons        obesity_class  gender_Female gender_Male  \\\n",
       "id                                                                    \n",
       "19494             0       Obesity_Type_I          False        True   \n",
       "20578             1        Normal_Weight          False        True   \n",
       "20209             1   Overweight_Level_I           True       False   \n",
       "15950             1     Obesity_Type_III           True       False   \n",
       "18814             0  Overweight_Level_II          False        True   \n",
       "\n",
       "       method_trans_Automobile  method_trans_Bike  method_trans_Motorbike  \\\n",
       "id                                                                          \n",
       "19494                    False              False                   False   \n",
       "20578                    False              False                   False   \n",
       "20209                    False              False                   False   \n",
       "15950                    False              False                   False   \n",
       "18814                     True              False                   False   \n",
       "\n",
       "       method_trans_Public_Transportation  method_trans_Walking  \n",
       "id                                                               \n",
       "19494                                True                 False  \n",
       "20578                                True                 False  \n",
       "20209                                True                 False  \n",
       "15950                                True                 False  \n",
       "18814                               False                 False  \n",
       "\n",
       "[5 rows x 22 columns]"
      ]
     },
     "execution_count": 98,
     "metadata": {},
     "output_type": "execute_result"
    }
   ],
   "source": [
    "df_eng.sample(5)"
   ]
  },
  {
   "cell_type": "code",
   "execution_count": 99,
   "id": "8e82594b-0ec2-47ba-ad2d-e46b5e4506fe",
   "metadata": {},
   "outputs": [
    {
     "data": {
      "text/plain": [
       "age                                     int32\n",
       "height                                float64\n",
       "weight                                float64\n",
       "family_history                          int64\n",
       "high_caloric_cons                       int64\n",
       "vegetable_freq                        float64\n",
       "main_meals                            float64\n",
       "between_meals_cons                      int64\n",
       "smoke                                   int64\n",
       "water_cons                            float64\n",
       "calorie_monitor                         int64\n",
       "physical_freq                         float64\n",
       "device_time                           float64\n",
       "alcohol_cons                            int64\n",
       "obesity_class                          object\n",
       "gender_Female                            bool\n",
       "gender_Male                              bool\n",
       "method_trans_Automobile                  bool\n",
       "method_trans_Bike                        bool\n",
       "method_trans_Motorbike                   bool\n",
       "method_trans_Public_Transportation       bool\n",
       "method_trans_Walking                     bool\n",
       "dtype: object"
      ]
     },
     "execution_count": 99,
     "metadata": {},
     "output_type": "execute_result"
    }
   ],
   "source": [
    "df_eng.dtypes"
   ]
  },
  {
   "cell_type": "markdown",
   "id": "5f879cc3-0847-4e2b-8c21-c2cd629de1b6",
   "metadata": {},
   "source": [
    "#### Saving the encoded format to new dataframe file"
   ]
  },
  {
   "cell_type": "code",
   "execution_count": 102,
   "id": "05cc5f7b-089a-47ad-b277-eb2506b3cca8",
   "metadata": {},
   "outputs": [],
   "source": [
    "df_eng.to_csv('../datasets/obesity/train_encoded.csv')"
   ]
  },
  {
   "cell_type": "markdown",
   "id": "3ecbe1f6-5abe-40ba-a3b5-c27d354f4186",
   "metadata": {},
   "source": [
    "### Data distributions"
   ]
  },
  {
   "cell_type": "code",
   "execution_count": 100,
   "id": "03f4c813-034b-4ac5-b4b0-05880c57103e",
   "metadata": {},
   "outputs": [
    {
     "data": {
      "text/plain": [
       "obesity_class\n",
       "Obesity_Type_III       4046\n",
       "Obesity_Type_II        3248\n",
       "Normal_Weight          3082\n",
       "Obesity_Type_I         2910\n",
       "Insufficient_Weight    2523\n",
       "Overweight_Level_II    2522\n",
       "Overweight_Level_I     2427\n",
       "Name: count, dtype: int64"
      ]
     },
     "execution_count": 100,
     "metadata": {},
     "output_type": "execute_result"
    }
   ],
   "source": [
    "df_eng['obesity_class'].value_counts()"
   ]
  },
  {
   "cell_type": "code",
   "execution_count": 101,
   "id": "247b6a0b-6299-47d2-b2b0-7338bd0c5131",
   "metadata": {},
   "outputs": [],
   "source": [
    "cols = df_eng.columns"
   ]
  },
  {
   "cell_type": "code",
   "execution_count": 103,
   "id": "7b92bcc5-b84c-4858-87b0-2607c4a8e2b5",
   "metadata": {},
   "outputs": [
    {
     "data": {
      "text/plain": [
       "<seaborn.axisgrid.FacetGrid at 0x1e76147c5e0>"
      ]
     },
     "execution_count": 103,
     "metadata": {},
     "output_type": "execute_result"
    },
    {
     "data": {
      "image/png": "[encoded data removed]",
      "text/plain": [
       "<Figure size 1200x1800 with 22 Axes>"
      ]
     },
     "metadata": {},
     "output_type": "display_data"
    }
   ],
   "source": [
    "g = sns.FacetGrid(pd.DataFrame(list(cols)), col=0, col_wrap=4, sharex=False, sharey=False)\n",
    "for ax, col in zip(g.axes, list(cols)):\n",
    "    sns.histplot(df_eng[col], ax=ax)\n",
    "g.set_xticklabels(rotation=-90)\n",
    "g.tight_layout()"
   ]
  },
  {
   "cell_type": "markdown",
   "id": "cc4ea992-4a5d-4ac0-9622-b9a935f26a1f",
   "metadata": {},
   "source": [
    "### TODO: df_eng and something about distributions within obsesity classes"
   ]
  },
  {
   "cell_type": "code",
   "execution_count": null,
   "id": "96027f69-e6b5-45ff-8404-e69223a69158",
   "metadata": {},
   "outputs": [],
   "source": []
  }
 ],
 "metadata": {
  "kernelspec": {
   "display_name": "ml_zoo_venv",
   "language": "python",
   "name": "ml_zoo_venv"
  },
  "language_info": {
   "codemirror_mode": {
    "name": "ipython",
    "version": 3
   },
   "file_extension": ".py",
   "mimetype": "text/x-python",
   "name": "python",
   "nbconvert_exporter": "python",
   "pygments_lexer": "ipython3",
   "version": "3.10.9"
  }
 },
 "nbformat": 4,
 "nbformat_minor": 5
}
