{
 "cells": [
  {
   "cell_type": "markdown",
   "id": "698e761f-e6c2-49e8-8253-57420f00a93d",
   "metadata": {},
   "source": [
    "### Project 1. Predicting Walmart Sales\n",
    "\n",
    "Predicting the weekly sales of 45 different Walmart Stores, based on data from 2010 - 2012.\n",
    "The factors considered include:\n",
    "* The average air temperature in the region\n",
    "* The cost of fuel in the region\n",
    "* That week's consumer price index\n",
    "* The unemployment rate in the region\n",
    "* Whether a holiday occured in that week\n",
    "* (engineered) the month the week happened in\n",
    "* (engineered) the week's number within the month\n",
    "\n",
    "The main goal of this project is to predict the weekly sales of any of the Walmart stores considered, using regression models, but, an additional task could involve the prediction of the store based on the sales and other factors"
   ]
  },
  {
   "cell_type": "code",
   "execution_count": 21,
   "id": "aa91a86c-6097-4758-b938-8b9ff6956cf5",
   "metadata": {},
   "outputs": [],
   "source": [
    "import pandas as pd\n",
    "import numpy as np\n",
    "import sklearn\n",
    "import plotly.express as px\n",
    "import plotly\n",
    "from plotly.subplots import make_subplots\n",
    "import plotly.graph_objects as go\n",
    "import matplotlib.pyplot as plt\n",
    "import seaborn as sns\n",
    "import pendulum\n",
    "\n",
    "from sklearn.tree import DecisionTreeRegressor\n",
    "from sklearn.model_selection import train_test_split\n",
    "from sklearn.metrics import mean_absolute_error\n",
    "from sklearn.ensemble import RandomForestRegressor\n",
    "\n",
    "from xgboost import XGBRegressor\n",
    "\n",
    "from sklearn.pipeline import Pipeline\n",
    "from sklearn.model_selection import cross_val_score\n",
    "\n",
    "from sklearn.preprocessing import StandardScaler\n",
    "from sklearn.metrics import r2_score\n",
    "from sklearn.compose import ColumnTransformer\n",
    "from sklearn.pipeline import Pipeline"
   ]
  },
  {
   "cell_type": "code",
   "execution_count": 2,
   "id": "e720f6ef-1469-49b1-97c0-041a242a1b26",
   "metadata": {},
   "outputs": [],
   "source": [
    "import os"
   ]
  },
  {
   "cell_type": "code",
   "execution_count": 3,
   "id": "2715e9f3-eed6-4e88-9d1c-63a883f9ad4d",
   "metadata": {},
   "outputs": [],
   "source": [
    "df_path  = '../datasets/walmart_sales.csv'"
   ]
  },
  {
   "cell_type": "code",
   "execution_count": 4,
   "id": "e20c5ea7-afe1-49ea-b7b4-105cb7e3ad85",
   "metadata": {},
   "outputs": [],
   "source": [
    "df = pd.read_csv(df_path)"
   ]
  },
  {
   "cell_type": "code",
   "execution_count": 9,
   "id": "53675e10-4b35-4028-a512-e694b8fcd4e9",
   "metadata": {},
   "outputs": [],
   "source": [
    "df_eng_path = '../datasets/walmart_sales_engineered.csv'\n",
    "df_eng = pd.read_csv(df_eng_path, index_col=0)"
   ]
  },
  {
   "cell_type": "code",
   "execution_count": 10,
   "id": "573ac177-ece8-4b50-87aa-620c610b2298",
   "metadata": {},
   "outputs": [
    {
     "data": {
      "text/html": [
       "<div>\n",
       "<style scoped>\n",
       "    .dataframe tbody tr th:only-of-type {\n",
       "        vertical-align: middle;\n",
       "    }\n",
       "\n",
       "    .dataframe tbody tr th {\n",
       "        vertical-align: top;\n",
       "    }\n",
       "\n",
       "    .dataframe thead th {\n",
       "        text-align: right;\n",
       "    }\n",
       "</style>\n",
       "<table border=\"1\" class=\"dataframe\">\n",
       "  <thead>\n",
       "    <tr style=\"text-align: right;\">\n",
       "      <th></th>\n",
       "      <th>Store</th>\n",
       "      <th>Date</th>\n",
       "      <th>Weekly_Sales</th>\n",
       "      <th>Holiday_Flag</th>\n",
       "      <th>Temperature</th>\n",
       "      <th>Fuel_Price</th>\n",
       "      <th>CPI</th>\n",
       "      <th>Unemployment</th>\n",
       "    </tr>\n",
       "  </thead>\n",
       "  <tbody>\n",
       "    <tr>\n",
       "      <th>0</th>\n",
       "      <td>1</td>\n",
       "      <td>05-02-2010</td>\n",
       "      <td>1643690.90</td>\n",
       "      <td>0</td>\n",
       "      <td>42.31</td>\n",
       "      <td>2.572</td>\n",
       "      <td>211.096358</td>\n",
       "      <td>8.106</td>\n",
       "    </tr>\n",
       "    <tr>\n",
       "      <th>1</th>\n",
       "      <td>1</td>\n",
       "      <td>12-02-2010</td>\n",
       "      <td>1641957.44</td>\n",
       "      <td>1</td>\n",
       "      <td>38.51</td>\n",
       "      <td>2.548</td>\n",
       "      <td>211.242170</td>\n",
       "      <td>8.106</td>\n",
       "    </tr>\n",
       "    <tr>\n",
       "      <th>2</th>\n",
       "      <td>1</td>\n",
       "      <td>19-02-2010</td>\n",
       "      <td>1611968.17</td>\n",
       "      <td>0</td>\n",
       "      <td>39.93</td>\n",
       "      <td>2.514</td>\n",
       "      <td>211.289143</td>\n",
       "      <td>8.106</td>\n",
       "    </tr>\n",
       "    <tr>\n",
       "      <th>3</th>\n",
       "      <td>1</td>\n",
       "      <td>26-02-2010</td>\n",
       "      <td>1409727.59</td>\n",
       "      <td>0</td>\n",
       "      <td>46.63</td>\n",
       "      <td>2.561</td>\n",
       "      <td>211.319643</td>\n",
       "      <td>8.106</td>\n",
       "    </tr>\n",
       "    <tr>\n",
       "      <th>4</th>\n",
       "      <td>1</td>\n",
       "      <td>05-03-2010</td>\n",
       "      <td>1554806.68</td>\n",
       "      <td>0</td>\n",
       "      <td>46.50</td>\n",
       "      <td>2.625</td>\n",
       "      <td>211.350143</td>\n",
       "      <td>8.106</td>\n",
       "    </tr>\n",
       "  </tbody>\n",
       "</table>\n",
       "</div>"
      ],
      "text/plain": [
       "   Store        Date  Weekly_Sales  Holiday_Flag  Temperature  Fuel_Price  \\\n",
       "0      1  05-02-2010    1643690.90             0        42.31       2.572   \n",
       "1      1  12-02-2010    1641957.44             1        38.51       2.548   \n",
       "2      1  19-02-2010    1611968.17             0        39.93       2.514   \n",
       "3      1  26-02-2010    1409727.59             0        46.63       2.561   \n",
       "4      1  05-03-2010    1554806.68             0        46.50       2.625   \n",
       "\n",
       "          CPI  Unemployment  \n",
       "0  211.096358         8.106  \n",
       "1  211.242170         8.106  \n",
       "2  211.289143         8.106  \n",
       "3  211.319643         8.106  \n",
       "4  211.350143         8.106  "
      ]
     },
     "execution_count": 10,
     "metadata": {},
     "output_type": "execute_result"
    }
   ],
   "source": [
    "df.head()"
   ]
  },
  {
   "cell_type": "code",
   "execution_count": 11,
   "id": "b3098353-bd6c-4be8-aa3e-718e69487654",
   "metadata": {},
   "outputs": [
    {
     "data": {
      "text/html": [
       "<div>\n",
       "<style scoped>\n",
       "    .dataframe tbody tr th:only-of-type {\n",
       "        vertical-align: middle;\n",
       "    }\n",
       "\n",
       "    .dataframe tbody tr th {\n",
       "        vertical-align: top;\n",
       "    }\n",
       "\n",
       "    .dataframe thead th {\n",
       "        text-align: right;\n",
       "    }\n",
       "</style>\n",
       "<table border=\"1\" class=\"dataframe\">\n",
       "  <thead>\n",
       "    <tr style=\"text-align: right;\">\n",
       "      <th></th>\n",
       "      <th>Store</th>\n",
       "      <th>Weekly_Sales</th>\n",
       "      <th>Holiday_Flag</th>\n",
       "      <th>Temperature</th>\n",
       "      <th>Fuel_Price</th>\n",
       "      <th>CPI</th>\n",
       "      <th>Unemployment</th>\n",
       "    </tr>\n",
       "  </thead>\n",
       "  <tbody>\n",
       "    <tr>\n",
       "      <th>count</th>\n",
       "      <td>6435.000000</td>\n",
       "      <td>6.435000e+03</td>\n",
       "      <td>6435.000000</td>\n",
       "      <td>6435.000000</td>\n",
       "      <td>6435.000000</td>\n",
       "      <td>6435.000000</td>\n",
       "      <td>6435.000000</td>\n",
       "    </tr>\n",
       "    <tr>\n",
       "      <th>mean</th>\n",
       "      <td>23.000000</td>\n",
       "      <td>1.046965e+06</td>\n",
       "      <td>0.069930</td>\n",
       "      <td>60.663782</td>\n",
       "      <td>3.358607</td>\n",
       "      <td>171.578394</td>\n",
       "      <td>7.999151</td>\n",
       "    </tr>\n",
       "    <tr>\n",
       "      <th>std</th>\n",
       "      <td>12.988182</td>\n",
       "      <td>5.643666e+05</td>\n",
       "      <td>0.255049</td>\n",
       "      <td>18.444933</td>\n",
       "      <td>0.459020</td>\n",
       "      <td>39.356712</td>\n",
       "      <td>1.875885</td>\n",
       "    </tr>\n",
       "    <tr>\n",
       "      <th>min</th>\n",
       "      <td>1.000000</td>\n",
       "      <td>2.099862e+05</td>\n",
       "      <td>0.000000</td>\n",
       "      <td>-2.060000</td>\n",
       "      <td>2.472000</td>\n",
       "      <td>126.064000</td>\n",
       "      <td>3.879000</td>\n",
       "    </tr>\n",
       "    <tr>\n",
       "      <th>25%</th>\n",
       "      <td>12.000000</td>\n",
       "      <td>5.533501e+05</td>\n",
       "      <td>0.000000</td>\n",
       "      <td>47.460000</td>\n",
       "      <td>2.933000</td>\n",
       "      <td>131.735000</td>\n",
       "      <td>6.891000</td>\n",
       "    </tr>\n",
       "    <tr>\n",
       "      <th>50%</th>\n",
       "      <td>23.000000</td>\n",
       "      <td>9.607460e+05</td>\n",
       "      <td>0.000000</td>\n",
       "      <td>62.670000</td>\n",
       "      <td>3.445000</td>\n",
       "      <td>182.616521</td>\n",
       "      <td>7.874000</td>\n",
       "    </tr>\n",
       "    <tr>\n",
       "      <th>75%</th>\n",
       "      <td>34.000000</td>\n",
       "      <td>1.420159e+06</td>\n",
       "      <td>0.000000</td>\n",
       "      <td>74.940000</td>\n",
       "      <td>3.735000</td>\n",
       "      <td>212.743293</td>\n",
       "      <td>8.622000</td>\n",
       "    </tr>\n",
       "    <tr>\n",
       "      <th>max</th>\n",
       "      <td>45.000000</td>\n",
       "      <td>3.818686e+06</td>\n",
       "      <td>1.000000</td>\n",
       "      <td>100.140000</td>\n",
       "      <td>4.468000</td>\n",
       "      <td>227.232807</td>\n",
       "      <td>14.313000</td>\n",
       "    </tr>\n",
       "  </tbody>\n",
       "</table>\n",
       "</div>"
      ],
      "text/plain": [
       "             Store  Weekly_Sales  Holiday_Flag  Temperature   Fuel_Price  \\\n",
       "count  6435.000000  6.435000e+03   6435.000000  6435.000000  6435.000000   \n",
       "mean     23.000000  1.046965e+06      0.069930    60.663782     3.358607   \n",
       "std      12.988182  5.643666e+05      0.255049    18.444933     0.459020   \n",
       "min       1.000000  2.099862e+05      0.000000    -2.060000     2.472000   \n",
       "25%      12.000000  5.533501e+05      0.000000    47.460000     2.933000   \n",
       "50%      23.000000  9.607460e+05      0.000000    62.670000     3.445000   \n",
       "75%      34.000000  1.420159e+06      0.000000    74.940000     3.735000   \n",
       "max      45.000000  3.818686e+06      1.000000   100.140000     4.468000   \n",
       "\n",
       "               CPI  Unemployment  \n",
       "count  6435.000000   6435.000000  \n",
       "mean    171.578394      7.999151  \n",
       "std      39.356712      1.875885  \n",
       "min     126.064000      3.879000  \n",
       "25%     131.735000      6.891000  \n",
       "50%     182.616521      7.874000  \n",
       "75%     212.743293      8.622000  \n",
       "max     227.232807     14.313000  "
      ]
     },
     "execution_count": 11,
     "metadata": {},
     "output_type": "execute_result"
    }
   ],
   "source": [
    "df.describe()"
   ]
  },
  {
   "cell_type": "markdown",
   "id": "37b63d31-22d4-487b-9220-75332ea2dfc6",
   "metadata": {},
   "source": [
    "### Dataframe with engineered features"
   ]
  },
  {
   "cell_type": "code",
   "execution_count": 12,
   "id": "d8a1185a-bb74-4c33-8534-c6e0cef35488",
   "metadata": {},
   "outputs": [
    {
     "data": {
      "text/html": [
       "<div>\n",
       "<style scoped>\n",
       "    .dataframe tbody tr th:only-of-type {\n",
       "        vertical-align: middle;\n",
       "    }\n",
       "\n",
       "    .dataframe tbody tr th {\n",
       "        vertical-align: top;\n",
       "    }\n",
       "\n",
       "    .dataframe thead th {\n",
       "        text-align: right;\n",
       "    }\n",
       "</style>\n",
       "<table border=\"1\" class=\"dataframe\">\n",
       "  <thead>\n",
       "    <tr style=\"text-align: right;\">\n",
       "      <th></th>\n",
       "      <th>store</th>\n",
       "      <th>date</th>\n",
       "      <th>weekly_sales</th>\n",
       "      <th>holiday_flag</th>\n",
       "      <th>temperature</th>\n",
       "      <th>fuel_price</th>\n",
       "      <th>cpi</th>\n",
       "      <th>unemployment</th>\n",
       "      <th>week_number</th>\n",
       "      <th>month</th>\n",
       "      <th>...</th>\n",
       "      <th>weekly_sales_diff</th>\n",
       "      <th>temperature_diff</th>\n",
       "      <th>fuel_price_diff</th>\n",
       "      <th>cpi_diff</th>\n",
       "      <th>unemployment_diff</th>\n",
       "      <th>prev_month</th>\n",
       "      <th>prev_week_number</th>\n",
       "      <th>prev_week_of_month</th>\n",
       "      <th>prev_holiday_flag</th>\n",
       "      <th>holiday_flag_diff</th>\n",
       "    </tr>\n",
       "  </thead>\n",
       "  <tbody>\n",
       "    <tr>\n",
       "      <th>0</th>\n",
       "      <td>1</td>\n",
       "      <td>2010-02-05</td>\n",
       "      <td>1643690.90</td>\n",
       "      <td>0</td>\n",
       "      <td>42.31</td>\n",
       "      <td>2.572</td>\n",
       "      <td>211.096358</td>\n",
       "      <td>8.106</td>\n",
       "      <td>5</td>\n",
       "      <td>2</td>\n",
       "      <td>...</td>\n",
       "      <td>0.00</td>\n",
       "      <td>0.00</td>\n",
       "      <td>0.000</td>\n",
       "      <td>0.000000</td>\n",
       "      <td>0.0</td>\n",
       "      <td>2.0</td>\n",
       "      <td>5</td>\n",
       "      <td>1.0</td>\n",
       "      <td>0.0</td>\n",
       "      <td>0.0</td>\n",
       "    </tr>\n",
       "    <tr>\n",
       "      <th>1</th>\n",
       "      <td>1</td>\n",
       "      <td>2010-02-12</td>\n",
       "      <td>1641957.44</td>\n",
       "      <td>1</td>\n",
       "      <td>38.51</td>\n",
       "      <td>2.548</td>\n",
       "      <td>211.242170</td>\n",
       "      <td>8.106</td>\n",
       "      <td>6</td>\n",
       "      <td>2</td>\n",
       "      <td>...</td>\n",
       "      <td>-1733.46</td>\n",
       "      <td>-3.80</td>\n",
       "      <td>-0.024</td>\n",
       "      <td>0.145812</td>\n",
       "      <td>0.0</td>\n",
       "      <td>2.0</td>\n",
       "      <td>5</td>\n",
       "      <td>1.0</td>\n",
       "      <td>0.0</td>\n",
       "      <td>1.0</td>\n",
       "    </tr>\n",
       "    <tr>\n",
       "      <th>2</th>\n",
       "      <td>1</td>\n",
       "      <td>2010-02-19</td>\n",
       "      <td>1611968.17</td>\n",
       "      <td>0</td>\n",
       "      <td>39.93</td>\n",
       "      <td>2.514</td>\n",
       "      <td>211.289143</td>\n",
       "      <td>8.106</td>\n",
       "      <td>7</td>\n",
       "      <td>2</td>\n",
       "      <td>...</td>\n",
       "      <td>-29989.27</td>\n",
       "      <td>1.42</td>\n",
       "      <td>-0.034</td>\n",
       "      <td>0.046973</td>\n",
       "      <td>0.0</td>\n",
       "      <td>2.0</td>\n",
       "      <td>6</td>\n",
       "      <td>2.0</td>\n",
       "      <td>1.0</td>\n",
       "      <td>-1.0</td>\n",
       "    </tr>\n",
       "    <tr>\n",
       "      <th>3</th>\n",
       "      <td>1</td>\n",
       "      <td>2010-02-26</td>\n",
       "      <td>1409727.59</td>\n",
       "      <td>0</td>\n",
       "      <td>46.63</td>\n",
       "      <td>2.561</td>\n",
       "      <td>211.319643</td>\n",
       "      <td>8.106</td>\n",
       "      <td>8</td>\n",
       "      <td>2</td>\n",
       "      <td>...</td>\n",
       "      <td>-202240.58</td>\n",
       "      <td>6.70</td>\n",
       "      <td>0.047</td>\n",
       "      <td>0.030500</td>\n",
       "      <td>0.0</td>\n",
       "      <td>2.0</td>\n",
       "      <td>7</td>\n",
       "      <td>3.0</td>\n",
       "      <td>0.0</td>\n",
       "      <td>0.0</td>\n",
       "    </tr>\n",
       "    <tr>\n",
       "      <th>4</th>\n",
       "      <td>1</td>\n",
       "      <td>2010-03-05</td>\n",
       "      <td>1554806.68</td>\n",
       "      <td>0</td>\n",
       "      <td>46.50</td>\n",
       "      <td>2.625</td>\n",
       "      <td>211.350143</td>\n",
       "      <td>8.106</td>\n",
       "      <td>9</td>\n",
       "      <td>3</td>\n",
       "      <td>...</td>\n",
       "      <td>145079.09</td>\n",
       "      <td>-0.13</td>\n",
       "      <td>0.064</td>\n",
       "      <td>0.030500</td>\n",
       "      <td>0.0</td>\n",
       "      <td>2.0</td>\n",
       "      <td>8</td>\n",
       "      <td>4.0</td>\n",
       "      <td>0.0</td>\n",
       "      <td>0.0</td>\n",
       "    </tr>\n",
       "  </tbody>\n",
       "</table>\n",
       "<p>5 rows × 26 columns</p>\n",
       "</div>"
      ],
      "text/plain": [
       "   store        date  weekly_sales  holiday_flag  temperature  fuel_price  \\\n",
       "0      1  2010-02-05    1643690.90             0        42.31       2.572   \n",
       "1      1  2010-02-12    1641957.44             1        38.51       2.548   \n",
       "2      1  2010-02-19    1611968.17             0        39.93       2.514   \n",
       "3      1  2010-02-26    1409727.59             0        46.63       2.561   \n",
       "4      1  2010-03-05    1554806.68             0        46.50       2.625   \n",
       "\n",
       "          cpi  unemployment  week_number  month  ...  weekly_sales_diff  \\\n",
       "0  211.096358         8.106            5      2  ...               0.00   \n",
       "1  211.242170         8.106            6      2  ...           -1733.46   \n",
       "2  211.289143         8.106            7      2  ...          -29989.27   \n",
       "3  211.319643         8.106            8      2  ...         -202240.58   \n",
       "4  211.350143         8.106            9      3  ...          145079.09   \n",
       "\n",
       "   temperature_diff  fuel_price_diff  cpi_diff  unemployment_diff  prev_month  \\\n",
       "0              0.00            0.000  0.000000                0.0         2.0   \n",
       "1             -3.80           -0.024  0.145812                0.0         2.0   \n",
       "2              1.42           -0.034  0.046973                0.0         2.0   \n",
       "3              6.70            0.047  0.030500                0.0         2.0   \n",
       "4             -0.13            0.064  0.030500                0.0         2.0   \n",
       "\n",
       "   prev_week_number  prev_week_of_month  prev_holiday_flag  holiday_flag_diff  \n",
       "0                 5                 1.0                0.0                0.0  \n",
       "1                 5                 1.0                0.0                1.0  \n",
       "2                 6                 2.0                1.0               -1.0  \n",
       "3                 7                 3.0                0.0                0.0  \n",
       "4                 8                 4.0                0.0                0.0  \n",
       "\n",
       "[5 rows x 26 columns]"
      ]
     },
     "execution_count": 12,
     "metadata": {},
     "output_type": "execute_result"
    }
   ],
   "source": [
    "df_eng.head()"
   ]
  },
  {
   "cell_type": "markdown",
   "id": "997bee44-75ac-4a24-8822-31e051520219",
   "metadata": {},
   "source": [
    "### Check for nulls - None found"
   ]
  },
  {
   "cell_type": "code",
   "execution_count": 13,
   "id": "99e7cdc6-ed31-44e5-b9b3-cbb034d13299",
   "metadata": {},
   "outputs": [
    {
     "data": {
      "text/plain": [
       "Store           0\n",
       "Date            0\n",
       "Weekly_Sales    0\n",
       "Holiday_Flag    0\n",
       "Temperature     0\n",
       "Fuel_Price      0\n",
       "CPI             0\n",
       "Unemployment    0\n",
       "dtype: int64"
      ]
     },
     "execution_count": 13,
     "metadata": {},
     "output_type": "execute_result"
    }
   ],
   "source": [
    "df.isnull().sum()"
   ]
  },
  {
   "cell_type": "markdown",
   "id": "57f2b349-fee1-4f9a-b633-4b8ccebfe7a6",
   "metadata": {},
   "source": [
    "### Let's uniform the columns names"
   ]
  },
  {
   "cell_type": "code",
   "execution_count": 14,
   "id": "308b32f9-f729-466c-8d3d-d627b89eff78",
   "metadata": {},
   "outputs": [],
   "source": [
    "df.columns = list(map(lambda col: col.lower().replace(' ', '_'), df.columns))"
   ]
  },
  {
   "cell_type": "markdown",
   "id": "7f0bde55-925e-4f23-98b3-11d0cfe3d61e",
   "metadata": {},
   "source": [
    "### General data stats - distributions, scatter matrix"
   ]
  },
  {
   "cell_type": "code",
   "execution_count": null,
   "id": "89176024-4409-4b1f-99f1-077e7e3eb5a9",
   "metadata": {},
   "outputs": [],
   "source": [
    "df.columns"
   ]
  },
  {
   "cell_type": "code",
   "execution_count": null,
   "id": "d8ec437c-7104-4468-a58f-98416be0a94c",
   "metadata": {},
   "outputs": [],
   "source": [
    "hist_fig = make_subplots(rows = 6, cols = 2,\n",
    "                        subplot_titles=(\"Store number\", \"Is holiday?\",\n",
    "                                        \"Weekly sales\",\n",
    "                                        \"Temperature\",\n",
    "                                        \"Fuel price\",\n",
    "                                        \"CPI\",\n",
    "                                        \"Unemployment\"),\n",
    "                        specs = [\n",
    "                            [{}, {}],\n",
    "                            [{\"colspan\": 2}, None],\n",
    "                            [{\"colspan\": 2}, None],\n",
    "                            [{\"colspan\": 2}, None],\n",
    "                            [{\"colspan\": 2}, None],\n",
    "                            [{\"colspan\": 2}, None],\n",
    "                        ],\n",
    "                        )"
   ]
  },
  {
   "cell_type": "code",
   "execution_count": null,
   "id": "06e6624e-b106-4fae-8c28-8f54f9ddc145",
   "metadata": {},
   "outputs": [],
   "source": [
    "hist_fig.add_trace(\n",
    "    go.Histogram(x=df['store']),\n",
    "    row=1, col=1\n",
    ")\n",
    "hist_fig.add_trace(\n",
    "    go.Histogram(x=df['holiday_flag']),\n",
    "    row=1, col=2\n",
    ")\n",
    "hist_fig.add_trace(\n",
    "    go.Histogram(x=df['weekly_sales']),\n",
    "    row=2, col=1\n",
    ")\n",
    "hist_fig.add_trace(\n",
    "    go.Histogram(x=df['temperature']),\n",
    "    row=3, col=1\n",
    ")\n",
    "hist_fig.add_trace(\n",
    "    go.Histogram(x=df['fuel_price']),\n",
    "    row=4, col=1\n",
    ")\n",
    "hist_fig.add_trace(\n",
    "    go.Histogram(x=df['cpi']),\n",
    "    row=5, col=1\n",
    ")\n",
    "hist_fig.add_trace(\n",
    "    go.Histogram(x=df['unemployment']),\n",
    "    row=6, col=1\n",
    ")\n",
    "\n",
    "hist_fig.update_layout(height = 1000, width = 1200)\n",
    "# hist_fig.update_layout(autosize=False)"
   ]
  },
  {
   "cell_type": "code",
   "execution_count": null,
   "id": "1520b101-e44d-4c21-8f5f-097a5cc7baaf",
   "metadata": {},
   "outputs": [],
   "source": [
    "scatter_fig = px.scatter_matrix(df)\n",
    "scatter_fig.update_layout(height = 1200, width = 1200)\n",
    "scatter_fig.show()"
   ]
  },
  {
   "cell_type": "markdown",
   "id": "c548aee5-69a3-4a76-88ea-a918dc25617a",
   "metadata": {},
   "source": [
    "It's rather high to make any substantial claims about any factor's relation to our predicted variable (weekly sales). No clear linear trends appear.  \n",
    "Still, the distribution plots appear more promising, with a healthy amount of variance and not a lot of extreme values for  any of the factors.  \n",
    "The only possibly suspicious distribution is that of the consumer price index, with a clear distribution split, implying either a change in how it is calculated at some point in time, a sudden change in the US Dollar's value or some other event, which may not fare well for the model's generalizational skills. Nevertheless, it will initially be considrered as one of the factors to include in the prediction."
   ]
  },
  {
   "cell_type": "markdown",
   "id": "cc114772-80a3-402a-9623-a1fb30444af3",
   "metadata": {},
   "source": [
    "### Datatype cleanup, extra feature engineering"
   ]
  },
  {
   "cell_type": "code",
   "execution_count": null,
   "id": "83cb6648-d01b-4d63-9f83-051414e79706",
   "metadata": {},
   "outputs": [],
   "source": [
    "df.dtypes"
   ]
  },
  {
   "cell_type": "code",
   "execution_count": null,
   "id": "de721ef9-274c-4d6c-9695-9fb615dc2620",
   "metadata": {},
   "outputs": [],
   "source": [
    "df['date'] = pd.to_datetime(df['date'], format=\"%d-%m-%Y\")"
   ]
  },
  {
   "cell_type": "markdown",
   "id": "f91f4488-e681-4526-b2a5-5bacfac8ddcf",
   "metadata": {},
   "source": [
    "### Extra features - week number, month, week of month"
   ]
  },
  {
   "cell_type": "code",
   "execution_count": null,
   "id": "6240401f-3d12-4d1c-81ee-9bd4f02a6e4a",
   "metadata": {},
   "outputs": [],
   "source": [
    "df['week_number'] = df['date'].dt.isocalendar().week"
   ]
  },
  {
   "cell_type": "code",
   "execution_count": null,
   "id": "ca8ef148-83b4-4539-b2b9-9dd1e27f9f0d",
   "metadata": {},
   "outputs": [],
   "source": [
    "df['month'] = df['date'].dt.month"
   ]
  },
  {
   "cell_type": "code",
   "execution_count": null,
   "id": "f148a885-ada9-499a-a1fc-fe6dcb645cd5",
   "metadata": {},
   "outputs": [],
   "source": [
    "df['week_of_month'] = df.apply(\n",
    "    lambda row: pendulum.parse(row['date'].strftime('%Y-%m-%d')).week_of_month,\n",
    "    axis=1\n",
    ")"
   ]
  },
  {
   "cell_type": "code",
   "execution_count": null,
   "id": "ac08f273-9310-4e4f-834d-408db8632e01",
   "metadata": {},
   "outputs": [],
   "source": [
    "df['week_of_month']"
   ]
  },
  {
   "cell_type": "code",
   "execution_count": null,
   "id": "60313622-2f4c-4029-814c-b8b9072d9adb",
   "metadata": {},
   "outputs": [],
   "source": [
    "scatter_fig_week = px.scatter_matrix(df,\n",
    "                                 dimensions = ['week_number', 'month', 'week_of_month', 'weekly_sales'])\n",
    "scatter_fig_week.update_layout(height = 1000, width = 1000)\n",
    "scatter_fig_week.show()"
   ]
  },
  {
   "cell_type": "markdown",
   "id": "99b10268-11e5-4343-8bff-c20bd5098a35",
   "metadata": {},
   "source": [
    "It would seem that typically week 4 is the big spender week in many of the stores. A similar rise can be ovserved in months 11 and 12 (november and december), which include both Thanksgiving Day and Christmas Holidays, which can drive up sales. Worth considering is also the following january fall in sales."
   ]
  },
  {
   "cell_type": "markdown",
   "id": "072e5ecc-b1f5-4fe1-9fc5-eca1d41f596a",
   "metadata": {},
   "source": [
    "### Extra features: previous week's sales, temperature, fuel price, did the previous week include a holiday and the differences between current week and last week"
   ]
  },
  {
   "cell_type": "markdown",
   "id": "c29cbe9c-ddcb-4187-8d44-ee859603eb6e",
   "metadata": {},
   "source": [
    "#### Get previous week's values for each store"
   ]
  },
  {
   "cell_type": "code",
   "execution_count": null,
   "id": "0d7c9217-f36d-4d99-84f7-2694ced862ae",
   "metadata": {},
   "outputs": [],
   "source": [
    "df['prev_weekly_sales'] = df.sort_values(['store','date']).groupby(['store'])['weekly_sales'].shift()"
   ]
  },
  {
   "cell_type": "markdown",
   "id": "bdfdbc12-8792-4d1c-b8b8-df5e6dee3303",
   "metadata": {},
   "source": [
    "#### Fill first week of data for each store with current value instead of 0 or leaving a NaN"
   ]
  },
  {
   "cell_type": "code",
   "execution_count": null,
   "id": "90bbb167-f165-458c-9ccc-f716229b43da",
   "metadata": {},
   "outputs": [],
   "source": [
    "df['prev_weekly_sales'] = df['prev_weekly_sales'].fillna(df['weekly_sales'])"
   ]
  },
  {
   "cell_type": "code",
   "execution_count": null,
   "id": "ff466961-f1d3-4c4c-98e0-dfb3ef51c823",
   "metadata": {},
   "outputs": [],
   "source": [
    "df['prev_temperature'] = df.sort_values(['store','date']).groupby(['store'])['temperature'].shift()\n",
    "df['prev_fuel_price'] = df.sort_values(['store','date']).groupby(['store'])['fuel_price'].shift()\n",
    "df['prev_cpi'] = df.sort_values(['store','date']).groupby(['store'])['cpi'].shift()\n",
    "df['prev_unemployment'] = df.sort_values(['store','date']).groupby(['store'])['unemployment'].shift()"
   ]
  },
  {
   "cell_type": "code",
   "execution_count": null,
   "id": "98b0528d-2d41-467a-a837-f285598f64ff",
   "metadata": {},
   "outputs": [],
   "source": [
    "df['prev_temperature'] = df['prev_temperature'].fillna(df['temperature'])\n",
    "df['prev_fuel_price'] = df['prev_fuel_price'].fillna(df['fuel_price'])\n",
    "df['prev_cpi'] = df['prev_cpi'].fillna(df['cpi'])\n",
    "df['prev_unemployment'] = df['prev_unemployment'].fillna(df['unemployment'])"
   ]
  },
  {
   "cell_type": "code",
   "execution_count": null,
   "id": "75d65be1-e850-4921-a62f-ad4a79017cf2",
   "metadata": {},
   "outputs": [],
   "source": [
    "df.head()"
   ]
  },
  {
   "cell_type": "markdown",
   "id": "5af0ca6b-2a38-46e9-9ab2-fb7b8e7f9a2b",
   "metadata": {},
   "source": [
    "#### Calculate differences from previous week to current"
   ]
  },
  {
   "cell_type": "code",
   "execution_count": null,
   "id": "f86d5493-38df-4d69-80c8-3d4bd04d1e67",
   "metadata": {},
   "outputs": [],
   "source": [
    "prev_cols = ['weekly_sales', 'temperature', 'fuel_price', 'cpi', 'unemployment', 'holiday_flag']\n",
    "for col in prev_cols:\n",
    "    df[f'{col}_diff'] = df[f'{col}'] - df[f'prev_{col}']"
   ]
  },
  {
   "cell_type": "code",
   "execution_count": null,
   "id": "70b566e8-aed6-4a49-8c0f-79a9b01495bf",
   "metadata": {},
   "outputs": [],
   "source": [
    "df['prev_holiday_flag'] = df.sort_values(['store','date']).groupby(['store'])['holiday_flag'].shift()\n",
    "df['prev_holiday_flag'] = df['prev_holiday_flag'].fillna(df['holiday_flag'])"
   ]
  },
  {
   "cell_type": "markdown",
   "id": "002c59a2-0e00-4bf5-9171-162df595ef16",
   "metadata": {},
   "source": [
    "##### previous month, week"
   ]
  },
  {
   "cell_type": "code",
   "execution_count": null,
   "id": "8746d595-615a-48f5-8190-f519f03ebc1b",
   "metadata": {},
   "outputs": [],
   "source": [
    "df['prev_month'] = df.sort_values(['store','date']).groupby(['store'])['month'].shift()\n",
    "df['prev_month'] = df['prev_month'].fillna(df['month'])\n",
    "df['prev_week_number'] = df.sort_values(['store','date']).groupby(['store'])['week_number'].shift()\n",
    "df['prev_week_number'] = df['prev_week_number'].fillna(df['week_number'])\n",
    "df['prev_week_of_month'] = df.sort_values(['store','date']).groupby(['store'])['week_of_month'].shift()\n",
    "df['prev_week_of_month'] = df['prev_week_of_month'].fillna(df['week_of_month'])"
   ]
  },
  {
   "cell_type": "code",
   "execution_count": null,
   "id": "dbf03482-bd9b-4c28-91b1-5a9eb9e1a387",
   "metadata": {},
   "outputs": [],
   "source": [
    "df.head()"
   ]
  },
  {
   "cell_type": "markdown",
   "id": "1f287d3d-3adb-4f9a-b6f5-9a2712901909",
   "metadata": {},
   "source": [
    "### Scatter plot between calculated features and weekly sales"
   ]
  },
  {
   "cell_type": "code",
   "execution_count": null,
   "id": "2b13f989-781e-49ff-9171-3516e9227ef4",
   "metadata": {},
   "outputs": [],
   "source": [
    "scatter_2_cols = [f'prev_{col}' for col in prev_cols]\n",
    "# + [f'{col}_diff' for col in prev_cols]"
   ]
  },
  {
   "cell_type": "code",
   "execution_count": null,
   "id": "ef2bcd0a-baee-46d5-b9f1-fcc69fe471a7",
   "metadata": {},
   "outputs": [],
   "source": [
    "scatter_2_cols.append('weekly_sales')"
   ]
  },
  {
   "cell_type": "code",
   "execution_count": null,
   "id": "a5ed9be8-47b7-4a2d-a1fe-b63876bf2e82",
   "metadata": {},
   "outputs": [],
   "source": [
    "scatter_fig_2 = px.scatter_matrix(df,\n",
    "                                 dimensions = scatter_2_cols)\n",
    "scatter_fig_2.update_layout(height = 1400, width = 1400)\n",
    "scatter_fig_2.show()"
   ]
  },
  {
   "cell_type": "markdown",
   "id": "a5e7ac21-f0e4-4d78-a650-912ce31c00ef",
   "metadata": {},
   "source": [
    "### Let's try a first quick model, firstly without the extracted shifted / previou week features, then with them"
   ]
  },
  {
   "cell_type": "code",
   "execution_count": null,
   "id": "a388d174-b586-4741-9106-b8aa5a3d0a1f",
   "metadata": {},
   "outputs": [],
   "source": [
    "df.columns"
   ]
  },
  {
   "cell_type": "code",
   "execution_count": null,
   "id": "4c21176c-96de-4c0e-a74b-0d3ef45fe99d",
   "metadata": {},
   "outputs": [],
   "source": [
    "X_pure = df[['holiday_flag', 'temperature',\n",
    "       'fuel_price', 'cpi', 'unemployment', 'week_number', 'month',\n",
    "       'week_of_month']]\n",
    "y_pure = df[['weekly_sales']]"
   ]
  },
  {
   "cell_type": "markdown",
   "id": "18b70968-52c9-4437-b453-b654f7611855",
   "metadata": {},
   "source": [
    "#### Let's start with simple decision trees"
   ]
  },
  {
   "cell_type": "code",
   "execution_count": null,
   "id": "ca6fdce9-589f-47e5-9791-83ecd57bf6c9",
   "metadata": {},
   "outputs": [],
   "source": [
    "X_pure.head()"
   ]
  },
  {
   "cell_type": "code",
   "execution_count": null,
   "id": "5c25299d-ff5e-4cf9-8910-a9aa0093355a",
   "metadata": {},
   "outputs": [],
   "source": [
    "y_pure.head()"
   ]
  },
  {
   "cell_type": "code",
   "execution_count": null,
   "id": "839126d4-8afe-408c-ad03-192613d59c7e",
   "metadata": {},
   "outputs": [],
   "source": [
    "X_pure_train, X_pure_test, y_pure_train, y_pure_test = train_test_split(X_pure, y_pure, shuffle=True, train_size=0.8)"
   ]
  },
  {
   "cell_type": "code",
   "execution_count": null,
   "id": "4818664f-0845-4c9f-b686-9127b1f9c3df",
   "metadata": {},
   "outputs": [],
   "source": [
    "tree_model_pure = DecisionTreeRegressor()"
   ]
  },
  {
   "cell_type": "code",
   "execution_count": null,
   "id": "7f4f220a-8afd-47d1-b96a-aabb78302b0f",
   "metadata": {},
   "outputs": [],
   "source": [
    "tree_model_pure.fit(X_pure_train, y_pure_train)"
   ]
  },
  {
   "cell_type": "code",
   "execution_count": null,
   "id": "aa6c66b5-5329-40eb-91e6-b499d198d103",
   "metadata": {},
   "outputs": [],
   "source": [
    "tree_pure_preds = tree_model_pure.predict(X_pure_test)"
   ]
  },
  {
   "cell_type": "code",
   "execution_count": null,
   "id": "2f792085-3810-4ca1-93e0-53a77c550c15",
   "metadata": {},
   "outputs": [],
   "source": [
    "tree_pure_preds"
   ]
  },
  {
   "cell_type": "code",
   "execution_count": null,
   "id": "cd286f9b-a7c8-4555-a191-aeeedc54777f",
   "metadata": {},
   "outputs": [],
   "source": [
    "tree_pure_error = mean_absolute_error(y_pure_test, tree_pure_preds)\n",
    "tree_pure_error"
   ]
  },
  {
   "cell_type": "markdown",
   "id": "98f6fe3c-37bc-46be-a390-0b2472c34a0e",
   "metadata": {},
   "source": [
    "#### Oof, a mean absolute error of over 440k\n",
    "Let's see how much that actually is, in the context of our data"
   ]
  },
  {
   "cell_type": "code",
   "execution_count": null,
   "id": "2bf7f694-291b-4cc8-bedb-749f2e9b6f65",
   "metadata": {},
   "outputs": [],
   "source": [
    "max_sales = df['weekly_sales'].max()\n",
    "min_sales = df['weekly_sales'].min()\n",
    "avg_sales = df['weekly_sales'].mean()\n",
    "median_sales = df['weekly_sales'].median()\n",
    "sales_data = {'max': [max_sales], 'min': [min_sales], 'avg': [avg_sales], 'median': [median_sales]}\n",
    "sales_df = pd.DataFrame(sales_data, index=['tree'])"
   ]
  },
  {
   "cell_type": "code",
   "execution_count": null,
   "id": "8f1e87e6-b8a4-4999-82c6-bc81264608ef",
   "metadata": {},
   "outputs": [],
   "source": [
    "sales_df['mae_error'] = round(tree_pure_error,2)\n",
    "sales_df['mae_by_max'] = round(sales_df['mae_error'] * 100 / sales_df['max'],2)\n",
    "sales_df['mae_by_min'] = round(sales_df['mae_error'] * 100 / sales_df['min'],2)\n",
    "sales_df['mae_by_avg'] = round(sales_df['mae_error'] *100 / sales_df['avg'],2)\n",
    "sales_df['mae_by_median'] = round(sales_df['mae_error'] * 100 / sales_df['median'],2)"
   ]
  },
  {
   "cell_type": "code",
   "execution_count": null,
   "id": "1381952f-5768-4ffb-971f-1ba31d7aeada",
   "metadata": {},
   "outputs": [],
   "source": [
    "sales_df"
   ]
  },
  {
   "cell_type": "markdown",
   "id": "881938bc-f8f6-45a2-abc6-5c784e67f00f",
   "metadata": {},
   "source": [
    "### Basic decision tree with pure features results:\n",
    "As we can see, the mean error, reach as far as 42% of the mean sales value, making the trained model practically useless\n",
    "But - let's not get discouraged, as this is merely the first, extremely basic model we will look at"
   ]
  },
  {
   "cell_type": "markdown",
   "id": "559c5e1b-c64c-497d-ae8a-4f378da1da68",
   "metadata": {},
   "source": [
    "### Let's explore decision trees further, with different max number of leaf nodes\n",
    "As setting the maximum depth, will stop only at that depth, whilst choosing a maximum number of leaf nodes will try to optimize for best results and potentially drop some branches and reach a further overall depth"
   ]
  },
  {
   "cell_type": "code",
   "execution_count": null,
   "id": "afd50dbb-75af-4418-9b93-92ba8fb40894",
   "metadata": {},
   "outputs": [],
   "source": [
    "def get_tree_mae(max_leaf_nodes, train_X, val_X, train_y, val_y):\n",
    "    model = DecisionTreeRegressor(max_leaf_nodes = max_leaf_nodes)\n",
    "    model.fit(train_X, train_y)\n",
    "    preds_val = model.predict(val_X)\n",
    "    mae = mean_absolute_error(val_y, preds_val)\n",
    "    return mae"
   ]
  },
  {
   "cell_type": "code",
   "execution_count": null,
   "id": "bbdd6d97-ad50-4d95-8586-1a55a2694232",
   "metadata": {},
   "outputs": [],
   "source": [
    "best_pure_tree_mae = tree_pure_error\n",
    "for max_leaf_nodes in [5, 50, 200, 250, 350, 500, 1000, 1750, 2500, 5000]:\n",
    "    leaf_mae = get_tree_mae(max_leaf_nodes, X_pure_train, X_pure_test, y_pure_train, y_pure_test)\n",
    "    if leaf_mae < best_pure_tree_mae:\n",
    "        best_pure_tree_mae = leaf_mae\n",
    "    print(f'Max leaf nodes: {max_leaf_nodes}, MAE Error: {leaf_mae}')"
   ]
  },
  {
   "cell_type": "markdown",
   "id": "6402180b-8fc3-423b-899b-b3981c8047de",
   "metadata": {},
   "source": [
    "#### Under these parameters, the optional number of nodes lies somewhere about **200 max leaf nodes**\n",
    "as such, let's update our results dataframe"
   ]
  },
  {
   "cell_type": "code",
   "execution_count": null,
   "id": "620d3171-5315-418b-b8ff-09d85f943e3f",
   "metadata": {},
   "outputs": [],
   "source": [
    "sales_df['mae_error'] = round(best_pure_tree_mae,2)\n",
    "sales_df['mae_by_max'] = round(sales_df['mae_error'] * 100 / sales_df['max'],2)\n",
    "sales_df['mae_by_min'] = round(sales_df['mae_error'] * 100 / sales_df['min'],2)\n",
    "sales_df['mae_by_avg'] = round(sales_df['mae_error'] *100 / sales_df['avg'],2)\n",
    "sales_df['mae_by_median'] = round(sales_df['mae_error'] * 100 / sales_df['median'],2)"
   ]
  },
  {
   "cell_type": "code",
   "execution_count": null,
   "id": "e7544091-bcb9-4cdc-9bfd-d464d8d0e571",
   "metadata": {},
   "outputs": [],
   "source": [
    "sales_df"
   ]
  },
  {
   "cell_type": "markdown",
   "id": "2ea57216-1fb3-4cbf-af68-86613008472d",
   "metadata": {},
   "source": [
    "Still a third of the average sales - quite a lot"
   ]
  },
  {
   "cell_type": "markdown",
   "id": "a3c352eb-a5b7-4786-8d68-64d273f0370b",
   "metadata": {},
   "source": [
    "### Let's look at random forests"
   ]
  },
  {
   "cell_type": "code",
   "execution_count": null,
   "id": "17dd54e4-f8c1-49b5-95a2-b2c1853684d4",
   "metadata": {},
   "outputs": [],
   "source": [
    "random_forest_model = RandomForestRegressor()\n",
    "random_forest_model.fit(X_pure_train, y_pure_train.values.ravel())\n",
    "random_forest_preds = random_forest_model.predict(X_pure_test)\n",
    "random_forest_mae = mean_absolute_error(y_pure_test, random_forest_preds)\n",
    "round(random_forest_mae,2)"
   ]
  },
  {
   "cell_type": "code",
   "execution_count": null,
   "id": "42c6f8b8-7636-41d7-a099-1f9a665cbaf9",
   "metadata": {},
   "outputs": [],
   "source": [
    "maes_df = pd.DataFrame({'mae': [round(best_pure_tree_mae, 2)]})"
   ]
  },
  {
   "cell_type": "code",
   "execution_count": null,
   "id": "43486adf-8f58-4c6b-97d1-ebe128b11d12",
   "metadata": {},
   "outputs": [],
   "source": [
    "maes_df"
   ]
  },
  {
   "cell_type": "code",
   "execution_count": null,
   "id": "d1303789-648f-4d9a-b18e-e95a8591353b",
   "metadata": {},
   "outputs": [],
   "source": [
    "maes_df.index = ['tree_pure']"
   ]
  },
  {
   "cell_type": "code",
   "execution_count": null,
   "id": "cd024466-e9d5-413d-a6f3-a3ee4977379f",
   "metadata": {},
   "outputs": [],
   "source": [
    "random_forest_df = pd.DataFrame([random_forest_mae], columns=['mae'])"
   ]
  },
  {
   "cell_type": "code",
   "execution_count": null,
   "id": "cbb20429-ea27-4453-97ab-a1014141ada7",
   "metadata": {},
   "outputs": [],
   "source": [
    "random_forest_df.index = ['random_forest_pure']"
   ]
  },
  {
   "cell_type": "code",
   "execution_count": null,
   "id": "905ad90a-1b83-4390-bc44-1a690537bbac",
   "metadata": {},
   "outputs": [],
   "source": [
    "maes_df = pd.concat([maes_df, random_forest_df])"
   ]
  },
  {
   "cell_type": "code",
   "execution_count": null,
   "id": "4e137b5f-cb9a-4c43-b312-5947b4a4f9d0",
   "metadata": {},
   "outputs": [],
   "source": [
    "maes_df"
   ]
  },
  {
   "cell_type": "markdown",
   "id": "d9824335-e7b4-410e-a1b6-923bfd5cba52",
   "metadata": {},
   "source": [
    "### With one model clearly better, let's try to explore different dataset feature choices, before going into further model choices or data transformations"
   ]
  },
  {
   "cell_type": "code",
   "execution_count": null,
   "id": "57d45a09-4c73-48c1-968c-66962edfdabb",
   "metadata": {},
   "outputs": [],
   "source": [
    "df.columns"
   ]
  },
  {
   "cell_type": "markdown",
   "id": "af3042fa-ddba-43c9-95e1-037682da130a",
   "metadata": {},
   "source": [
    "#### Let's first look at very broad feature ranges, potentially removing singular features later"
   ]
  },
  {
   "cell_type": "code",
   "execution_count": null,
   "id": "4405f761-b2f2-41ad-bb14-74dc05f19d81",
   "metadata": {},
   "outputs": [],
   "source": [
    "# the base dataframe information the date\n",
    "df_noeng = df[['store', 'weekly_sales', 'holiday_flag', 'temperature',\n",
    "       'fuel_price', 'cpi', 'unemployment']]\n",
    "\n",
    "# the base dataframe information the date and store\n",
    "df_noeng_nostore = df[['weekly_sales', 'holiday_flag', 'temperature',\n",
    "       'fuel_price', 'cpi', 'unemployment']]\n",
    "\n",
    "# with additional information about week and month\n",
    "df_week = df[['weekly_sales', 'holiday_flag', 'temperature',\n",
    "       'fuel_price', 'cpi', 'unemployment', 'week_number', 'month',\n",
    "       'week_of_month']]\n",
    "\n",
    "# with additional information about week and month AND data about the previous week\n",
    "df_week_prev = df[['weekly_sales', 'holiday_flag', 'temperature',\n",
    "       'fuel_price', 'cpi', 'unemployment', 'week_number', 'month',\n",
    "       'week_of_month', 'prev_weekly_sales', 'prev_temperature',\n",
    "       'prev_fuel_price', 'prev_cpi', 'prev_unemployment', 'prev_month',\n",
    "       'prev_week_number', 'prev_week_of_month']]\n",
    "\n",
    "df_week_prev_diff = df[['weekly_sales', 'holiday_flag', 'temperature',\n",
    "       'fuel_price', 'cpi', 'unemployment', 'week_number', 'month',\n",
    "       'week_of_month', 'prev_weekly_sales', 'prev_temperature',\n",
    "       'prev_fuel_price', 'prev_cpi', 'prev_unemployment',\n",
    "       'temperature_diff', 'fuel_price_diff', 'cpi_diff', 'unemployment_diff',\n",
    "       'prev_holiday_flag', 'holiday_flag_diff', 'prev_month',\n",
    "       'prev_week_number', 'prev_week_of_month']]\n",
    "\n",
    "df_week_prev_diff_store = df[['store', 'weekly_sales', 'holiday_flag', 'temperature',\n",
    "       'fuel_price', 'cpi', 'unemployment', 'week_number', 'month',\n",
    "       'week_of_month', 'prev_weekly_sales', 'prev_temperature',\n",
    "       'prev_fuel_price', 'prev_cpi', 'prev_unemployment',\n",
    "       'temperature_diff', 'fuel_price_diff', 'cpi_diff', 'unemployment_diff',\n",
    "       'prev_holiday_flag', 'holiday_flag_diff', 'prev_month',\n",
    "       'prev_week_number', 'prev_week_of_month']]"
   ]
  },
  {
   "cell_type": "code",
   "execution_count": null,
   "id": "917144db-4a91-410c-a804-259feffaccde",
   "metadata": {},
   "outputs": [],
   "source": [
    "datasets = [df_noeng, df_noeng_nostore, df_week, df_week_prev, df_week_prev_diff, df_week_prev_diff_store]\n",
    "dataset_names = ['noeng', 'noeng_nostore', 'week', 'week_prev', 'week_prev_diff', 'week_prev_diff_store']"
   ]
  },
  {
   "cell_type": "markdown",
   "id": "b1bf5f9a-3cca-49c6-9559-615bc9a90903",
   "metadata": {},
   "source": [
    "### Function to assess datasets"
   ]
  },
  {
   "cell_type": "code",
   "execution_count": null,
   "id": "4d76a1b5-d82d-46e0-982b-0a209c5cba31",
   "metadata": {},
   "outputs": [],
   "source": [
    "def assess_sales_dataset_tree(input_df):\n",
    "    input_X = input_df.drop(['weekly_sales'], axis=1)\n",
    "    input_y = input_df[['weekly_sales']]\n",
    "    X_train, X_test, y_train, y_test = train_test_split(input_X, input_y, shuffle=True, train_size=0.8)\n",
    "    model = DecisionTreeRegressor(max_leaf_nodes = 200)\n",
    "    model.fit(X_train, y_train)\n",
    "    preds = model.predict(X_test)\n",
    "    mae = mean_absolute_error(y_test, preds)\n",
    "    return mae"
   ]
  },
  {
   "cell_type": "code",
   "execution_count": null,
   "id": "179bd4d7-4d89-4a7a-9b41-c4a2fd3725f5",
   "metadata": {},
   "outputs": [],
   "source": [
    "# what_mae = assess_sales_dataset_tree(df_noeng)"
   ]
  },
  {
   "cell_type": "code",
   "execution_count": null,
   "id": "f00911aa-d60f-46d2-a1c2-cfb96c0d6344",
   "metadata": {},
   "outputs": [],
   "source": [
    "# what_mae"
   ]
  },
  {
   "cell_type": "code",
   "execution_count": null,
   "id": "201be394-5b16-434f-b324-a7ceeae357e3",
   "metadata": {},
   "outputs": [],
   "source": [
    "# best_tree_dataset_mae = df[['weekly_sales']].max().values[0]"
   ]
  },
  {
   "cell_type": "code",
   "execution_count": null,
   "id": "071039b3-160a-416d-a53a-8a29bf0d49ac",
   "metadata": {},
   "outputs": [],
   "source": [
    "# best_tree_dataset_mae"
   ]
  },
  {
   "cell_type": "code",
   "execution_count": null,
   "id": "78882c92-21cd-4342-b4ac-7d7ce2ff6e5a",
   "metadata": {},
   "outputs": [],
   "source": [
    "best_tree_dataset_mae = df[['weekly_sales']].max().values[0]\n",
    "for df_index, dataset in enumerate(datasets):\n",
    "    df_mae = assess_sales_dataset_tree(dataset)\n",
    "    if df_mae < best_tree_dataset_mae:\n",
    "        best_tree_dataset_mae = df_mae\n",
    "    print(f'df: {dataset_names[df_index]}, MAE Error: {df_mae}')"
   ]
  },
  {
   "cell_type": "markdown",
   "id": "9825b7fe-091a-4e61-afac-e404fcf356d1",
   "metadata": {},
   "source": [
    "### Clearly, using the previous week information yields the best results\n",
    "* What's interesting is how the removal of the 'store' information, had terrible consequences. Perhaps it is unsurprising - information about which store you are considering will probably strongly influence the sales prediction, as can be seen in the weekly sales distribution, which has quite a large range.\n",
    "* The question is - do we want to use this information, for most accurate results or do we want to ignore it, to make the model more general and applicable to any store not present in the dataset, but rather limiting ourselves to only data about the region such potential store would reside in."
   ]
  },
  {
   "cell_type": "markdown",
   "id": "cb38c03a-57a4-4d85-9475-cbc230248f18",
   "metadata": {},
   "source": [
    "### BUT HOLD ON - we can't use the _diff columns! Data leakage!\n",
    "* To calculate the difference between current week's values and previous week's values - you need CURRENT WEEK'S VALUES!!!!\n",
    "* Which might be fine, if you consider current week's values for the prediction factors, but you absolutely CANNOT use weekly_sales_diff as a input factor\n",
    "* It might be interesting to consider predicting without definitive differences (as in future-oriented) or with current values"
   ]
  },
  {
   "cell_type": "markdown",
   "id": "0c0b6695-662f-41fe-b0dc-8fb753719c4c",
   "metadata": {},
   "source": [
    "### XGBoost\n",
    "wow, even better - and with no parameter tuning"
   ]
  },
  {
   "cell_type": "code",
   "execution_count": null,
   "id": "324e0b71-3618-4283-bf30-3b130cbccd8d",
   "metadata": {},
   "outputs": [],
   "source": [
    "input_X = df_week_prev_diff.drop(['weekly_sales', 'weekly_sales_diff'], axis=1)\n",
    "input_y = df_week_prev_diff[['weekly_sales']]\n",
    "X_train, X_test, y_train, y_test = train_test_split(input_X, input_y, shuffle=True, train_size=0.8)\n",
    "xgb_model = XGBRegressor()\n",
    "xgb_model.fit(X_train, y_train)\n",
    "xgb_preds = xgb_model.predict(X_test)\n",
    "xgb_mae = mean_absolute_error(xgb_preds, y_test)\n",
    "xgb_mae"
   ]
  },
  {
   "cell_type": "code",
   "execution_count": null,
   "id": "2b32bf44-c8ee-4cac-b23b-29b2cc2ceaf6",
   "metadata": {},
   "outputs": [],
   "source": [
    "def get_xgb_mae(n_estimators, learning_rate, train_X, val_X, train_y, val_y, early_stopping_rounds = 5):\n",
    "    model = XGBRegressor(n_estimators = n_estimators, learning_rate=learning_rate)\n",
    "    model.fit(train_X, train_y,\n",
    "             early_stopping_rounds=early_stopping_rounds,\n",
    "             eval_set=[(val_X, val_y)],\n",
    "             verbose=False)\n",
    "    preds_val = model.predict(val_X)\n",
    "    mae = mean_absolute_error(val_y, preds_val)\n",
    "    return mae"
   ]
  },
  {
   "cell_type": "code",
   "execution_count": null,
   "id": "64eef347-9d17-4785-acf9-ef6a7b148eca",
   "metadata": {
    "scrolled": true
   },
   "outputs": [],
   "source": [
    "best_xgb_mae = y_train.max().values[0]\n",
    "for n_estimators in [100, 250, 500, 1000, 2000, 5000]:\n",
    "    for learning_rate in [0.001, 0.01, 0.02, 0.05, 0.1]:\n",
    "        xgb_mae = get_xgb_mae(n_estimators, learning_rate, X_train, X_test, y_train, y_test)\n",
    "        if xgb_mae < best_xgb_mae:\n",
    "            best_xgb_mae = xgb_mae\n",
    "        print(f'n_estimators: {n_estimators}, learning_rate: {learning_rate}, MAE Error: {xgb_mae}')"
   ]
  },
  {
   "cell_type": "code",
   "execution_count": null,
   "id": "93a250d1-3d25-4a76-bf1d-20054cf2151d",
   "metadata": {},
   "outputs": [],
   "source": [
    "best_xgb_mae"
   ]
  },
  {
   "cell_type": "markdown",
   "id": "ecfb9cee-49cb-42ea-a853-7fbf8278cf6c",
   "metadata": {},
   "source": [
    "#### Let's say the best parameters were n_estimators 2000, lr = 0.01\n",
    "* n_estimators: 1000, learning_rate: 0.01, MAE Error: 9856.41850281663\n",
    "* n_estimators: 2000, learning_rate: 0.01, MAE Error: 9853.203303710181\n",
    "* n_estimators: 5000, learning_rate: 0.01, MAE Error: 9853.203303710181"
   ]
  },
  {
   "cell_type": "markdown",
   "id": "2d9c1a57-1f4e-46ab-b88b-fe08bcbcd387",
   "metadata": {},
   "source": [
    "### SVR, SGDRegressor and good ol' LinearRegression"
   ]
  },
  {
   "cell_type": "code",
   "execution_count": null,
   "id": "5f137294-3d0d-4df8-aa5a-002e2a76b08d",
   "metadata": {},
   "outputs": [],
   "source": [
    "from sklearn.svm import SVR\n",
    "svr_model = SVR()\n",
    "svr_model.fit(X_train, y_train.values.ravel())\n",
    "svr_preds = svr_model.predict(X_test)\n",
    "svr_mae = mean_absolute_error(svr_preds, y_test)\n",
    "svr_mae"
   ]
  },
  {
   "cell_type": "code",
   "execution_count": null,
   "id": "96bbb6f7-5507-45fe-bd42-ff6cd99bec2d",
   "metadata": {},
   "outputs": [],
   "source": [
    "from sklearn.linear_model import LinearRegression\n",
    "svr_model = LinearRegression()\n",
    "svr_model.fit(X_train, y_train.values.ravel())\n",
    "svr_preds = svr_model.predict(X_test)\n",
    "svr_mae = mean_absolute_error(svr_preds, y_test)\n",
    "svr_mae"
   ]
  },
  {
   "cell_type": "code",
   "execution_count": null,
   "id": "a977d09c-a517-4b9f-b3ed-ac02ce41c3f3",
   "metadata": {},
   "outputs": [],
   "source": [
    "from sklearn.linear_model import SGDRegressor\n",
    "svr_model = SGDRegressor()\n",
    "svr_model.fit(X_train, y_train.values.ravel())\n",
    "svr_preds = svr_model.predict(X_test)\n",
    "svr_mae = mean_absolute_error(svr_preds, y_test)\n",
    "svr_mae"
   ]
  },
  {
   "cell_type": "markdown",
   "id": "d492fb65-102e-4286-864f-06f7a2ea0666",
   "metadata": {},
   "source": [
    "### Cross-Validation\n",
    "while for every experiment we often shuffled the dataset, and so we probably should have a good idea of how the models perform on different samples from, the data, a uniform approach is useful for all cases, therefore shall be developed.  \n",
    "Plus, the dataset is quite small, so that it shouldn't impact the testing time too much."
   ]
  },
  {
   "cell_type": "code",
   "execution_count": null,
   "id": "948b6c02-56fe-473f-b676-24b9d1a5977c",
   "metadata": {},
   "outputs": [],
   "source": [
    "best_xgb_model = XGBRegressor(n_estimators = 2000, learning_rate=0.01)"
   ]
  },
  {
   "cell_type": "code",
   "execution_count": null,
   "id": "1dcc57fa-999c-4fa5-ac66-726d5b0e3c81",
   "metadata": {},
   "outputs": [],
   "source": [
    "scores = -1 * cross_val_score(best_xgb_model,\n",
    "                              input_X, input_y,\n",
    "                              cv=5,\n",
    "                              scoring='neg_mean_absolute_error')\n",
    "scores"
   ]
  },
  {
   "cell_type": "code",
   "execution_count": null,
   "id": "2012a303-3114-4ffd-b916-bd872081adbf",
   "metadata": {},
   "outputs": [],
   "source": [
    "scores.mean()"
   ]
  },
  {
   "cell_type": "markdown",
   "id": "83d50f6f-50f6-4362-a7e0-ada8f1fece5e",
   "metadata": {},
   "source": [
    "Clearly, there is some variance in the model's performance, based on the data sample - for one of the samples - it even performed better than our previous estimation, on average though, while validating on the whole dataset, it performed a little worse. It's worth being aware of the worst case scenarios / the range of performance for any model, to accurately judge it's usefullness."
   ]
  },
  {
   "cell_type": "markdown",
   "id": "11c1a352-eefa-4fc2-b1f7-46b7d244b8fe",
   "metadata": {},
   "source": [
    "### Scaling factors values / uniforming"
   ]
  },
  {
   "cell_type": "code",
   "execution_count": null,
   "id": "680c94bd-5f4b-415d-84a0-3e74721e8d66",
   "metadata": {},
   "outputs": [],
   "source": [
    "input_X.dtypes"
   ]
  },
  {
   "cell_type": "code",
   "execution_count": null,
   "id": "d73076e1-6010-41b0-87d4-8e485cfc0a51",
   "metadata": {},
   "outputs": [],
   "source": [
    "def preprocess_and_train_regression(model, X_train, y_train, X_valid, y_valid):\n",
    "    # Preprocessing transformers\n",
    "    numerical_transformer = StandardScaler()\n",
    "\n",
    "    numerical_cols = [cname for cname in X_train.columns if X_train[cname].dtype in ['int64', 'float64', 'UInt32', 'int32']]\n",
    "    \n",
    "    # combined preprocessor\n",
    "    preprocessor = ColumnTransformer(\n",
    "        transformers = [\n",
    "            ('num', numerical_transformer, numerical_cols),\n",
    "            # ('cat', categorical_transformer, categorical_cols)\n",
    "        ]\n",
    "    )\n",
    "    \n",
    "    # Bundle preprocessing and modeling code in a pipeline\n",
    "    train_pipeline = Pipeline(steps=[\n",
    "        ('preprocessor', preprocessor),\n",
    "        ('model', model)\n",
    "    ])\n",
    "    \n",
    "    # Preprocessing of training data, fit model \n",
    "    train_pipeline.fit(X_train, y_train)\n",
    "    \n",
    "    # Preprocessing of validation data, get predictions\n",
    "    preds = train_pipeline.predict(X_valid)\n",
    "    \n",
    "    mae = mean_absolute_error(y_valid, preds)\n",
    "    r2 = r2_score(y_valid, preds)\n",
    "    return mae, r2, model"
   ]
  },
  {
   "cell_type": "code",
   "execution_count": null,
   "id": "fb7e3784-1069-4827-9606-7935eba2421e",
   "metadata": {},
   "outputs": [],
   "source": [
    "mae, r2, model = preprocess_and_train_regression(xgb_model, X_train, y_train, X_test, y_test)"
   ]
  },
  {
   "cell_type": "code",
   "execution_count": null,
   "id": "808af51d-5a5e-43c4-8fd3-1ac54aa08ddb",
   "metadata": {},
   "outputs": [],
   "source": [
    "mae"
   ]
  },
  {
   "cell_type": "code",
   "execution_count": null,
   "id": "8cd48472-0185-425c-8d42-e7a970620177",
   "metadata": {},
   "outputs": [],
   "source": [
    "r2"
   ]
  },
  {
   "cell_type": "code",
   "execution_count": null,
   "id": "0500b166-ecc3-4201-a529-a9dc5beab73e",
   "metadata": {},
   "outputs": [],
   "source": [
    "model"
   ]
  },
  {
   "cell_type": "markdown",
   "id": "8c719497-df4f-4d08-847c-c4e16124c8d5",
   "metadata": {},
   "source": [
    "### mae ~47k - pretty good - with standard scaling"
   ]
  },
  {
   "cell_type": "markdown",
   "id": "ea352cd8-d1c6-44df-90e3-a6cf687dac2d",
   "metadata": {},
   "source": [
    "### TODO:\n",
    "* https://www.kaggle.com/code/ryanholbrook/mutual-information - mutual information scores  \n",
    "Create functions to:\n",
    "* take in model, dataset, some other parameters then:\n",
    "* scale /preprocess the data\n",
    "* train model\n",
    "* crossvalidate\n",
    "* return results of mae, r2 score, median_error? as a new row of dataframe collecting results from all types of models, datasets etc\n",
    "* for each model calculate the proportion of error to the max, min, average and median prices\n",
    "* try to get separate results for each store? aka for which store do we perform the worse\n",
    "* generally explore other metrics. Are there training curves available etc?  \n",
    "Then:\n",
    "* Wrap it all in the initial EDA exploration, with the conclusions and choose the best model (XGB) with the best observed results, explain why and how it uses previous week's values etc\n",
    "* but also note what NOT to do (weekly_sales_diff) and the general process"
   ]
  },
  {
   "cell_type": "markdown",
   "id": "ea7a85ff-1292-4c9b-b160-80d07994f236",
   "metadata": {},
   "source": [
    "### Store classification"
   ]
  },
  {
   "cell_type": "markdown",
   "id": "a01674c7-a913-4699-bb58-240577b00541",
   "metadata": {
    "editable": true,
    "slideshow": {
     "slide_type": ""
    },
    "tags": []
   },
   "source": [
    "#### Universal testing function"
   ]
  },
  {
   "cell_type": "code",
   "execution_count": 15,
   "id": "cc667606-3b94-4439-ab5a-7df817d37871",
   "metadata": {
    "editable": true,
    "slideshow": {
     "slide_type": ""
    },
    "tags": []
   },
   "outputs": [],
   "source": [
    "# classification\n",
    "from sklearn.svm import SVC\n",
    "from sklearn.metrics  import f1_score,accuracy_score, confusion_matrix, classification_report, ConfusionMatrixDisplay"
   ]
  },
  {
   "cell_type": "code",
   "execution_count": 59,
   "id": "e8410083-6159-4c49-bb9d-a1de078b9694",
   "metadata": {
    "editable": true,
    "slideshow": {
     "slide_type": ""
    },
    "tags": []
   },
   "outputs": [],
   "source": [
    "def preprocess_and_train_classification(model, dataset, target_col, standard_scale = True, model_name=None):\n",
    "\n",
    "    print(f'model {model_name} started training')\n",
    "    \n",
    "    X = dataset.drop([target_col], axis=1)\n",
    "    y = dataset[[target_col]]\n",
    "    X_train, X_valid, y_train, y_valid = train_test_split(X, y, shuffle=True, train_size=0.8)\n",
    "    \n",
    "    # Preprocessing transformers\n",
    "    numerical_transformer = StandardScaler()\n",
    "\n",
    "    numerical_cols = [cname for cname in X_train.columns if X_train[cname].dtype in ['int64', 'float64', 'UInt32', 'int32']]\n",
    "\n",
    "    # combined preprocessor\n",
    "    preprocessor = ColumnTransformer(\n",
    "        transformers = [\n",
    "            ('num', numerical_transformer, numerical_cols),\n",
    "            # ('cat', categorical_transformer, categorical_cols)\n",
    "        ]\n",
    "    )\n",
    "\n",
    "    if standard_scale:\n",
    "        # Bundle preprocessing and modeling code in a pipeline\n",
    "        train_pipeline = Pipeline(steps=[\n",
    "            ('preprocessor', preprocessor),\n",
    "            ('model', model)\n",
    "        ])\n",
    "    else:\n",
    "        train_pipeline = Pipeline(steps=[\n",
    "            ('model', model)\n",
    "        ])\n",
    "    \n",
    "    # Preprocessing of training data, fit model \n",
    "    train_pipeline.fit(X_train, y_train)\n",
    "    \n",
    "    # Preprocessing of validation data, get predictions\n",
    "    preds = train_pipeline.predict(X_valid)\n",
    "    \n",
    "    acc = accuracy_score(y_valid, preds)\n",
    "    f1 = f1_score(y_valid, preds, average=None, labels=model.classes_)\n",
    "    cm = confusion_matrix(y_valid, preds, labels=model.classes_)\n",
    "    labels = model.classes_\n",
    "\n",
    "    print(f'model {model_name} trained, acc: {acc}')\n",
    "    \n",
    "    return acc, f1, cm, labels, model, preds, X_valid, y_valid, train_pipeline, dataset"
   ]
  },
  {
   "cell_type": "code",
   "execution_count": 54,
   "id": "61b25ead-0385-4c35-8bac-4289215b2f13",
   "metadata": {
    "editable": true,
    "slideshow": {
     "slide_type": ""
    },
    "tags": []
   },
   "outputs": [],
   "source": [
    "def model_results_to_dataframe(acc, f1, cm, model_name, results_df):\n",
    "    new_row = {\n",
    "        'model': model_name,\n",
    "        'acc': acc,\n",
    "        'cm': cm,\n",
    "        'f1': f1,\n",
    "        # 'score': score,\n",
    "        # 'score_by_max': round(score * 100 / max_sales,2),\n",
    "        # 'score_by_min': round(score * 100 / min_sales,2),\n",
    "        # 'score_by_mean': round(score * 100 / avg_sales,2),\n",
    "        # 'score_by_median': round(score * 100 / median_sales,2),\n",
    "        # 'score_by_std': round(score * 100 / std_sales,2)\n",
    "    }\n",
    "    new_df = pd.DataFrame([new_row])\n",
    "    results_df = pd.concat([results_df, new_df], ignore_index=True)\n",
    "    \n",
    "    return results_df"
   ]
  },
  {
   "cell_type": "code",
   "execution_count": 17,
   "id": "d4c553c5-bcc0-478d-8cb0-997563ca2cb1",
   "metadata": {
    "editable": true,
    "slideshow": {
     "slide_type": ""
    },
    "tags": []
   },
   "outputs": [],
   "source": [
    "def display_confusion_matrix(cm, labels):\n",
    "    disp = ConfusionMatrixDisplay(confusion_matrix = cm,\n",
    "                             display_labels=labels\n",
    "                             )\n",
    "    disp_plot = disp.plot()\n",
    "    plt.show()"
   ]
  },
  {
   "cell_type": "markdown",
   "id": "d4c2f119-87d1-438f-ab31-f041d8673f8b",
   "metadata": {
    "editable": true,
    "slideshow": {
     "slide_type": ""
    },
    "tags": []
   },
   "source": [
    "#### Quick exploration with Support Vector Classifier"
   ]
  },
  {
   "cell_type": "code",
   "execution_count": 18,
   "id": "664f7baa-c879-40b2-bf1e-dfe8e381db58",
   "metadata": {
    "editable": true,
    "slideshow": {
     "slide_type": ""
    },
    "tags": []
   },
   "outputs": [],
   "source": [
    "# with additional information about week and month\n",
    "df_week_store = df_eng[['store', 'weekly_sales', 'holiday_flag', 'temperature',\n",
    "       'fuel_price', 'cpi', 'unemployment', 'week_number', 'month',\n",
    "       'week_of_month']]"
   ]
  },
  {
   "cell_type": "code",
   "execution_count": 19,
   "id": "e6954c53-392f-4a0d-acb1-0ebd4d5a3319",
   "metadata": {
    "editable": true,
    "slideshow": {
     "slide_type": ""
    },
    "tags": []
   },
   "outputs": [],
   "source": [
    "svc_model = SVC()"
   ]
  },
  {
   "cell_type": "code",
   "execution_count": 35,
   "id": "edde4533-f146-499e-882e-56b23ef71f25",
   "metadata": {
    "editable": true,
    "slideshow": {
     "slide_type": ""
    },
    "tags": []
   },
   "outputs": [],
   "source": [
    "acc, f1, cm, labels, model, preds, X_valid, y_valid, train_pipeline, dataset  = preprocess_and_train_classification(model = svc_model,\n",
    "                                                                                                          dataset = df_week_store,\n",
    "                                                                                                          target_col = 'store')"
   ]
  },
  {
   "cell_type": "code",
   "execution_count": null,
   "id": "1cac0bed-3ab8-4d27-bf05-93c3f8f493e2",
   "metadata": {},
   "outputs": [],
   "source": [
    "# X = dataset.drop([target_col], axis=1)\n",
    "# y = dataset[[target_col]]\n",
    "# X_train, X_valid, y_train, y_valid = train_test_split(X, y, shuffle=True, train_size=0.8)"
   ]
  },
  {
   "cell_type": "code",
   "execution_count": 23,
   "id": "78c6ae48-6875-4db7-9cd1-6ffaffc5e799",
   "metadata": {
    "editable": true,
    "slideshow": {
     "slide_type": ""
    },
    "tags": []
   },
   "outputs": [
    {
     "data": {
      "image/png": "[encoded data removed]",
      "text/plain": [
       "<Figure size 640x480 with 2 Axes>"
      ]
     },
     "metadata": {},
     "output_type": "display_data"
    }
   ],
   "source": [
    "display_confusion_matrix(cm, labels)"
   ]
  },
  {
   "cell_type": "code",
   "execution_count": 24,
   "id": "0eee5b21-498d-4b2c-8f77-78e16774cef7",
   "metadata": {
    "editable": true,
    "slideshow": {
     "slide_type": ""
    },
    "tags": []
   },
   "outputs": [
    {
     "data": {
      "text/plain": [
       "0.7412587412587412"
      ]
     },
     "execution_count": 24,
     "metadata": {},
     "output_type": "execute_result"
    }
   ],
   "source": [
    "acc"
   ]
  },
  {
   "cell_type": "markdown",
   "id": "2383ff1a-723c-4d17-9e88-f349ea7ea74f",
   "metadata": {
    "editable": true,
    "slideshow": {
     "slide_type": ""
    },
    "tags": []
   },
   "source": [
    "#### 75% accuracy prediction of store label - not terrible\n",
    "let's see the results with the \"prev\" and \"diff\" columns, **including weekly_sales_diff** -  more data, even though partially reduntant"
   ]
  },
  {
   "cell_type": "code",
   "execution_count": 26,
   "id": "8ac4bf75-c867-45b4-aafd-712269bc2081",
   "metadata": {
    "editable": true,
    "slideshow": {
     "slide_type": ""
    },
    "tags": []
   },
   "outputs": [],
   "source": [
    "df_week_prev_diff_store = df_eng[['store', 'weekly_sales', 'holiday_flag', 'temperature',\n",
    "       'fuel_price', 'cpi', 'unemployment', 'week_number', 'month',\n",
    "       'week_of_month', 'prev_weekly_sales', 'prev_temperature',\n",
    "       'prev_fuel_price', 'prev_cpi', 'prev_unemployment', 'weekly_sales_diff',\n",
    "       'temperature_diff', 'fuel_price_diff', 'cpi_diff', 'unemployment_diff',\n",
    "       'prev_holiday_flag', 'holiday_flag_diff', 'prev_month',\n",
    "       'prev_week_number', 'prev_week_of_month']]"
   ]
  },
  {
   "cell_type": "code",
   "execution_count": 36,
   "id": "5711f492-9c24-4ace-b358-5c9c1990f0f9",
   "metadata": {},
   "outputs": [],
   "source": [
    "acc, f1, cm, labels, model, preds, X_valid, y_valid, train_pipeline, dataset = preprocess_and_train_classification(model = svc_model,\n",
    "                                                                                                          dataset = df_week_prev_diff_store,\n",
    "                                                                                                          target_col = 'store')"
   ]
  },
  {
   "cell_type": "code",
   "execution_count": 29,
   "id": "2c5b623d-8570-4e21-b0c2-287f98bfd4f9",
   "metadata": {},
   "outputs": [
    {
     "data": {
      "text/plain": [
       "0.6402486402486403"
      ]
     },
     "execution_count": 29,
     "metadata": {},
     "output_type": "execute_result"
    }
   ],
   "source": [
    "acc"
   ]
  },
  {
   "cell_type": "markdown",
   "id": "6237671d-ee98-439f-b728-7aeb52901c5d",
   "metadata": {},
   "source": [
    "Unfortunately - a reduction in accuracy. Maybe a change of models could help?"
   ]
  },
  {
   "cell_type": "markdown",
   "id": "4933ff94-9ede-4a21-a788-7700fab6ed59",
   "metadata": {
    "editable": true,
    "slideshow": {
     "slide_type": ""
    },
    "tags": []
   },
   "source": [
    "#### Classification model and dataset exploration\n",
    "Let's explore the extreme gradient boosting method that worked so well for the regression task as well as other methods more suited to classification tasks such as K Neighbor classification."
   ]
  },
  {
   "cell_type": "code",
   "execution_count": 32,
   "id": "869d0805-bf3c-4cc9-a6b8-fc5db5139038",
   "metadata": {
    "editable": true,
    "slideshow": {
     "slide_type": ""
    },
    "tags": []
   },
   "outputs": [],
   "source": [
    "from sklearn.ensemble import AdaBoostClassifier, RandomForestClassifier\n",
    "from sklearn.neighbors import KNeighborsClassifier\n",
    "from sklearn.tree import DecisionTreeClassifier\n",
    "from xgboost.sklearn import XGBClassifier"
   ]
  },
  {
   "cell_type": "markdown",
   "id": "94849bfa-c1c9-4ff5-b6d3-259fb0cfaaa8",
   "metadata": {},
   "source": [
    "define the datasets"
   ]
  },
  {
   "cell_type": "code",
   "execution_count": 40,
   "id": "3932e4a8-f100-4508-9325-217c03e2f2b7",
   "metadata": {
    "editable": true,
    "slideshow": {
     "slide_type": ""
    },
    "tags": []
   },
   "outputs": [],
   "source": [
    "# the base dataframe information\n",
    "df_noeng_store = df_eng[['store', 'weekly_sales', 'holiday_flag', 'temperature',\n",
    "       'fuel_price', 'cpi', 'unemployment']]\n",
    "\n",
    "# with additional week information\n",
    "df_week_store = df_eng[['store', 'weekly_sales', 'holiday_flag', 'temperature',\n",
    "       'fuel_price', 'cpi', 'unemployment', 'week_number', 'month',\n",
    "       'week_of_month']]\n",
    "\n",
    "# with additional information about week and month AND data about the previous week\n",
    "df_week_prev_store = df_eng[['store', 'weekly_sales', 'holiday_flag', 'temperature',\n",
    "       'fuel_price', 'cpi', 'unemployment', 'week_number', 'month',\n",
    "       'week_of_month', 'prev_weekly_sales', 'prev_temperature',\n",
    "       'prev_fuel_price', 'prev_cpi', 'prev_unemployment', 'prev_month',\n",
    "       'prev_week_number', 'prev_week_of_month']]\n",
    "\n",
    "# and 'diff'\n",
    "df_week_prev_diff_store = df_eng[['store', 'weekly_sales', 'holiday_flag', 'temperature',\n",
    "       'fuel_price', 'cpi', 'unemployment', 'week_number', 'month',\n",
    "       'week_of_month', 'prev_weekly_sales', 'prev_temperature',\n",
    "       'prev_fuel_price', 'prev_cpi', 'prev_unemployment', 'weekly_sales_diff',\n",
    "       'temperature_diff', 'fuel_price_diff', 'cpi_diff', 'unemployment_diff',\n",
    "       'prev_holiday_flag', 'holiday_flag_diff', 'prev_month',\n",
    "       'prev_week_number', 'prev_week_of_month']]\n",
    "\n",
    "# only data unique to region / store\n",
    "df_unique_store = df_eng[['store', 'weekly_sales', 'temperature',\n",
    "       'fuel_price', 'cpi', 'unemployment', 'prev_weekly_sales', 'prev_temperature',\n",
    "       'prev_fuel_price', 'prev_cpi', 'prev_unemployment', 'weekly_sales_diff',\n",
    "       'temperature_diff', 'fuel_price_diff', 'cpi_diff', 'unemployment_diff']]\n",
    "\n",
    "datasets = [df_noeng_store, df_week_store, df_week_prev_store, df_week_prev_diff_store, df_unique_store]\n",
    "dataset_names = ['df_noeng_store', 'df_week_store', 'df_week_prev_store',\n",
    "                 'df_week_prev_diff_store', 'df_unique_store']"
   ]
  },
  {
   "cell_type": "markdown",
   "id": "e9834f1d-9513-4974-a8df-b417bd3e9df0",
   "metadata": {},
   "source": [
    "#### no hyperparameter tuning so far"
   ]
  },
  {
   "cell_type": "code",
   "execution_count": 65,
   "id": "b4a5070b-e365-4214-a6e4-f72c184b314a",
   "metadata": {
    "editable": true,
    "slideshow": {
     "slide_type": ""
    },
    "tags": []
   },
   "outputs": [],
   "source": [
    "c_random_forest_model = RandomForestClassifier()\n",
    "svc_model = SVC()\n",
    "knc_model = KNeighborsClassifier()\n",
    "c_tree_model = DecisionTreeClassifier()\n",
    "# xgb_c_model = XGBClassifier()\n",
    "# models = [c_random_forest_model, svc_model, knc_model, c_tree_model, xgb_c_model]\n",
    "# model_names = ['random_forest', 'svc', 'kneighbors', 'tree', 'xgb']\n",
    "models = [c_random_forest_model, svc_model, knc_model, c_tree_model]\n",
    "model_names = ['random_forest', 'svc', 'kneighbors', 'tree']"
   ]
  },
  {
   "cell_type": "markdown",
   "id": "c7c95762-0a1a-4ebb-9584-748ac47f5e26",
   "metadata": {
    "editable": true,
    "slideshow": {
     "slide_type": ""
    },
    "tags": []
   },
   "source": [
    "#### Store number to label / category"
   ]
  },
  {
   "cell_type": "code",
   "execution_count": 49,
   "id": "a5953a41-0655-427a-a9af-1f56215547b3",
   "metadata": {
    "editable": true,
    "slideshow": {
     "slide_type": ""
    },
    "tags": []
   },
   "outputs": [],
   "source": [
    "from sklearn import preprocessing\n",
    "from sklearn import utils"
   ]
  },
  {
   "cell_type": "code",
   "execution_count": 50,
   "id": "915cd76c-5188-4bac-b295-5fd6b70971ce",
   "metadata": {},
   "outputs": [],
   "source": [
    "lab_enc = preprocessing.LabelEncoder()\n",
    "encoded = lab_enc.fit_transform(df_eng['store'])"
   ]
  },
  {
   "cell_type": "code",
   "execution_count": 51,
   "id": "37943339-75f1-40e0-806e-99802c68f878",
   "metadata": {},
   "outputs": [
    {
     "data": {
      "text/plain": [
       "array([ 0,  0,  0, ..., 44, 44, 44], dtype=int64)"
      ]
     },
     "execution_count": 51,
     "metadata": {},
     "output_type": "execute_result"
    }
   ],
   "source": [
    "encoded"
   ]
  },
  {
   "cell_type": "code",
   "execution_count": 52,
   "id": "51f7c903-be3b-4037-8682-91e6a787be2d",
   "metadata": {},
   "outputs": [
    {
     "name": "stdout",
     "output_type": "stream",
     "text": [
      "multiclass\n"
     ]
    }
   ],
   "source": [
    "print(utils.multiclass.type_of_target(encoded))"
   ]
  },
  {
   "cell_type": "markdown",
   "id": "fc0f5bb6-cd84-45d3-9976-6584dd0aa21a",
   "metadata": {
    "editable": true,
    "slideshow": {
     "slide_type": ""
    },
    "tags": []
   },
   "source": [
    "#### Warning - comment out expensive operation for the sake of rerunning"
   ]
  },
  {
   "cell_type": "code",
   "execution_count": 66,
   "id": "36001892-4b1e-4214-a4cd-d89ef7a7bab3",
   "metadata": {
    "editable": true,
    "scrolled": true,
    "slideshow": {
     "slide_type": ""
    },
    "tags": []
   },
   "outputs": [
    {
     "name": "stdout",
     "output_type": "stream",
     "text": [
      "model random_forest_df_noeng_store_scaled started training\n"
     ]
    },
    {
     "name": "stderr",
     "output_type": "stream",
     "text": [
      "C:\\Users\\User\\Desktop\\programowanie_web_etc\\python_projects\\ml_zoo\\venv\\lib\\site-packages\\sklearn\\base.py:1474: DataConversionWarning: A column-vector y was passed when a 1d array was expected. Please change the shape of y to (n_samples,), for example using ravel().\n",
      "  return fit_method(estimator, *args, **kwargs)\n"
     ]
    },
    {
     "name": "stdout",
     "output_type": "stream",
     "text": [
      "model random_forest_df_noeng_store_scaled trained, acc: 0.9728049728049728\n",
      "model random_forest_df_noeng_store_not_scaled started training\n"
     ]
    },
    {
     "name": "stderr",
     "output_type": "stream",
     "text": [
      "C:\\Users\\User\\Desktop\\programowanie_web_etc\\python_projects\\ml_zoo\\venv\\lib\\site-packages\\sklearn\\base.py:1474: DataConversionWarning: A column-vector y was passed when a 1d array was expected. Please change the shape of y to (n_samples,), for example using ravel().\n",
      "  return fit_method(estimator, *args, **kwargs)\n"
     ]
    },
    {
     "name": "stdout",
     "output_type": "stream",
     "text": [
      "model random_forest_df_noeng_store_not_scaled trained, acc: 0.9634809634809635\n",
      "model svc_df_noeng_store_scaled started training\n"
     ]
    },
    {
     "name": "stderr",
     "output_type": "stream",
     "text": [
      "C:\\Users\\User\\Desktop\\programowanie_web_etc\\python_projects\\ml_zoo\\venv\\lib\\site-packages\\sklearn\\utils\\validation.py:1300: DataConversionWarning: A column-vector y was passed when a 1d array was expected. Please change the shape of y to (n_samples, ), for example using ravel().\n",
      "  y = column_or_1d(y, warn=True)\n"
     ]
    },
    {
     "name": "stdout",
     "output_type": "stream",
     "text": [
      "model svc_df_noeng_store_scaled trained, acc: 0.7824397824397824\n",
      "model svc_df_noeng_store_not_scaled started training\n"
     ]
    },
    {
     "name": "stderr",
     "output_type": "stream",
     "text": [
      "C:\\Users\\User\\Desktop\\programowanie_web_etc\\python_projects\\ml_zoo\\venv\\lib\\site-packages\\sklearn\\utils\\validation.py:1300: DataConversionWarning: A column-vector y was passed when a 1d array was expected. Please change the shape of y to (n_samples, ), for example using ravel().\n",
      "  y = column_or_1d(y, warn=True)\n"
     ]
    },
    {
     "name": "stdout",
     "output_type": "stream",
     "text": [
      "model svc_df_noeng_store_not_scaled trained, acc: 0.20590520590520592\n",
      "model kneighbors_df_noeng_store_scaled started training\n",
      "model kneighbors_df_noeng_store_scaled trained, acc: 0.8057498057498057\n",
      "model kneighbors_df_noeng_store_not_scaled started training\n",
      "model kneighbors_df_noeng_store_not_scaled trained, acc: 0.19658119658119658\n",
      "model tree_df_noeng_store_scaled started training\n",
      "model tree_df_noeng_store_scaled trained, acc: 0.9526029526029526\n",
      "model tree_df_noeng_store_not_scaled started training\n",
      "model tree_df_noeng_store_not_scaled trained, acc: 0.9471639471639471\n",
      "model random_forest_df_week_store_scaled started training\n"
     ]
    },
    {
     "name": "stderr",
     "output_type": "stream",
     "text": [
      "C:\\Users\\User\\Desktop\\programowanie_web_etc\\python_projects\\ml_zoo\\venv\\lib\\site-packages\\sklearn\\neighbors\\_classification.py:238: DataConversionWarning: A column-vector y was passed when a 1d array was expected. Please change the shape of y to (n_samples,), for example using ravel().\n",
      "  return self._fit(X, y)\n",
      "C:\\Users\\User\\Desktop\\programowanie_web_etc\\python_projects\\ml_zoo\\venv\\lib\\site-packages\\sklearn\\neighbors\\_classification.py:238: DataConversionWarning: A column-vector y was passed when a 1d array was expected. Please change the shape of y to (n_samples,), for example using ravel().\n",
      "  return self._fit(X, y)\n",
      "C:\\Users\\User\\Desktop\\programowanie_web_etc\\python_projects\\ml_zoo\\venv\\lib\\site-packages\\sklearn\\base.py:1474: DataConversionWarning: A column-vector y was passed when a 1d array was expected. Please change the shape of y to (n_samples,), for example using ravel().\n",
      "  return fit_method(estimator, *args, **kwargs)\n"
     ]
    },
    {
     "name": "stdout",
     "output_type": "stream",
     "text": [
      "model random_forest_df_week_store_scaled trained, acc: 0.9696969696969697\n",
      "model random_forest_df_week_store_not_scaled started training\n"
     ]
    },
    {
     "name": "stderr",
     "output_type": "stream",
     "text": [
      "C:\\Users\\User\\Desktop\\programowanie_web_etc\\python_projects\\ml_zoo\\venv\\lib\\site-packages\\sklearn\\base.py:1474: DataConversionWarning: A column-vector y was passed when a 1d array was expected. Please change the shape of y to (n_samples,), for example using ravel().\n",
      "  return fit_method(estimator, *args, **kwargs)\n"
     ]
    },
    {
     "name": "stdout",
     "output_type": "stream",
     "text": [
      "model random_forest_df_week_store_not_scaled trained, acc: 0.9751359751359752\n",
      "model svc_df_week_store_scaled started training\n"
     ]
    },
    {
     "name": "stderr",
     "output_type": "stream",
     "text": [
      "C:\\Users\\User\\Desktop\\programowanie_web_etc\\python_projects\\ml_zoo\\venv\\lib\\site-packages\\sklearn\\utils\\validation.py:1300: DataConversionWarning: A column-vector y was passed when a 1d array was expected. Please change the shape of y to (n_samples, ), for example using ravel().\n",
      "  y = column_or_1d(y, warn=True)\n"
     ]
    },
    {
     "name": "stdout",
     "output_type": "stream",
     "text": [
      "model svc_df_week_store_scaled trained, acc: 0.7606837606837606\n",
      "model svc_df_week_store_not_scaled started training\n"
     ]
    },
    {
     "name": "stderr",
     "output_type": "stream",
     "text": [
      "C:\\Users\\User\\Desktop\\programowanie_web_etc\\python_projects\\ml_zoo\\venv\\lib\\site-packages\\sklearn\\utils\\validation.py:1300: DataConversionWarning: A column-vector y was passed when a 1d array was expected. Please change the shape of y to (n_samples, ), for example using ravel().\n",
      "  y = column_or_1d(y, warn=True)\n"
     ]
    },
    {
     "name": "stdout",
     "output_type": "stream",
     "text": [
      "model svc_df_week_store_not_scaled trained, acc: 0.16783216783216784\n",
      "model kneighbors_df_week_store_scaled started training\n",
      "model kneighbors_df_week_store_scaled trained, acc: 0.5151515151515151\n",
      "model kneighbors_df_week_store_not_scaled started training\n",
      "model kneighbors_df_week_store_not_scaled trained, acc: 0.21833721833721834\n",
      "model tree_df_week_store_scaled started training\n",
      "model tree_df_week_store_scaled trained, acc: 0.9588189588189588\n",
      "model tree_df_week_store_not_scaled started training\n",
      "model tree_df_week_store_not_scaled trained, acc: 0.958041958041958\n",
      "model random_forest_df_week_prev_store_scaled started training\n"
     ]
    },
    {
     "name": "stderr",
     "output_type": "stream",
     "text": [
      "C:\\Users\\User\\Desktop\\programowanie_web_etc\\python_projects\\ml_zoo\\venv\\lib\\site-packages\\sklearn\\neighbors\\_classification.py:238: DataConversionWarning: A column-vector y was passed when a 1d array was expected. Please change the shape of y to (n_samples,), for example using ravel().\n",
      "  return self._fit(X, y)\n",
      "C:\\Users\\User\\Desktop\\programowanie_web_etc\\python_projects\\ml_zoo\\venv\\lib\\site-packages\\sklearn\\neighbors\\_classification.py:238: DataConversionWarning: A column-vector y was passed when a 1d array was expected. Please change the shape of y to (n_samples,), for example using ravel().\n",
      "  return self._fit(X, y)\n",
      "C:\\Users\\User\\Desktop\\programowanie_web_etc\\python_projects\\ml_zoo\\venv\\lib\\site-packages\\sklearn\\base.py:1474: DataConversionWarning: A column-vector y was passed when a 1d array was expected. Please change the shape of y to (n_samples,), for example using ravel().\n",
      "  return fit_method(estimator, *args, **kwargs)\n"
     ]
    },
    {
     "name": "stdout",
     "output_type": "stream",
     "text": [
      "model random_forest_df_week_prev_store_scaled trained, acc: 0.9797979797979798\n",
      "model random_forest_df_week_prev_store_not_scaled started training\n"
     ]
    },
    {
     "name": "stderr",
     "output_type": "stream",
     "text": [
      "C:\\Users\\User\\Desktop\\programowanie_web_etc\\python_projects\\ml_zoo\\venv\\lib\\site-packages\\sklearn\\base.py:1474: DataConversionWarning: A column-vector y was passed when a 1d array was expected. Please change the shape of y to (n_samples,), for example using ravel().\n",
      "  return fit_method(estimator, *args, **kwargs)\n"
     ]
    },
    {
     "name": "stdout",
     "output_type": "stream",
     "text": [
      "model random_forest_df_week_prev_store_not_scaled trained, acc: 0.986013986013986\n",
      "model svc_df_week_prev_store_scaled started training\n"
     ]
    },
    {
     "name": "stderr",
     "output_type": "stream",
     "text": [
      "C:\\Users\\User\\Desktop\\programowanie_web_etc\\python_projects\\ml_zoo\\venv\\lib\\site-packages\\sklearn\\utils\\validation.py:1300: DataConversionWarning: A column-vector y was passed when a 1d array was expected. Please change the shape of y to (n_samples, ), for example using ravel().\n",
      "  y = column_or_1d(y, warn=True)\n"
     ]
    },
    {
     "name": "stdout",
     "output_type": "stream",
     "text": [
      "model svc_df_week_prev_store_scaled trained, acc: 0.7653457653457654\n",
      "model svc_df_week_prev_store_not_scaled started training\n"
     ]
    },
    {
     "name": "stderr",
     "output_type": "stream",
     "text": [
      "C:\\Users\\User\\Desktop\\programowanie_web_etc\\python_projects\\ml_zoo\\venv\\lib\\site-packages\\sklearn\\utils\\validation.py:1300: DataConversionWarning: A column-vector y was passed when a 1d array was expected. Please change the shape of y to (n_samples, ), for example using ravel().\n",
      "  y = column_or_1d(y, warn=True)\n"
     ]
    },
    {
     "name": "stdout",
     "output_type": "stream",
     "text": [
      "model svc_df_week_prev_store_not_scaled trained, acc: 0.2097902097902098\n",
      "model kneighbors_df_week_prev_store_scaled started training\n",
      "model kneighbors_df_week_prev_store_scaled trained, acc: 0.4677544677544678\n",
      "model kneighbors_df_week_prev_store_not_scaled started training\n"
     ]
    },
    {
     "name": "stderr",
     "output_type": "stream",
     "text": [
      "C:\\Users\\User\\Desktop\\programowanie_web_etc\\python_projects\\ml_zoo\\venv\\lib\\site-packages\\sklearn\\neighbors\\_classification.py:238: DataConversionWarning: A column-vector y was passed when a 1d array was expected. Please change the shape of y to (n_samples,), for example using ravel().\n",
      "  return self._fit(X, y)\n",
      "C:\\Users\\User\\Desktop\\programowanie_web_etc\\python_projects\\ml_zoo\\venv\\lib\\site-packages\\sklearn\\neighbors\\_classification.py:238: DataConversionWarning: A column-vector y was passed when a 1d array was expected. Please change the shape of y to (n_samples,), for example using ravel().\n",
      "  return self._fit(X, y)\n"
     ]
    },
    {
     "name": "stdout",
     "output_type": "stream",
     "text": [
      "model kneighbors_df_week_prev_store_not_scaled trained, acc: 0.24087024087024086\n",
      "model tree_df_week_prev_store_scaled started training\n",
      "model tree_df_week_prev_store_scaled trained, acc: 0.9308469308469308\n",
      "model tree_df_week_prev_store_not_scaled started training\n",
      "model tree_df_week_prev_store_not_scaled trained, acc: 0.9324009324009324\n",
      "model random_forest_df_week_prev_diff_store_scaled started training\n"
     ]
    },
    {
     "name": "stderr",
     "output_type": "stream",
     "text": [
      "C:\\Users\\User\\Desktop\\programowanie_web_etc\\python_projects\\ml_zoo\\venv\\lib\\site-packages\\sklearn\\base.py:1474: DataConversionWarning: A column-vector y was passed when a 1d array was expected. Please change the shape of y to (n_samples,), for example using ravel().\n",
      "  return fit_method(estimator, *args, **kwargs)\n"
     ]
    },
    {
     "name": "stdout",
     "output_type": "stream",
     "text": [
      "model random_forest_df_week_prev_diff_store_scaled trained, acc: 0.9805749805749806\n",
      "model random_forest_df_week_prev_diff_store_not_scaled started training\n"
     ]
    },
    {
     "name": "stderr",
     "output_type": "stream",
     "text": [
      "C:\\Users\\User\\Desktop\\programowanie_web_etc\\python_projects\\ml_zoo\\venv\\lib\\site-packages\\sklearn\\base.py:1474: DataConversionWarning: A column-vector y was passed when a 1d array was expected. Please change the shape of y to (n_samples,), for example using ravel().\n",
      "  return fit_method(estimator, *args, **kwargs)\n"
     ]
    },
    {
     "name": "stdout",
     "output_type": "stream",
     "text": [
      "model random_forest_df_week_prev_diff_store_not_scaled trained, acc: 0.9790209790209791\n",
      "model svc_df_week_prev_diff_store_scaled started training\n"
     ]
    },
    {
     "name": "stderr",
     "output_type": "stream",
     "text": [
      "C:\\Users\\User\\Desktop\\programowanie_web_etc\\python_projects\\ml_zoo\\venv\\lib\\site-packages\\sklearn\\utils\\validation.py:1300: DataConversionWarning: A column-vector y was passed when a 1d array was expected. Please change the shape of y to (n_samples, ), for example using ravel().\n",
      "  y = column_or_1d(y, warn=True)\n"
     ]
    },
    {
     "name": "stdout",
     "output_type": "stream",
     "text": [
      "model svc_df_week_prev_diff_store_scaled trained, acc: 0.6534576534576535\n",
      "model svc_df_week_prev_diff_store_not_scaled started training\n"
     ]
    },
    {
     "name": "stderr",
     "output_type": "stream",
     "text": [
      "C:\\Users\\User\\Desktop\\programowanie_web_etc\\python_projects\\ml_zoo\\venv\\lib\\site-packages\\sklearn\\utils\\validation.py:1300: DataConversionWarning: A column-vector y was passed when a 1d array was expected. Please change the shape of y to (n_samples, ), for example using ravel().\n",
      "  y = column_or_1d(y, warn=True)\n"
     ]
    },
    {
     "name": "stdout",
     "output_type": "stream",
     "text": [
      "model svc_df_week_prev_diff_store_not_scaled trained, acc: 0.21445221445221446\n",
      "model kneighbors_df_week_prev_diff_store_scaled started training\n",
      "model kneighbors_df_week_prev_diff_store_scaled trained, acc: 0.2463092463092463\n",
      "model kneighbors_df_week_prev_diff_store_not_scaled started training\n",
      "model kneighbors_df_week_prev_diff_store_not_scaled trained, acc: 0.23465423465423466\n",
      "model tree_df_week_prev_diff_store_scaled started training\n",
      "model tree_df_week_prev_diff_store_scaled trained, acc: 0.9502719502719502\n",
      "model tree_df_week_prev_diff_store_not_scaled started training\n"
     ]
    },
    {
     "name": "stderr",
     "output_type": "stream",
     "text": [
      "C:\\Users\\User\\Desktop\\programowanie_web_etc\\python_projects\\ml_zoo\\venv\\lib\\site-packages\\sklearn\\neighbors\\_classification.py:238: DataConversionWarning: A column-vector y was passed when a 1d array was expected. Please change the shape of y to (n_samples,), for example using ravel().\n",
      "  return self._fit(X, y)\n",
      "C:\\Users\\User\\Desktop\\programowanie_web_etc\\python_projects\\ml_zoo\\venv\\lib\\site-packages\\sklearn\\neighbors\\_classification.py:238: DataConversionWarning: A column-vector y was passed when a 1d array was expected. Please change the shape of y to (n_samples,), for example using ravel().\n",
      "  return self._fit(X, y)\n"
     ]
    },
    {
     "name": "stdout",
     "output_type": "stream",
     "text": [
      "model tree_df_week_prev_diff_store_not_scaled trained, acc: 0.9463869463869464\n",
      "model random_forest_df_unique_store_scaled started training\n"
     ]
    },
    {
     "name": "stderr",
     "output_type": "stream",
     "text": [
      "C:\\Users\\User\\Desktop\\programowanie_web_etc\\python_projects\\ml_zoo\\venv\\lib\\site-packages\\sklearn\\base.py:1474: DataConversionWarning: A column-vector y was passed when a 1d array was expected. Please change the shape of y to (n_samples,), for example using ravel().\n",
      "  return fit_method(estimator, *args, **kwargs)\n"
     ]
    },
    {
     "name": "stdout",
     "output_type": "stream",
     "text": [
      "model random_forest_df_unique_store_scaled trained, acc: 0.9790209790209791\n",
      "model random_forest_df_unique_store_not_scaled started training\n"
     ]
    },
    {
     "name": "stderr",
     "output_type": "stream",
     "text": [
      "C:\\Users\\User\\Desktop\\programowanie_web_etc\\python_projects\\ml_zoo\\venv\\lib\\site-packages\\sklearn\\base.py:1474: DataConversionWarning: A column-vector y was passed when a 1d array was expected. Please change the shape of y to (n_samples,), for example using ravel().\n",
      "  return fit_method(estimator, *args, **kwargs)\n"
     ]
    },
    {
     "name": "stdout",
     "output_type": "stream",
     "text": [
      "model random_forest_df_unique_store_not_scaled trained, acc: 0.9766899766899767\n",
      "model svc_df_unique_store_scaled started training\n"
     ]
    },
    {
     "name": "stderr",
     "output_type": "stream",
     "text": [
      "C:\\Users\\User\\Desktop\\programowanie_web_etc\\python_projects\\ml_zoo\\venv\\lib\\site-packages\\sklearn\\utils\\validation.py:1300: DataConversionWarning: A column-vector y was passed when a 1d array was expected. Please change the shape of y to (n_samples, ), for example using ravel().\n",
      "  y = column_or_1d(y, warn=True)\n"
     ]
    },
    {
     "name": "stdout",
     "output_type": "stream",
     "text": [
      "model svc_df_unique_store_scaled trained, acc: 0.7536907536907537\n",
      "model svc_df_unique_store_not_scaled started training\n"
     ]
    },
    {
     "name": "stderr",
     "output_type": "stream",
     "text": [
      "C:\\Users\\User\\Desktop\\programowanie_web_etc\\python_projects\\ml_zoo\\venv\\lib\\site-packages\\sklearn\\utils\\validation.py:1300: DataConversionWarning: A column-vector y was passed when a 1d array was expected. Please change the shape of y to (n_samples, ), for example using ravel().\n",
      "  y = column_or_1d(y, warn=True)\n"
     ]
    },
    {
     "name": "stdout",
     "output_type": "stream",
     "text": [
      "model svc_df_unique_store_not_scaled trained, acc: 0.17016317016317017\n",
      "model kneighbors_df_unique_store_scaled started training\n",
      "model kneighbors_df_unique_store_scaled trained, acc: 0.49572649572649574\n",
      "model kneighbors_df_unique_store_not_scaled started training\n",
      "model kneighbors_df_unique_store_not_scaled trained, acc: 0.24397824397824397\n",
      "model tree_df_unique_store_scaled started training\n"
     ]
    },
    {
     "name": "stderr",
     "output_type": "stream",
     "text": [
      "C:\\Users\\User\\Desktop\\programowanie_web_etc\\python_projects\\ml_zoo\\venv\\lib\\site-packages\\sklearn\\neighbors\\_classification.py:238: DataConversionWarning: A column-vector y was passed when a 1d array was expected. Please change the shape of y to (n_samples,), for example using ravel().\n",
      "  return self._fit(X, y)\n",
      "C:\\Users\\User\\Desktop\\programowanie_web_etc\\python_projects\\ml_zoo\\venv\\lib\\site-packages\\sklearn\\neighbors\\_classification.py:238: DataConversionWarning: A column-vector y was passed when a 1d array was expected. Please change the shape of y to (n_samples,), for example using ravel().\n",
      "  return self._fit(X, y)\n"
     ]
    },
    {
     "name": "stdout",
     "output_type": "stream",
     "text": [
      "model tree_df_unique_store_scaled trained, acc: 0.9316239316239316\n",
      "model tree_df_unique_store_not_scaled started training\n",
      "model tree_df_unique_store_not_scaled trained, acc: 0.9456099456099456\n"
     ]
    }
   ],
   "source": [
    "results_df = pd.DataFrame()\n",
    "acc_best = 0\n",
    "best_model = None\n",
    "best_dataset = None\n",
    "for d_index, dataset in enumerate(datasets):\n",
    "    for m_index, model in enumerate(models):\n",
    "        for to_scale in [True, False]:\n",
    "            model_name = f'{model_names[m_index]}_{dataset_names[d_index]}'\n",
    "            if to_scale:\n",
    "                model_name += '_scaled'\n",
    "            else:\n",
    "                model_name += '_not_scaled'\n",
    "    \n",
    "            # reset the models\n",
    "            c_random_forest_model = RandomForestClassifier()\n",
    "            svc_model = SVC()\n",
    "            knc_model = KNeighborsClassifier()\n",
    "            c_tree_model = DecisionTreeClassifier()\n",
    "            xgb_c_model = XGBClassifier()\n",
    "            \n",
    "            acc, f1, cm, labels, model, preds, X_valid, y_valid, result_model, used_dataset = preprocess_and_train_classification(\n",
    "                                            model = model,\n",
    "                                            dataset = dataset,\n",
    "                                            target_col = 'store',\n",
    "                                            standard_scale=to_scale,\n",
    "                                            model_name = model_name\n",
    "                                           )\n",
    "            \n",
    "            results_df = model_results_to_dataframe(acc, f1, cm, model_name, results_df)\n",
    "    \n",
    "            if acc > acc_best:\n",
    "                best_model = result_model\n",
    "                best_dataset = used_dataset"
   ]
  },
  {
   "cell_type": "markdown",
   "id": "6a7b69ca-daaf-4cc8-970e-30beb49402a5",
   "metadata": {},
   "source": [
    "#### Note: For some reason, XGB models fail on the training step\n",
    "Somehow the labels get mismatched from store numbers 1-45 to 0-44 - but only for XGB models"
   ]
  },
  {
   "cell_type": "code",
   "execution_count": 67,
   "id": "2ff0b5e0-2b99-4bc3-96e6-041ae7d1c024",
   "metadata": {},
   "outputs": [
    {
     "data": {
      "text/html": [
       "<div>\n",
       "<style scoped>\n",
       "    .dataframe tbody tr th:only-of-type {\n",
       "        vertical-align: middle;\n",
       "    }\n",
       "\n",
       "    .dataframe tbody tr th {\n",
       "        vertical-align: top;\n",
       "    }\n",
       "\n",
       "    .dataframe thead th {\n",
       "        text-align: right;\n",
       "    }\n",
       "</style>\n",
       "<table border=\"1\" class=\"dataframe\">\n",
       "  <thead>\n",
       "    <tr style=\"text-align: right;\">\n",
       "      <th></th>\n",
       "      <th>model</th>\n",
       "      <th>acc</th>\n",
       "      <th>cm</th>\n",
       "      <th>f1</th>\n",
       "    </tr>\n",
       "  </thead>\n",
       "  <tbody>\n",
       "    <tr>\n",
       "      <th>0</th>\n",
       "      <td>random_forest_df_noeng_store_scaled</td>\n",
       "      <td>0.972805</td>\n",
       "      <td>[[24, 1, 0, 0, 0, 0, 0, 0, 0, 0, 0, 0, 0, 0, 0...</td>\n",
       "      <td>[0.9230769230769231, 0.9315068493150684, 0.972...</td>\n",
       "    </tr>\n",
       "    <tr>\n",
       "      <th>1</th>\n",
       "      <td>random_forest_df_noeng_store_not_scaled</td>\n",
       "      <td>0.963481</td>\n",
       "      <td>[[29, 1, 0, 0, 0, 0, 0, 0, 0, 0, 0, 0, 0, 0, 0...</td>\n",
       "      <td>[0.8923076923076924, 0.9538461538461539, 0.941...</td>\n",
       "    </tr>\n",
       "    <tr>\n",
       "      <th>2</th>\n",
       "      <td>svc_df_noeng_store_scaled</td>\n",
       "      <td>0.782440</td>\n",
       "      <td>[[16, 3, 0, 0, 0, 2, 0, 0, 0, 0, 1, 0, 0, 0, 0...</td>\n",
       "      <td>[0.6153846153846154, 0.7547169811320755, 0.666...</td>\n",
       "    </tr>\n",
       "    <tr>\n",
       "      <th>3</th>\n",
       "      <td>svc_df_noeng_store_not_scaled</td>\n",
       "      <td>0.205905</td>\n",
       "      <td>[[1, 0, 0, 0, 0, 20, 0, 0, 0, 0, 0, 0, 1, 0, 0...</td>\n",
       "      <td>[0.05263157894736842, 0.2631578947368421, 0.0,...</td>\n",
       "    </tr>\n",
       "    <tr>\n",
       "      <th>4</th>\n",
       "      <td>kneighbors_df_noeng_store_scaled</td>\n",
       "      <td>0.805750</td>\n",
       "      <td>[[21, 3, 0, 0, 0, 0, 0, 0, 0, 0, 2, 0, 0, 0, 0...</td>\n",
       "      <td>[0.5526315789473685, 0.7536231884057971, 0.718...</td>\n",
       "    </tr>\n",
       "    <tr>\n",
       "      <th>5</th>\n",
       "      <td>kneighbors_df_noeng_store_not_scaled</td>\n",
       "      <td>0.196581</td>\n",
       "      <td>[[11, 1, 0, 1, 0, 3, 0, 0, 0, 1, 2, 0, 0, 1, 0...</td>\n",
       "      <td>[0.19469026548672566, 0.19047619047619047, 0.3...</td>\n",
       "    </tr>\n",
       "    <tr>\n",
       "      <th>6</th>\n",
       "      <td>tree_df_noeng_store_scaled</td>\n",
       "      <td>0.952603</td>\n",
       "      <td>[[24, 0, 0, 0, 0, 0, 0, 0, 0, 0, 1, 0, 0, 0, 0...</td>\n",
       "      <td>[0.8135593220338984, 0.9032258064516129, 0.950...</td>\n",
       "    </tr>\n",
       "    <tr>\n",
       "      <th>7</th>\n",
       "      <td>tree_df_noeng_store_not_scaled</td>\n",
       "      <td>0.947164</td>\n",
       "      <td>[[15, 1, 0, 0, 0, 0, 0, 0, 0, 0, 0, 0, 0, 0, 0...</td>\n",
       "      <td>[0.8571428571428571, 0.8695652173913043, 0.830...</td>\n",
       "    </tr>\n",
       "    <tr>\n",
       "      <th>8</th>\n",
       "      <td>random_forest_df_week_store_scaled</td>\n",
       "      <td>0.969697</td>\n",
       "      <td>[[23, 0, 0, 0, 0, 0, 0, 0, 0, 0, 0, 0, 0, 0, 0...</td>\n",
       "      <td>[0.9387755102040817, 0.9333333333333333, 1.0, ...</td>\n",
       "    </tr>\n",
       "    <tr>\n",
       "      <th>9</th>\n",
       "      <td>random_forest_df_week_store_not_scaled</td>\n",
       "      <td>0.975136</td>\n",
       "      <td>[[23, 1, 0, 0, 0, 0, 0, 0, 0, 0, 0, 0, 0, 0, 0...</td>\n",
       "      <td>[0.92, 0.9387755102040817, 0.9615384615384616,...</td>\n",
       "    </tr>\n",
       "    <tr>\n",
       "      <th>10</th>\n",
       "      <td>svc_df_week_store_scaled</td>\n",
       "      <td>0.760684</td>\n",
       "      <td>[[15, 4, 0, 0, 0, 0, 0, 0, 0, 0, 0, 0, 0, 0, 0...</td>\n",
       "      <td>[0.5882352941176471, 0.7719298245614035, 0.369...</td>\n",
       "    </tr>\n",
       "    <tr>\n",
       "      <th>11</th>\n",
       "      <td>svc_df_week_store_not_scaled</td>\n",
       "      <td>0.167832</td>\n",
       "      <td>[[0, 1, 0, 1, 0, 14, 0, 0, 0, 0, 0, 0, 0, 0, 0...</td>\n",
       "      <td>[0.0, 0.3333333333333333, 0.33043478260869563,...</td>\n",
       "    </tr>\n",
       "    <tr>\n",
       "      <th>12</th>\n",
       "      <td>kneighbors_df_week_store_scaled</td>\n",
       "      <td>0.515152</td>\n",
       "      <td>[[7, 8, 0, 0, 0, 1, 0, 0, 0, 0, 2, 0, 0, 0, 0,...</td>\n",
       "      <td>[0.12962962962962962, 0.27692307692307694, 0.1...</td>\n",
       "    </tr>\n",
       "    <tr>\n",
       "      <th>13</th>\n",
       "      <td>kneighbors_df_week_store_not_scaled</td>\n",
       "      <td>0.218337</td>\n",
       "      <td>[[11, 1, 0, 0, 0, 2, 0, 0, 0, 1, 0, 0, 0, 0, 0...</td>\n",
       "      <td>[0.26506024096385544, 0.2222222222222222, 0.43...</td>\n",
       "    </tr>\n",
       "    <tr>\n",
       "      <th>14</th>\n",
       "      <td>tree_df_week_store_scaled</td>\n",
       "      <td>0.958819</td>\n",
       "      <td>[[20, 0, 0, 0, 0, 0, 0, 0, 0, 0, 0, 0, 0, 0, 0...</td>\n",
       "      <td>[0.851063829787234, 0.9333333333333333, 0.8474...</td>\n",
       "    </tr>\n",
       "    <tr>\n",
       "      <th>15</th>\n",
       "      <td>tree_df_week_store_not_scaled</td>\n",
       "      <td>0.958042</td>\n",
       "      <td>[[21, 1, 0, 0, 0, 0, 0, 0, 0, 0, 0, 0, 0, 0, 0...</td>\n",
       "      <td>[0.9130434782608695, 0.9333333333333333, 0.933...</td>\n",
       "    </tr>\n",
       "    <tr>\n",
       "      <th>16</th>\n",
       "      <td>random_forest_df_week_prev_store_scaled</td>\n",
       "      <td>0.979798</td>\n",
       "      <td>[[26, 0, 0, 0, 0, 0, 0, 0, 0, 0, 0, 0, 0, 0, 0...</td>\n",
       "      <td>[0.9122807017543859, 0.9411764705882353, 0.966...</td>\n",
       "    </tr>\n",
       "    <tr>\n",
       "      <th>17</th>\n",
       "      <td>random_forest_df_week_prev_store_not_scaled</td>\n",
       "      <td>0.986014</td>\n",
       "      <td>[[27, 0, 0, 0, 0, 0, 0, 0, 0, 0, 0, 0, 0, 0, 0...</td>\n",
       "      <td>[0.9818181818181818, 0.9818181818181818, 1.0, ...</td>\n",
       "    </tr>\n",
       "    <tr>\n",
       "      <th>18</th>\n",
       "      <td>svc_df_week_prev_store_scaled</td>\n",
       "      <td>0.765346</td>\n",
       "      <td>[[12, 1, 0, 0, 0, 0, 0, 0, 0, 0, 2, 0, 0, 0, 0...</td>\n",
       "      <td>[0.4897959183673469, 0.8076923076923077, 0.634...</td>\n",
       "    </tr>\n",
       "    <tr>\n",
       "      <th>19</th>\n",
       "      <td>svc_df_week_prev_store_not_scaled</td>\n",
       "      <td>0.209790</td>\n",
       "      <td>[[15, 1, 0, 1, 0, 0, 0, 0, 0, 0, 0, 0, 0, 0, 0...</td>\n",
       "      <td>[0.2803738317757009, 0.32653061224489793, 0.0,...</td>\n",
       "    </tr>\n",
       "    <tr>\n",
       "      <th>20</th>\n",
       "      <td>kneighbors_df_week_prev_store_scaled</td>\n",
       "      <td>0.467754</td>\n",
       "      <td>[[8, 4, 0, 0, 0, 2, 0, 0, 0, 0, 3, 0, 0, 0, 0,...</td>\n",
       "      <td>[0.14545454545454545, 0.3225806451612903, 0.15...</td>\n",
       "    </tr>\n",
       "    <tr>\n",
       "      <th>21</th>\n",
       "      <td>kneighbors_df_week_prev_store_not_scaled</td>\n",
       "      <td>0.240870</td>\n",
       "      <td>[[10, 0, 0, 0, 0, 7, 0, 0, 0, 0, 2, 0, 0, 0, 0...</td>\n",
       "      <td>[0.24096385542168675, 0.21176470588235294, 0.3...</td>\n",
       "    </tr>\n",
       "    <tr>\n",
       "      <th>22</th>\n",
       "      <td>tree_df_week_prev_store_scaled</td>\n",
       "      <td>0.930847</td>\n",
       "      <td>[[9, 1, 0, 0, 0, 0, 0, 0, 0, 0, 3, 0, 0, 0, 0,...</td>\n",
       "      <td>[0.6428571428571429, 0.9047619047619048, 0.894...</td>\n",
       "    </tr>\n",
       "    <tr>\n",
       "      <th>23</th>\n",
       "      <td>tree_df_week_prev_store_not_scaled</td>\n",
       "      <td>0.932401</td>\n",
       "      <td>[[26, 0, 0, 0, 0, 1, 0, 0, 0, 0, 0, 0, 0, 0, 0...</td>\n",
       "      <td>[0.7647058823529411, 0.9333333333333333, 0.938...</td>\n",
       "    </tr>\n",
       "    <tr>\n",
       "      <th>24</th>\n",
       "      <td>random_forest_df_week_prev_diff_store_scaled</td>\n",
       "      <td>0.980575</td>\n",
       "      <td>[[26, 0, 0, 0, 0, 0, 0, 0, 0, 0, 0, 0, 0, 0, 0...</td>\n",
       "      <td>[0.896551724137931, 0.9846153846153847, 0.9841...</td>\n",
       "    </tr>\n",
       "    <tr>\n",
       "      <th>25</th>\n",
       "      <td>random_forest_df_week_prev_diff_store_not_scaled</td>\n",
       "      <td>0.979021</td>\n",
       "      <td>[[21, 0, 0, 0, 0, 0, 0, 0, 0, 0, 0, 0, 0, 0, 0...</td>\n",
       "      <td>[0.9130434782608695, 0.967741935483871, 1.0, 0...</td>\n",
       "    </tr>\n",
       "    <tr>\n",
       "      <th>26</th>\n",
       "      <td>svc_df_week_prev_diff_store_scaled</td>\n",
       "      <td>0.653458</td>\n",
       "      <td>[[5, 1, 0, 0, 0, 2, 0, 0, 0, 0, 4, 0, 0, 0, 0,...</td>\n",
       "      <td>[0.18518518518518517, 0.75, 0.3428571428571428...</td>\n",
       "    </tr>\n",
       "    <tr>\n",
       "      <th>27</th>\n",
       "      <td>svc_df_week_prev_diff_store_not_scaled</td>\n",
       "      <td>0.214452</td>\n",
       "      <td>[[2, 0, 0, 0, 0, 20, 0, 0, 0, 0, 2, 0, 0, 0, 0...</td>\n",
       "      <td>[0.1111111111111111, 0.11538461538461539, 0.0,...</td>\n",
       "    </tr>\n",
       "    <tr>\n",
       "      <th>28</th>\n",
       "      <td>kneighbors_df_week_prev_diff_store_scaled</td>\n",
       "      <td>0.246309</td>\n",
       "      <td>[[4, 15, 0, 0, 0, 2, 0, 0, 0, 0, 1, 0, 0, 1, 0...</td>\n",
       "      <td>[0.05970149253731343, 0.030303030303030304, 0....</td>\n",
       "    </tr>\n",
       "    <tr>\n",
       "      <th>29</th>\n",
       "      <td>kneighbors_df_week_prev_diff_store_not_scaled</td>\n",
       "      <td>0.234654</td>\n",
       "      <td>[[13, 0, 0, 0, 0, 9, 0, 0, 0, 0, 1, 0, 0, 0, 0...</td>\n",
       "      <td>[0.2826086956521739, 0.17721518987341772, 0.39...</td>\n",
       "    </tr>\n",
       "    <tr>\n",
       "      <th>30</th>\n",
       "      <td>tree_df_week_prev_diff_store_scaled</td>\n",
       "      <td>0.950272</td>\n",
       "      <td>[[25, 1, 0, 0, 0, 0, 0, 0, 0, 0, 0, 0, 0, 0, 0...</td>\n",
       "      <td>[0.8620689655172413, 0.9310344827586207, 0.888...</td>\n",
       "    </tr>\n",
       "    <tr>\n",
       "      <th>31</th>\n",
       "      <td>tree_df_week_prev_diff_store_not_scaled</td>\n",
       "      <td>0.946387</td>\n",
       "      <td>[[18, 0, 0, 0, 0, 0, 0, 0, 0, 0, 1, 0, 0, 0, 0...</td>\n",
       "      <td>[0.782608695652174, 0.9538461538461539, 0.9090...</td>\n",
       "    </tr>\n",
       "    <tr>\n",
       "      <th>32</th>\n",
       "      <td>random_forest_df_unique_store_scaled</td>\n",
       "      <td>0.979021</td>\n",
       "      <td>[[26, 1, 0, 0, 0, 0, 0, 0, 0, 0, 0, 0, 0, 0, 0...</td>\n",
       "      <td>[0.9285714285714286, 0.9433962264150944, 0.981...</td>\n",
       "    </tr>\n",
       "    <tr>\n",
       "      <th>33</th>\n",
       "      <td>random_forest_df_unique_store_not_scaled</td>\n",
       "      <td>0.976690</td>\n",
       "      <td>[[23, 3, 0, 0, 0, 0, 0, 0, 0, 0, 0, 0, 0, 0, 0...</td>\n",
       "      <td>[0.8214285714285714, 0.90625, 0.98461538461538...</td>\n",
       "    </tr>\n",
       "    <tr>\n",
       "      <th>34</th>\n",
       "      <td>svc_df_unique_store_scaled</td>\n",
       "      <td>0.753691</td>\n",
       "      <td>[[10, 4, 0, 0, 0, 7, 0, 0, 0, 0, 1, 0, 0, 0, 0...</td>\n",
       "      <td>[0.3508771929824561, 0.7936507936507936, 0.550...</td>\n",
       "    </tr>\n",
       "    <tr>\n",
       "      <th>35</th>\n",
       "      <td>svc_df_unique_store_not_scaled</td>\n",
       "      <td>0.170163</td>\n",
       "      <td>[[18, 0, 0, 0, 0, 0, 0, 0, 0, 0, 0, 0, 0, 0, 0...</td>\n",
       "      <td>[0.3157894736842105, 0.0, 0.2903225806451613, ...</td>\n",
       "    </tr>\n",
       "    <tr>\n",
       "      <th>36</th>\n",
       "      <td>kneighbors_df_unique_store_scaled</td>\n",
       "      <td>0.495726</td>\n",
       "      <td>[[10, 8, 0, 0, 0, 3, 0, 0, 0, 0, 2, 0, 0, 0, 0...</td>\n",
       "      <td>[0.2, 0.3380281690140845, 0.12, 0.548387096774...</td>\n",
       "    </tr>\n",
       "    <tr>\n",
       "      <th>37</th>\n",
       "      <td>kneighbors_df_unique_store_not_scaled</td>\n",
       "      <td>0.243978</td>\n",
       "      <td>[[11, 1, 0, 0, 0, 3, 0, 0, 0, 0, 1, 0, 0, 0, 0...</td>\n",
       "      <td>[0.2391304347826087, 0.08450704225352113, 0.36...</td>\n",
       "    </tr>\n",
       "    <tr>\n",
       "      <th>38</th>\n",
       "      <td>tree_df_unique_store_scaled</td>\n",
       "      <td>0.931624</td>\n",
       "      <td>[[23, 1, 0, 0, 0, 0, 0, 0, 0, 0, 1, 0, 0, 0, 0...</td>\n",
       "      <td>[0.7666666666666667, 0.8444444444444444, 0.920...</td>\n",
       "    </tr>\n",
       "    <tr>\n",
       "      <th>39</th>\n",
       "      <td>tree_df_unique_store_not_scaled</td>\n",
       "      <td>0.945610</td>\n",
       "      <td>[[15, 0, 0, 0, 0, 0, 0, 0, 0, 0, 0, 0, 0, 0, 0...</td>\n",
       "      <td>[0.6818181818181818, 0.9259259259259259, 0.869...</td>\n",
       "    </tr>\n",
       "  </tbody>\n",
       "</table>\n",
       "</div>"
      ],
      "text/plain": [
       "                                               model       acc  \\\n",
       "0                random_forest_df_noeng_store_scaled  0.972805   \n",
       "1            random_forest_df_noeng_store_not_scaled  0.963481   \n",
       "2                          svc_df_noeng_store_scaled  0.782440   \n",
       "3                      svc_df_noeng_store_not_scaled  0.205905   \n",
       "4                   kneighbors_df_noeng_store_scaled  0.805750   \n",
       "5               kneighbors_df_noeng_store_not_scaled  0.196581   \n",
       "6                         tree_df_noeng_store_scaled  0.952603   \n",
       "7                     tree_df_noeng_store_not_scaled  0.947164   \n",
       "8                 random_forest_df_week_store_scaled  0.969697   \n",
       "9             random_forest_df_week_store_not_scaled  0.975136   \n",
       "10                          svc_df_week_store_scaled  0.760684   \n",
       "11                      svc_df_week_store_not_scaled  0.167832   \n",
       "12                   kneighbors_df_week_store_scaled  0.515152   \n",
       "13               kneighbors_df_week_store_not_scaled  0.218337   \n",
       "14                         tree_df_week_store_scaled  0.958819   \n",
       "15                     tree_df_week_store_not_scaled  0.958042   \n",
       "16           random_forest_df_week_prev_store_scaled  0.979798   \n",
       "17       random_forest_df_week_prev_store_not_scaled  0.986014   \n",
       "18                     svc_df_week_prev_store_scaled  0.765346   \n",
       "19                 svc_df_week_prev_store_not_scaled  0.209790   \n",
       "20              kneighbors_df_week_prev_store_scaled  0.467754   \n",
       "21          kneighbors_df_week_prev_store_not_scaled  0.240870   \n",
       "22                    tree_df_week_prev_store_scaled  0.930847   \n",
       "23                tree_df_week_prev_store_not_scaled  0.932401   \n",
       "24      random_forest_df_week_prev_diff_store_scaled  0.980575   \n",
       "25  random_forest_df_week_prev_diff_store_not_scaled  0.979021   \n",
       "26                svc_df_week_prev_diff_store_scaled  0.653458   \n",
       "27            svc_df_week_prev_diff_store_not_scaled  0.214452   \n",
       "28         kneighbors_df_week_prev_diff_store_scaled  0.246309   \n",
       "29     kneighbors_df_week_prev_diff_store_not_scaled  0.234654   \n",
       "30               tree_df_week_prev_diff_store_scaled  0.950272   \n",
       "31           tree_df_week_prev_diff_store_not_scaled  0.946387   \n",
       "32              random_forest_df_unique_store_scaled  0.979021   \n",
       "33          random_forest_df_unique_store_not_scaled  0.976690   \n",
       "34                        svc_df_unique_store_scaled  0.753691   \n",
       "35                    svc_df_unique_store_not_scaled  0.170163   \n",
       "36                 kneighbors_df_unique_store_scaled  0.495726   \n",
       "37             kneighbors_df_unique_store_not_scaled  0.243978   \n",
       "38                       tree_df_unique_store_scaled  0.931624   \n",
       "39                   tree_df_unique_store_not_scaled  0.945610   \n",
       "\n",
       "                                                   cm  \\\n",
       "0   [[24, 1, 0, 0, 0, 0, 0, 0, 0, 0, 0, 0, 0, 0, 0...   \n",
       "1   [[29, 1, 0, 0, 0, 0, 0, 0, 0, 0, 0, 0, 0, 0, 0...   \n",
       "2   [[16, 3, 0, 0, 0, 2, 0, 0, 0, 0, 1, 0, 0, 0, 0...   \n",
       "3   [[1, 0, 0, 0, 0, 20, 0, 0, 0, 0, 0, 0, 1, 0, 0...   \n",
       "4   [[21, 3, 0, 0, 0, 0, 0, 0, 0, 0, 2, 0, 0, 0, 0...   \n",
       "5   [[11, 1, 0, 1, 0, 3, 0, 0, 0, 1, 2, 0, 0, 1, 0...   \n",
       "6   [[24, 0, 0, 0, 0, 0, 0, 0, 0, 0, 1, 0, 0, 0, 0...   \n",
       "7   [[15, 1, 0, 0, 0, 0, 0, 0, 0, 0, 0, 0, 0, 0, 0...   \n",
       "8   [[23, 0, 0, 0, 0, 0, 0, 0, 0, 0, 0, 0, 0, 0, 0...   \n",
       "9   [[23, 1, 0, 0, 0, 0, 0, 0, 0, 0, 0, 0, 0, 0, 0...   \n",
       "10  [[15, 4, 0, 0, 0, 0, 0, 0, 0, 0, 0, 0, 0, 0, 0...   \n",
       "11  [[0, 1, 0, 1, 0, 14, 0, 0, 0, 0, 0, 0, 0, 0, 0...   \n",
       "12  [[7, 8, 0, 0, 0, 1, 0, 0, 0, 0, 2, 0, 0, 0, 0,...   \n",
       "13  [[11, 1, 0, 0, 0, 2, 0, 0, 0, 1, 0, 0, 0, 0, 0...   \n",
       "14  [[20, 0, 0, 0, 0, 0, 0, 0, 0, 0, 0, 0, 0, 0, 0...   \n",
       "15  [[21, 1, 0, 0, 0, 0, 0, 0, 0, 0, 0, 0, 0, 0, 0...   \n",
       "16  [[26, 0, 0, 0, 0, 0, 0, 0, 0, 0, 0, 0, 0, 0, 0...   \n",
       "17  [[27, 0, 0, 0, 0, 0, 0, 0, 0, 0, 0, 0, 0, 0, 0...   \n",
       "18  [[12, 1, 0, 0, 0, 0, 0, 0, 0, 0, 2, 0, 0, 0, 0...   \n",
       "19  [[15, 1, 0, 1, 0, 0, 0, 0, 0, 0, 0, 0, 0, 0, 0...   \n",
       "20  [[8, 4, 0, 0, 0, 2, 0, 0, 0, 0, 3, 0, 0, 0, 0,...   \n",
       "21  [[10, 0, 0, 0, 0, 7, 0, 0, 0, 0, 2, 0, 0, 0, 0...   \n",
       "22  [[9, 1, 0, 0, 0, 0, 0, 0, 0, 0, 3, 0, 0, 0, 0,...   \n",
       "23  [[26, 0, 0, 0, 0, 1, 0, 0, 0, 0, 0, 0, 0, 0, 0...   \n",
       "24  [[26, 0, 0, 0, 0, 0, 0, 0, 0, 0, 0, 0, 0, 0, 0...   \n",
       "25  [[21, 0, 0, 0, 0, 0, 0, 0, 0, 0, 0, 0, 0, 0, 0...   \n",
       "26  [[5, 1, 0, 0, 0, 2, 0, 0, 0, 0, 4, 0, 0, 0, 0,...   \n",
       "27  [[2, 0, 0, 0, 0, 20, 0, 0, 0, 0, 2, 0, 0, 0, 0...   \n",
       "28  [[4, 15, 0, 0, 0, 2, 0, 0, 0, 0, 1, 0, 0, 1, 0...   \n",
       "29  [[13, 0, 0, 0, 0, 9, 0, 0, 0, 0, 1, 0, 0, 0, 0...   \n",
       "30  [[25, 1, 0, 0, 0, 0, 0, 0, 0, 0, 0, 0, 0, 0, 0...   \n",
       "31  [[18, 0, 0, 0, 0, 0, 0, 0, 0, 0, 1, 0, 0, 0, 0...   \n",
       "32  [[26, 1, 0, 0, 0, 0, 0, 0, 0, 0, 0, 0, 0, 0, 0...   \n",
       "33  [[23, 3, 0, 0, 0, 0, 0, 0, 0, 0, 0, 0, 0, 0, 0...   \n",
       "34  [[10, 4, 0, 0, 0, 7, 0, 0, 0, 0, 1, 0, 0, 0, 0...   \n",
       "35  [[18, 0, 0, 0, 0, 0, 0, 0, 0, 0, 0, 0, 0, 0, 0...   \n",
       "36  [[10, 8, 0, 0, 0, 3, 0, 0, 0, 0, 2, 0, 0, 0, 0...   \n",
       "37  [[11, 1, 0, 0, 0, 3, 0, 0, 0, 0, 1, 0, 0, 0, 0...   \n",
       "38  [[23, 1, 0, 0, 0, 0, 0, 0, 0, 0, 1, 0, 0, 0, 0...   \n",
       "39  [[15, 0, 0, 0, 0, 0, 0, 0, 0, 0, 0, 0, 0, 0, 0...   \n",
       "\n",
       "                                                   f1  \n",
       "0   [0.9230769230769231, 0.9315068493150684, 0.972...  \n",
       "1   [0.8923076923076924, 0.9538461538461539, 0.941...  \n",
       "2   [0.6153846153846154, 0.7547169811320755, 0.666...  \n",
       "3   [0.05263157894736842, 0.2631578947368421, 0.0,...  \n",
       "4   [0.5526315789473685, 0.7536231884057971, 0.718...  \n",
       "5   [0.19469026548672566, 0.19047619047619047, 0.3...  \n",
       "6   [0.8135593220338984, 0.9032258064516129, 0.950...  \n",
       "7   [0.8571428571428571, 0.8695652173913043, 0.830...  \n",
       "8   [0.9387755102040817, 0.9333333333333333, 1.0, ...  \n",
       "9   [0.92, 0.9387755102040817, 0.9615384615384616,...  \n",
       "10  [0.5882352941176471, 0.7719298245614035, 0.369...  \n",
       "11  [0.0, 0.3333333333333333, 0.33043478260869563,...  \n",
       "12  [0.12962962962962962, 0.27692307692307694, 0.1...  \n",
       "13  [0.26506024096385544, 0.2222222222222222, 0.43...  \n",
       "14  [0.851063829787234, 0.9333333333333333, 0.8474...  \n",
       "15  [0.9130434782608695, 0.9333333333333333, 0.933...  \n",
       "16  [0.9122807017543859, 0.9411764705882353, 0.966...  \n",
       "17  [0.9818181818181818, 0.9818181818181818, 1.0, ...  \n",
       "18  [0.4897959183673469, 0.8076923076923077, 0.634...  \n",
       "19  [0.2803738317757009, 0.32653061224489793, 0.0,...  \n",
       "20  [0.14545454545454545, 0.3225806451612903, 0.15...  \n",
       "21  [0.24096385542168675, 0.21176470588235294, 0.3...  \n",
       "22  [0.6428571428571429, 0.9047619047619048, 0.894...  \n",
       "23  [0.7647058823529411, 0.9333333333333333, 0.938...  \n",
       "24  [0.896551724137931, 0.9846153846153847, 0.9841...  \n",
       "25  [0.9130434782608695, 0.967741935483871, 1.0, 0...  \n",
       "26  [0.18518518518518517, 0.75, 0.3428571428571428...  \n",
       "27  [0.1111111111111111, 0.11538461538461539, 0.0,...  \n",
       "28  [0.05970149253731343, 0.030303030303030304, 0....  \n",
       "29  [0.2826086956521739, 0.17721518987341772, 0.39...  \n",
       "30  [0.8620689655172413, 0.9310344827586207, 0.888...  \n",
       "31  [0.782608695652174, 0.9538461538461539, 0.9090...  \n",
       "32  [0.9285714285714286, 0.9433962264150944, 0.981...  \n",
       "33  [0.8214285714285714, 0.90625, 0.98461538461538...  \n",
       "34  [0.3508771929824561, 0.7936507936507936, 0.550...  \n",
       "35  [0.3157894736842105, 0.0, 0.2903225806451613, ...  \n",
       "36  [0.2, 0.3380281690140845, 0.12, 0.548387096774...  \n",
       "37  [0.2391304347826087, 0.08450704225352113, 0.36...  \n",
       "38  [0.7666666666666667, 0.8444444444444444, 0.920...  \n",
       "39  [0.6818181818181818, 0.9259259259259259, 0.869...  "
      ]
     },
     "execution_count": 67,
     "metadata": {},
     "output_type": "execute_result"
    }
   ],
   "source": [
    "results_df"
   ]
  },
  {
   "cell_type": "code",
   "execution_count": 68,
   "id": "e8d83c89-bc22-4000-bdc7-5203bd608f11",
   "metadata": {},
   "outputs": [],
   "source": [
    "results_df.to_csv('../store_classification_results.csv')"
   ]
  },
  {
   "cell_type": "markdown",
   "id": "95023007-5fab-41fe-8a6f-ffeb09c75487",
   "metadata": {},
   "source": [
    "### Store classification results"
   ]
  },
  {
   "cell_type": "code",
   "execution_count": 71,
   "id": "564de1a1-a9eb-45ec-ad90-897b624dc02d",
   "metadata": {
    "editable": true,
    "slideshow": {
     "slide_type": ""
    },
    "tags": []
   },
   "outputs": [
    {
     "data": {
      "text/html": [
       "<div>\n",
       "<style scoped>\n",
       "    .dataframe tbody tr th:only-of-type {\n",
       "        vertical-align: middle;\n",
       "    }\n",
       "\n",
       "    .dataframe tbody tr th {\n",
       "        vertical-align: top;\n",
       "    }\n",
       "\n",
       "    .dataframe thead th {\n",
       "        text-align: right;\n",
       "    }\n",
       "</style>\n",
       "<table border=\"1\" class=\"dataframe\">\n",
       "  <thead>\n",
       "    <tr style=\"text-align: right;\">\n",
       "      <th></th>\n",
       "      <th>model</th>\n",
       "      <th>acc</th>\n",
       "      <th>cm</th>\n",
       "      <th>f1</th>\n",
       "    </tr>\n",
       "  </thead>\n",
       "  <tbody>\n",
       "    <tr>\n",
       "      <th>17</th>\n",
       "      <td>random_forest_df_week_prev_store_not_scaled</td>\n",
       "      <td>0.986014</td>\n",
       "      <td>[[27, 0, 0, 0, 0, 0, 0, 0, 0, 0, 0, 0, 0, 0, 0...</td>\n",
       "      <td>[0.9818181818181818, 0.9818181818181818, 1.0, ...</td>\n",
       "    </tr>\n",
       "    <tr>\n",
       "      <th>24</th>\n",
       "      <td>random_forest_df_week_prev_diff_store_scaled</td>\n",
       "      <td>0.980575</td>\n",
       "      <td>[[26, 0, 0, 0, 0, 0, 0, 0, 0, 0, 0, 0, 0, 0, 0...</td>\n",
       "      <td>[0.896551724137931, 0.9846153846153847, 0.9841...</td>\n",
       "    </tr>\n",
       "    <tr>\n",
       "      <th>16</th>\n",
       "      <td>random_forest_df_week_prev_store_scaled</td>\n",
       "      <td>0.979798</td>\n",
       "      <td>[[26, 0, 0, 0, 0, 0, 0, 0, 0, 0, 0, 0, 0, 0, 0...</td>\n",
       "      <td>[0.9122807017543859, 0.9411764705882353, 0.966...</td>\n",
       "    </tr>\n",
       "    <tr>\n",
       "      <th>32</th>\n",
       "      <td>random_forest_df_unique_store_scaled</td>\n",
       "      <td>0.979021</td>\n",
       "      <td>[[26, 1, 0, 0, 0, 0, 0, 0, 0, 0, 0, 0, 0, 0, 0...</td>\n",
       "      <td>[0.9285714285714286, 0.9433962264150944, 0.981...</td>\n",
       "    </tr>\n",
       "    <tr>\n",
       "      <th>25</th>\n",
       "      <td>random_forest_df_week_prev_diff_store_not_scaled</td>\n",
       "      <td>0.979021</td>\n",
       "      <td>[[21, 0, 0, 0, 0, 0, 0, 0, 0, 0, 0, 0, 0, 0, 0...</td>\n",
       "      <td>[0.9130434782608695, 0.967741935483871, 1.0, 0...</td>\n",
       "    </tr>\n",
       "  </tbody>\n",
       "</table>\n",
       "</div>"
      ],
      "text/plain": [
       "                                               model       acc  \\\n",
       "17       random_forest_df_week_prev_store_not_scaled  0.986014   \n",
       "24      random_forest_df_week_prev_diff_store_scaled  0.980575   \n",
       "16           random_forest_df_week_prev_store_scaled  0.979798   \n",
       "32              random_forest_df_unique_store_scaled  0.979021   \n",
       "25  random_forest_df_week_prev_diff_store_not_scaled  0.979021   \n",
       "\n",
       "                                                   cm  \\\n",
       "17  [[27, 0, 0, 0, 0, 0, 0, 0, 0, 0, 0, 0, 0, 0, 0...   \n",
       "24  [[26, 0, 0, 0, 0, 0, 0, 0, 0, 0, 0, 0, 0, 0, 0...   \n",
       "16  [[26, 0, 0, 0, 0, 0, 0, 0, 0, 0, 0, 0, 0, 0, 0...   \n",
       "32  [[26, 1, 0, 0, 0, 0, 0, 0, 0, 0, 0, 0, 0, 0, 0...   \n",
       "25  [[21, 0, 0, 0, 0, 0, 0, 0, 0, 0, 0, 0, 0, 0, 0...   \n",
       "\n",
       "                                                   f1  \n",
       "17  [0.9818181818181818, 0.9818181818181818, 1.0, ...  \n",
       "24  [0.896551724137931, 0.9846153846153847, 0.9841...  \n",
       "16  [0.9122807017543859, 0.9411764705882353, 0.966...  \n",
       "32  [0.9285714285714286, 0.9433962264150944, 0.981...  \n",
       "25  [0.9130434782608695, 0.967741935483871, 1.0, 0...  "
      ]
     },
     "execution_count": 71,
     "metadata": {},
     "output_type": "execute_result"
    }
   ],
   "source": [
    "results_df.sort_values(by=['acc'], ascending=False).head()"
   ]
  },
  {
   "cell_type": "markdown",
   "id": "d7af344f-f6d6-460b-87eb-c0d8b1b98c8d",
   "metadata": {},
   "source": [
    "## Important note - dataframe with all engineered features saved to file 'walmart_sales_engineered.csv'"
   ]
  },
  {
   "cell_type": "code",
   "execution_count": null,
   "id": "9c254de4-7b06-4ff9-9ac3-ff2533f18d93",
   "metadata": {},
   "outputs": [],
   "source": [
    "# df.to_csv('../datasets/walmart_sales_engineered.csv')"
   ]
  },
  {
   "cell_type": "code",
   "execution_count": null,
   "id": "1bcfa554-5f63-4b2c-b5a8-68658fbaf880",
   "metadata": {},
   "outputs": [],
   "source": []
  }
 ],
 "metadata": {
  "kernelspec": {
   "display_name": "ml_zoo_venv",
   "language": "python",
   "name": "ml_zoo_venv"
  },
  "language_info": {
   "codemirror_mode": {
    "name": "ipython",
    "version": 3
   },
   "file_extension": ".py",
   "mimetype": "text/x-python",
   "name": "python",
   "nbconvert_exporter": "python",
   "pygments_lexer": "ipython3",
   "version": "3.10.9"
  }
 },
 "nbformat": 4,
 "nbformat_minor": 5
}
