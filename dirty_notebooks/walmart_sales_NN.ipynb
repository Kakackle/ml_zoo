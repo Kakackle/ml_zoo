{
 "cells": [
  {
   "cell_type": "markdown",
   "id": "07aa90e9-776f-4eac-b412-3c81b57538bc",
   "metadata": {},
   "source": [
    "## Project 4. Store sales prediction using Neural Networks\n",
    "### Walmart sales from project 1\n",
    "### Rossmann sales prediction (6 weeks) on data of different nature\n",
    "\n",
    "1. With TensorFlow on raw data (cleaned-up NaNs, errors, inconsistencies)\n",
    "2. With TensorFlow WITH engineered features from project 1\n",
    "3. With PyTorch?"
   ]
  },
  {
   "cell_type": "markdown",
   "id": "c9b6d3d2-7c34-4ad9-b63a-3b3adf15fa9c",
   "metadata": {},
   "source": [
    "### Code setup"
   ]
  },
  {
   "cell_type": "code",
   "execution_count": 113,
   "id": "7b328ab9-563e-4255-a488-3c32cbd746bd",
   "metadata": {},
   "outputs": [],
   "source": [
    "import pandas as pd\n",
    "import numpy as np\n",
    "\n",
    "from tensorflow import keras\n",
    "from tensorflow.keras import layers\n",
    "import tensorflow as tf\n",
    "from tensorflow.keras.callbacks import EarlyStopping\n",
    "\n",
    "import matplotlib.pyplot as plt\n",
    "import seaborn as sns\n",
    "\n",
    "from sklearn.model_selection import train_test_split\n",
    "from sklearn.preprocessing import MinMaxScaler\n",
    "\n",
    "from sklearn.metrics import mean_absolute_error"
   ]
  },
  {
   "cell_type": "code",
   "execution_count": 3,
   "id": "c189e292-8467-48e9-a234-556477230f79",
   "metadata": {},
   "outputs": [],
   "source": [
    "# base dataset\n",
    "df_path  = '../datasets/walmart_sales.csv'\n",
    "df = pd.read_csv(df_path)"
   ]
  },
  {
   "cell_type": "markdown",
   "id": "69b4b244-f5f7-4743-baf4-1c4d77d72037",
   "metadata": {},
   "source": [
    "### Necessary cleanup"
   ]
  },
  {
   "cell_type": "code",
   "execution_count": 4,
   "id": "87d9d971-b2e9-465b-a043-d8c98166ff4c",
   "metadata": {},
   "outputs": [
    {
     "data": {
      "text/plain": [
       "Store           0\n",
       "Date            0\n",
       "Weekly_Sales    0\n",
       "Holiday_Flag    0\n",
       "Temperature     0\n",
       "Fuel_Price      0\n",
       "CPI             0\n",
       "Unemployment    0\n",
       "dtype: int64"
      ]
     },
     "execution_count": 4,
     "metadata": {},
     "output_type": "execute_result"
    }
   ],
   "source": [
    "df.isna().sum()"
   ]
  },
  {
   "cell_type": "code",
   "execution_count": 5,
   "id": "8283ac29-2439-413d-b097-b8bfe570a5a3",
   "metadata": {},
   "outputs": [
    {
     "data": {
      "text/plain": [
       "Store             int64\n",
       "Date             object\n",
       "Weekly_Sales    float64\n",
       "Holiday_Flag      int64\n",
       "Temperature     float64\n",
       "Fuel_Price      float64\n",
       "CPI             float64\n",
       "Unemployment    float64\n",
       "dtype: object"
      ]
     },
     "execution_count": 5,
     "metadata": {},
     "output_type": "execute_result"
    }
   ],
   "source": [
    "df.dtypes"
   ]
  },
  {
   "cell_type": "code",
   "execution_count": 6,
   "id": "76e38180-4efc-431e-a80c-8071ddbe7b05",
   "metadata": {},
   "outputs": [],
   "source": [
    "numerical_types = ['int32','int64','float32','float64']"
   ]
  },
  {
   "cell_type": "code",
   "execution_count": 7,
   "id": "e092295f-37d4-4592-bc81-067e2f73d7a5",
   "metadata": {},
   "outputs": [
    {
     "data": {
      "text/plain": [
       "['Store',\n",
       " 'Weekly_Sales',\n",
       " 'Holiday_Flag',\n",
       " 'Temperature',\n",
       " 'Fuel_Price',\n",
       " 'CPI',\n",
       " 'Unemployment']"
      ]
     },
     "execution_count": 7,
     "metadata": {},
     "output_type": "execute_result"
    }
   ],
   "source": [
    "numerical_cols = [col for col in df.columns if df[col].dtype in numerical_types]\n",
    "numerical_cols"
   ]
  },
  {
   "cell_type": "markdown",
   "id": "9aa667f7-c7a8-4bcf-b370-48cc8c5d5dfe",
   "metadata": {},
   "source": [
    "#### 0-1 scaling\n",
    "Typically heavily recommended for gradient-descent based algorithms"
   ]
  },
  {
   "cell_type": "code",
   "execution_count": 9,
   "id": "a8afe476-5a0f-4487-bf1a-858ce15f562c",
   "metadata": {},
   "outputs": [
    {
     "data": {
      "text/html": [
       "<style>#sk-container-id-1 {\n",
       "  /* Definition of color scheme common for light and dark mode */\n",
       "  --sklearn-color-text: black;\n",
       "  --sklearn-color-line: gray;\n",
       "  /* Definition of color scheme for unfitted estimators */\n",
       "  --sklearn-color-unfitted-level-0: #fff5e6;\n",
       "  --sklearn-color-unfitted-level-1: #f6e4d2;\n",
       "  --sklearn-color-unfitted-level-2: #ffe0b3;\n",
       "  --sklearn-color-unfitted-level-3: chocolate;\n",
       "  /* Definition of color scheme for fitted estimators */\n",
       "  --sklearn-color-fitted-level-0: #f0f8ff;\n",
       "  --sklearn-color-fitted-level-1: #d4ebff;\n",
       "  --sklearn-color-fitted-level-2: #b3dbfd;\n",
       "  --sklearn-color-fitted-level-3: cornflowerblue;\n",
       "\n",
       "  /* Specific color for light theme */\n",
       "  --sklearn-color-text-on-default-background: var(--sg-text-color, var(--theme-code-foreground, var(--jp-content-font-color1, black)));\n",
       "  --sklearn-color-background: var(--sg-background-color, var(--theme-background, var(--jp-layout-color0, white)));\n",
       "  --sklearn-color-border-box: var(--sg-text-color, var(--theme-code-foreground, var(--jp-content-font-color1, black)));\n",
       "  --sklearn-color-icon: #696969;\n",
       "\n",
       "  @media (prefers-color-scheme: dark) {\n",
       "    /* Redefinition of color scheme for dark theme */\n",
       "    --sklearn-color-text-on-default-background: var(--sg-text-color, var(--theme-code-foreground, var(--jp-content-font-color1, white)));\n",
       "    --sklearn-color-background: var(--sg-background-color, var(--theme-background, var(--jp-layout-color0, #111)));\n",
       "    --sklearn-color-border-box: var(--sg-text-color, var(--theme-code-foreground, var(--jp-content-font-color1, white)));\n",
       "    --sklearn-color-icon: #878787;\n",
       "  }\n",
       "}\n",
       "\n",
       "#sk-container-id-1 {\n",
       "  color: var(--sklearn-color-text);\n",
       "}\n",
       "\n",
       "#sk-container-id-1 pre {\n",
       "  padding: 0;\n",
       "}\n",
       "\n",
       "#sk-container-id-1 input.sk-hidden--visually {\n",
       "  border: 0;\n",
       "  clip: rect(1px 1px 1px 1px);\n",
       "  clip: rect(1px, 1px, 1px, 1px);\n",
       "  height: 1px;\n",
       "  margin: -1px;\n",
       "  overflow: hidden;\n",
       "  padding: 0;\n",
       "  position: absolute;\n",
       "  width: 1px;\n",
       "}\n",
       "\n",
       "#sk-container-id-1 div.sk-dashed-wrapped {\n",
       "  border: 1px dashed var(--sklearn-color-line);\n",
       "  margin: 0 0.4em 0.5em 0.4em;\n",
       "  box-sizing: border-box;\n",
       "  padding-bottom: 0.4em;\n",
       "  background-color: var(--sklearn-color-background);\n",
       "}\n",
       "\n",
       "#sk-container-id-1 div.sk-container {\n",
       "  /* jupyter's `normalize.less` sets `[hidden] { display: none; }`\n",
       "     but bootstrap.min.css set `[hidden] { display: none !important; }`\n",
       "     so we also need the `!important` here to be able to override the\n",
       "     default hidden behavior on the sphinx rendered scikit-learn.org.\n",
       "     See: https://github.com/scikit-learn/scikit-learn/issues/21755 */\n",
       "  display: inline-block !important;\n",
       "  position: relative;\n",
       "}\n",
       "\n",
       "#sk-container-id-1 div.sk-text-repr-fallback {\n",
       "  display: none;\n",
       "}\n",
       "\n",
       "div.sk-parallel-item,\n",
       "div.sk-serial,\n",
       "div.sk-item {\n",
       "  /* draw centered vertical line to link estimators */\n",
       "  background-image: linear-gradient(var(--sklearn-color-text-on-default-background), var(--sklearn-color-text-on-default-background));\n",
       "  background-size: 2px 100%;\n",
       "  background-repeat: no-repeat;\n",
       "  background-position: center center;\n",
       "}\n",
       "\n",
       "/* Parallel-specific style estimator block */\n",
       "\n",
       "#sk-container-id-1 div.sk-parallel-item::after {\n",
       "  content: \"\";\n",
       "  width: 100%;\n",
       "  border-bottom: 2px solid var(--sklearn-color-text-on-default-background);\n",
       "  flex-grow: 1;\n",
       "}\n",
       "\n",
       "#sk-container-id-1 div.sk-parallel {\n",
       "  display: flex;\n",
       "  align-items: stretch;\n",
       "  justify-content: center;\n",
       "  background-color: var(--sklearn-color-background);\n",
       "  position: relative;\n",
       "}\n",
       "\n",
       "#sk-container-id-1 div.sk-parallel-item {\n",
       "  display: flex;\n",
       "  flex-direction: column;\n",
       "}\n",
       "\n",
       "#sk-container-id-1 div.sk-parallel-item:first-child::after {\n",
       "  align-self: flex-end;\n",
       "  width: 50%;\n",
       "}\n",
       "\n",
       "#sk-container-id-1 div.sk-parallel-item:last-child::after {\n",
       "  align-self: flex-start;\n",
       "  width: 50%;\n",
       "}\n",
       "\n",
       "#sk-container-id-1 div.sk-parallel-item:only-child::after {\n",
       "  width: 0;\n",
       "}\n",
       "\n",
       "/* Serial-specific style estimator block */\n",
       "\n",
       "#sk-container-id-1 div.sk-serial {\n",
       "  display: flex;\n",
       "  flex-direction: column;\n",
       "  align-items: center;\n",
       "  background-color: var(--sklearn-color-background);\n",
       "  padding-right: 1em;\n",
       "  padding-left: 1em;\n",
       "}\n",
       "\n",
       "\n",
       "/* Toggleable style: style used for estimator/Pipeline/ColumnTransformer box that is\n",
       "clickable and can be expanded/collapsed.\n",
       "- Pipeline and ColumnTransformer use this feature and define the default style\n",
       "- Estimators will overwrite some part of the style using the `sk-estimator` class\n",
       "*/\n",
       "\n",
       "/* Pipeline and ColumnTransformer style (default) */\n",
       "\n",
       "#sk-container-id-1 div.sk-toggleable {\n",
       "  /* Default theme specific background. It is overwritten whether we have a\n",
       "  specific estimator or a Pipeline/ColumnTransformer */\n",
       "  background-color: var(--sklearn-color-background);\n",
       "}\n",
       "\n",
       "/* Toggleable label */\n",
       "#sk-container-id-1 label.sk-toggleable__label {\n",
       "  cursor: pointer;\n",
       "  display: block;\n",
       "  width: 100%;\n",
       "  margin-bottom: 0;\n",
       "  padding: 0.5em;\n",
       "  box-sizing: border-box;\n",
       "  text-align: center;\n",
       "}\n",
       "\n",
       "#sk-container-id-1 label.sk-toggleable__label-arrow:before {\n",
       "  /* Arrow on the left of the label */\n",
       "  content: \"▸\";\n",
       "  float: left;\n",
       "  margin-right: 0.25em;\n",
       "  color: var(--sklearn-color-icon);\n",
       "}\n",
       "\n",
       "#sk-container-id-1 label.sk-toggleable__label-arrow:hover:before {\n",
       "  color: var(--sklearn-color-text);\n",
       "}\n",
       "\n",
       "/* Toggleable content - dropdown */\n",
       "\n",
       "#sk-container-id-1 div.sk-toggleable__content {\n",
       "  max-height: 0;\n",
       "  max-width: 0;\n",
       "  overflow: hidden;\n",
       "  text-align: left;\n",
       "  /* unfitted */\n",
       "  background-color: var(--sklearn-color-unfitted-level-0);\n",
       "}\n",
       "\n",
       "#sk-container-id-1 div.sk-toggleable__content.fitted {\n",
       "  /* fitted */\n",
       "  background-color: var(--sklearn-color-fitted-level-0);\n",
       "}\n",
       "\n",
       "#sk-container-id-1 div.sk-toggleable__content pre {\n",
       "  margin: 0.2em;\n",
       "  border-radius: 0.25em;\n",
       "  color: var(--sklearn-color-text);\n",
       "  /* unfitted */\n",
       "  background-color: var(--sklearn-color-unfitted-level-0);\n",
       "}\n",
       "\n",
       "#sk-container-id-1 div.sk-toggleable__content.fitted pre {\n",
       "  /* unfitted */\n",
       "  background-color: var(--sklearn-color-fitted-level-0);\n",
       "}\n",
       "\n",
       "#sk-container-id-1 input.sk-toggleable__control:checked~div.sk-toggleable__content {\n",
       "  /* Expand drop-down */\n",
       "  max-height: 200px;\n",
       "  max-width: 100%;\n",
       "  overflow: auto;\n",
       "}\n",
       "\n",
       "#sk-container-id-1 input.sk-toggleable__control:checked~label.sk-toggleable__label-arrow:before {\n",
       "  content: \"▾\";\n",
       "}\n",
       "\n",
       "/* Pipeline/ColumnTransformer-specific style */\n",
       "\n",
       "#sk-container-id-1 div.sk-label input.sk-toggleable__control:checked~label.sk-toggleable__label {\n",
       "  color: var(--sklearn-color-text);\n",
       "  background-color: var(--sklearn-color-unfitted-level-2);\n",
       "}\n",
       "\n",
       "#sk-container-id-1 div.sk-label.fitted input.sk-toggleable__control:checked~label.sk-toggleable__label {\n",
       "  background-color: var(--sklearn-color-fitted-level-2);\n",
       "}\n",
       "\n",
       "/* Estimator-specific style */\n",
       "\n",
       "/* Colorize estimator box */\n",
       "#sk-container-id-1 div.sk-estimator input.sk-toggleable__control:checked~label.sk-toggleable__label {\n",
       "  /* unfitted */\n",
       "  background-color: var(--sklearn-color-unfitted-level-2);\n",
       "}\n",
       "\n",
       "#sk-container-id-1 div.sk-estimator.fitted input.sk-toggleable__control:checked~label.sk-toggleable__label {\n",
       "  /* fitted */\n",
       "  background-color: var(--sklearn-color-fitted-level-2);\n",
       "}\n",
       "\n",
       "#sk-container-id-1 div.sk-label label.sk-toggleable__label,\n",
       "#sk-container-id-1 div.sk-label label {\n",
       "  /* The background is the default theme color */\n",
       "  color: var(--sklearn-color-text-on-default-background);\n",
       "}\n",
       "\n",
       "/* On hover, darken the color of the background */\n",
       "#sk-container-id-1 div.sk-label:hover label.sk-toggleable__label {\n",
       "  color: var(--sklearn-color-text);\n",
       "  background-color: var(--sklearn-color-unfitted-level-2);\n",
       "}\n",
       "\n",
       "/* Label box, darken color on hover, fitted */\n",
       "#sk-container-id-1 div.sk-label.fitted:hover label.sk-toggleable__label.fitted {\n",
       "  color: var(--sklearn-color-text);\n",
       "  background-color: var(--sklearn-color-fitted-level-2);\n",
       "}\n",
       "\n",
       "/* Estimator label */\n",
       "\n",
       "#sk-container-id-1 div.sk-label label {\n",
       "  font-family: monospace;\n",
       "  font-weight: bold;\n",
       "  display: inline-block;\n",
       "  line-height: 1.2em;\n",
       "}\n",
       "\n",
       "#sk-container-id-1 div.sk-label-container {\n",
       "  text-align: center;\n",
       "}\n",
       "\n",
       "/* Estimator-specific */\n",
       "#sk-container-id-1 div.sk-estimator {\n",
       "  font-family: monospace;\n",
       "  border: 1px dotted var(--sklearn-color-border-box);\n",
       "  border-radius: 0.25em;\n",
       "  box-sizing: border-box;\n",
       "  margin-bottom: 0.5em;\n",
       "  /* unfitted */\n",
       "  background-color: var(--sklearn-color-unfitted-level-0);\n",
       "}\n",
       "\n",
       "#sk-container-id-1 div.sk-estimator.fitted {\n",
       "  /* fitted */\n",
       "  background-color: var(--sklearn-color-fitted-level-0);\n",
       "}\n",
       "\n",
       "/* on hover */\n",
       "#sk-container-id-1 div.sk-estimator:hover {\n",
       "  /* unfitted */\n",
       "  background-color: var(--sklearn-color-unfitted-level-2);\n",
       "}\n",
       "\n",
       "#sk-container-id-1 div.sk-estimator.fitted:hover {\n",
       "  /* fitted */\n",
       "  background-color: var(--sklearn-color-fitted-level-2);\n",
       "}\n",
       "\n",
       "/* Specification for estimator info (e.g. \"i\" and \"?\") */\n",
       "\n",
       "/* Common style for \"i\" and \"?\" */\n",
       "\n",
       ".sk-estimator-doc-link,\n",
       "a:link.sk-estimator-doc-link,\n",
       "a:visited.sk-estimator-doc-link {\n",
       "  float: right;\n",
       "  font-size: smaller;\n",
       "  line-height: 1em;\n",
       "  font-family: monospace;\n",
       "  background-color: var(--sklearn-color-background);\n",
       "  border-radius: 1em;\n",
       "  height: 1em;\n",
       "  width: 1em;\n",
       "  text-decoration: none !important;\n",
       "  margin-left: 1ex;\n",
       "  /* unfitted */\n",
       "  border: var(--sklearn-color-unfitted-level-1) 1pt solid;\n",
       "  color: var(--sklearn-color-unfitted-level-1);\n",
       "}\n",
       "\n",
       ".sk-estimator-doc-link.fitted,\n",
       "a:link.sk-estimator-doc-link.fitted,\n",
       "a:visited.sk-estimator-doc-link.fitted {\n",
       "  /* fitted */\n",
       "  border: var(--sklearn-color-fitted-level-1) 1pt solid;\n",
       "  color: var(--sklearn-color-fitted-level-1);\n",
       "}\n",
       "\n",
       "/* On hover */\n",
       "div.sk-estimator:hover .sk-estimator-doc-link:hover,\n",
       ".sk-estimator-doc-link:hover,\n",
       "div.sk-label-container:hover .sk-estimator-doc-link:hover,\n",
       ".sk-estimator-doc-link:hover {\n",
       "  /* unfitted */\n",
       "  background-color: var(--sklearn-color-unfitted-level-3);\n",
       "  color: var(--sklearn-color-background);\n",
       "  text-decoration: none;\n",
       "}\n",
       "\n",
       "div.sk-estimator.fitted:hover .sk-estimator-doc-link.fitted:hover,\n",
       ".sk-estimator-doc-link.fitted:hover,\n",
       "div.sk-label-container:hover .sk-estimator-doc-link.fitted:hover,\n",
       ".sk-estimator-doc-link.fitted:hover {\n",
       "  /* fitted */\n",
       "  background-color: var(--sklearn-color-fitted-level-3);\n",
       "  color: var(--sklearn-color-background);\n",
       "  text-decoration: none;\n",
       "}\n",
       "\n",
       "/* Span, style for the box shown on hovering the info icon */\n",
       ".sk-estimator-doc-link span {\n",
       "  display: none;\n",
       "  z-index: 9999;\n",
       "  position: relative;\n",
       "  font-weight: normal;\n",
       "  right: .2ex;\n",
       "  padding: .5ex;\n",
       "  margin: .5ex;\n",
       "  width: min-content;\n",
       "  min-width: 20ex;\n",
       "  max-width: 50ex;\n",
       "  color: var(--sklearn-color-text);\n",
       "  box-shadow: 2pt 2pt 4pt #999;\n",
       "  /* unfitted */\n",
       "  background: var(--sklearn-color-unfitted-level-0);\n",
       "  border: .5pt solid var(--sklearn-color-unfitted-level-3);\n",
       "}\n",
       "\n",
       ".sk-estimator-doc-link.fitted span {\n",
       "  /* fitted */\n",
       "  background: var(--sklearn-color-fitted-level-0);\n",
       "  border: var(--sklearn-color-fitted-level-3);\n",
       "}\n",
       "\n",
       ".sk-estimator-doc-link:hover span {\n",
       "  display: block;\n",
       "}\n",
       "\n",
       "/* \"?\"-specific style due to the `<a>` HTML tag */\n",
       "\n",
       "#sk-container-id-1 a.estimator_doc_link {\n",
       "  float: right;\n",
       "  font-size: 1rem;\n",
       "  line-height: 1em;\n",
       "  font-family: monospace;\n",
       "  background-color: var(--sklearn-color-background);\n",
       "  border-radius: 1rem;\n",
       "  height: 1rem;\n",
       "  width: 1rem;\n",
       "  text-decoration: none;\n",
       "  /* unfitted */\n",
       "  color: var(--sklearn-color-unfitted-level-1);\n",
       "  border: var(--sklearn-color-unfitted-level-1) 1pt solid;\n",
       "}\n",
       "\n",
       "#sk-container-id-1 a.estimator_doc_link.fitted {\n",
       "  /* fitted */\n",
       "  border: var(--sklearn-color-fitted-level-1) 1pt solid;\n",
       "  color: var(--sklearn-color-fitted-level-1);\n",
       "}\n",
       "\n",
       "/* On hover */\n",
       "#sk-container-id-1 a.estimator_doc_link:hover {\n",
       "  /* unfitted */\n",
       "  background-color: var(--sklearn-color-unfitted-level-3);\n",
       "  color: var(--sklearn-color-background);\n",
       "  text-decoration: none;\n",
       "}\n",
       "\n",
       "#sk-container-id-1 a.estimator_doc_link.fitted:hover {\n",
       "  /* fitted */\n",
       "  background-color: var(--sklearn-color-fitted-level-3);\n",
       "}\n",
       "</style><div id=\"sk-container-id-1\" class=\"sk-top-container\"><div class=\"sk-text-repr-fallback\"><pre>MinMaxScaler()</pre><b>In a Jupyter environment, please rerun this cell to show the HTML representation or trust the notebook. <br />On GitHub, the HTML representation is unable to render, please try loading this page with nbviewer.org.</b></div><div class=\"sk-container\" hidden><div class=\"sk-item\"><div class=\"sk-estimator fitted sk-toggleable\"><input class=\"sk-toggleable__control sk-hidden--visually\" id=\"sk-estimator-id-1\" type=\"checkbox\" checked><label for=\"sk-estimator-id-1\" class=\"sk-toggleable__label fitted sk-toggleable__label-arrow fitted\">&nbsp;&nbsp;MinMaxScaler<a class=\"sk-estimator-doc-link fitted\" rel=\"noreferrer\" target=\"_blank\" href=\"https://scikit-learn.org/1.4/modules/generated/sklearn.preprocessing.MinMaxScaler.html\">?<span>Documentation for MinMaxScaler</span></a><span class=\"sk-estimator-doc-link fitted\">i<span>Fitted</span></span></label><div class=\"sk-toggleable__content fitted\"><pre>MinMaxScaler()</pre></div> </div></div></div></div>"
      ],
      "text/plain": [
       "MinMaxScaler()"
      ]
     },
     "execution_count": 9,
     "metadata": {},
     "output_type": "execute_result"
    }
   ],
   "source": [
    "scaler = MinMaxScaler()\n",
    "scaler.fit(df[numerical_cols])"
   ]
  },
  {
   "cell_type": "code",
   "execution_count": 10,
   "id": "12993661-2068-4c70-822f-5b4041ff329c",
   "metadata": {},
   "outputs": [],
   "source": [
    "df_scaled = df.copy()"
   ]
  },
  {
   "cell_type": "code",
   "execution_count": 11,
   "id": "a64e15c5-5217-48dc-b172-8eeb1f97fa3a",
   "metadata": {},
   "outputs": [],
   "source": [
    "df_scaled[numerical_cols] = scaler.transform(df_scaled[numerical_cols])"
   ]
  },
  {
   "cell_type": "code",
   "execution_count": 12,
   "id": "811f1cf9-18c9-41bf-9873-c221dfea1b18",
   "metadata": {},
   "outputs": [
    {
     "data": {
      "text/html": [
       "<div>\n",
       "<style scoped>\n",
       "    .dataframe tbody tr th:only-of-type {\n",
       "        vertical-align: middle;\n",
       "    }\n",
       "\n",
       "    .dataframe tbody tr th {\n",
       "        vertical-align: top;\n",
       "    }\n",
       "\n",
       "    .dataframe thead th {\n",
       "        text-align: right;\n",
       "    }\n",
       "</style>\n",
       "<table border=\"1\" class=\"dataframe\">\n",
       "  <thead>\n",
       "    <tr style=\"text-align: right;\">\n",
       "      <th></th>\n",
       "      <th>Store</th>\n",
       "      <th>Date</th>\n",
       "      <th>Weekly_Sales</th>\n",
       "      <th>Holiday_Flag</th>\n",
       "      <th>Temperature</th>\n",
       "      <th>Fuel_Price</th>\n",
       "      <th>CPI</th>\n",
       "      <th>Unemployment</th>\n",
       "    </tr>\n",
       "  </thead>\n",
       "  <tbody>\n",
       "    <tr>\n",
       "      <th>0</th>\n",
       "      <td>0.0</td>\n",
       "      <td>05-02-2010</td>\n",
       "      <td>0.397291</td>\n",
       "      <td>0.0</td>\n",
       "      <td>0.434149</td>\n",
       "      <td>0.050100</td>\n",
       "      <td>0.840500</td>\n",
       "      <td>0.405118</td>\n",
       "    </tr>\n",
       "    <tr>\n",
       "      <th>1</th>\n",
       "      <td>0.0</td>\n",
       "      <td>12-02-2010</td>\n",
       "      <td>0.396811</td>\n",
       "      <td>1.0</td>\n",
       "      <td>0.396967</td>\n",
       "      <td>0.038076</td>\n",
       "      <td>0.841941</td>\n",
       "      <td>0.405118</td>\n",
       "    </tr>\n",
       "    <tr>\n",
       "      <th>2</th>\n",
       "      <td>0.0</td>\n",
       "      <td>19-02-2010</td>\n",
       "      <td>0.388501</td>\n",
       "      <td>0.0</td>\n",
       "      <td>0.410861</td>\n",
       "      <td>0.021042</td>\n",
       "      <td>0.842405</td>\n",
       "      <td>0.405118</td>\n",
       "    </tr>\n",
       "    <tr>\n",
       "      <th>3</th>\n",
       "      <td>0.0</td>\n",
       "      <td>26-02-2010</td>\n",
       "      <td>0.332458</td>\n",
       "      <td>0.0</td>\n",
       "      <td>0.476419</td>\n",
       "      <td>0.044589</td>\n",
       "      <td>0.842707</td>\n",
       "      <td>0.405118</td>\n",
       "    </tr>\n",
       "    <tr>\n",
       "      <th>4</th>\n",
       "      <td>0.0</td>\n",
       "      <td>05-03-2010</td>\n",
       "      <td>0.372661</td>\n",
       "      <td>0.0</td>\n",
       "      <td>0.475147</td>\n",
       "      <td>0.076653</td>\n",
       "      <td>0.843008</td>\n",
       "      <td>0.405118</td>\n",
       "    </tr>\n",
       "  </tbody>\n",
       "</table>\n",
       "</div>"
      ],
      "text/plain": [
       "   Store        Date  Weekly_Sales  Holiday_Flag  Temperature  Fuel_Price  \\\n",
       "0    0.0  05-02-2010      0.397291           0.0     0.434149    0.050100   \n",
       "1    0.0  12-02-2010      0.396811           1.0     0.396967    0.038076   \n",
       "2    0.0  19-02-2010      0.388501           0.0     0.410861    0.021042   \n",
       "3    0.0  26-02-2010      0.332458           0.0     0.476419    0.044589   \n",
       "4    0.0  05-03-2010      0.372661           0.0     0.475147    0.076653   \n",
       "\n",
       "        CPI  Unemployment  \n",
       "0  0.840500      0.405118  \n",
       "1  0.841941      0.405118  \n",
       "2  0.842405      0.405118  \n",
       "3  0.842707      0.405118  \n",
       "4  0.843008      0.405118  "
      ]
     },
     "execution_count": 12,
     "metadata": {},
     "output_type": "execute_result"
    }
   ],
   "source": [
    "df_scaled.head()"
   ]
  },
  {
   "cell_type": "code",
   "execution_count": 23,
   "id": "fb2c19b7-a260-4854-a70d-25772396d0f0",
   "metadata": {},
   "outputs": [],
   "source": [
    "df_scaled[numerical_cols] = df_scaled[numerical_cols].astype('float32')"
   ]
  },
  {
   "cell_type": "code",
   "execution_count": 24,
   "id": "16b04a19-3e35-4255-aa0e-0be43d97963a",
   "metadata": {},
   "outputs": [],
   "source": [
    "X = df_scaled.drop(['Weekly_Sales'], axis=1)\n",
    "y = df_scaled['Weekly_Sales']"
   ]
  },
  {
   "cell_type": "markdown",
   "id": "ad1731bf-2984-4bbc-b813-4aad4cb5835e",
   "metadata": {},
   "source": [
    "#### Drop the date for now as it is not a numerical feature and we'd need to preprocess it in some way before supplying to the model"
   ]
  },
  {
   "cell_type": "code",
   "execution_count": 46,
   "id": "390cd22a-ef0d-48f3-ac0b-9c8057aa688e",
   "metadata": {},
   "outputs": [],
   "source": [
    "# date stored separately for possible future use\n",
    "date = df_scaled['Date']"
   ]
  },
  {
   "cell_type": "markdown",
   "id": "4d60d111-bc2e-41fc-87c5-4058f406c887",
   "metadata": {},
   "source": [
    "#### Important: for tensorflow, it may sometimes be necessary to convert dataframes to numpy arrays, with float types at most float32\n",
    "Why? TensorFlow"
   ]
  },
  {
   "cell_type": "code",
   "execution_count": 43,
   "id": "93c04ca0-5122-42c7-aec3-5761d88792bc",
   "metadata": {},
   "outputs": [],
   "source": [
    "X = np.asarray(X.drop(['Date'], axis=1)).astype('float32')"
   ]
  },
  {
   "cell_type": "code",
   "execution_count": 55,
   "id": "1c3e1699-b021-49aa-ba74-08d35acf5eb2",
   "metadata": {},
   "outputs": [
    {
     "data": {
      "text/plain": [
       "numpy.ndarray"
      ]
     },
     "execution_count": 55,
     "metadata": {},
     "output_type": "execute_result"
    }
   ],
   "source": [
    "type(X_train)"
   ]
  },
  {
   "cell_type": "code",
   "execution_count": 47,
   "id": "7872130c-9fa9-43f7-8ac3-817958cc51b1",
   "metadata": {},
   "outputs": [],
   "source": [
    "X_train, X_test, y_train, y_test = train_test_split(X, y, shuffle=True, train_size=0.8)"
   ]
  },
  {
   "cell_type": "code",
   "execution_count": 53,
   "id": "bc59e40a-7c0f-423f-8063-2706de772664",
   "metadata": {},
   "outputs": [],
   "source": [
    "n_features = X_train.shape[1]"
   ]
  },
  {
   "cell_type": "code",
   "execution_count": 54,
   "id": "baa584b5-98ec-47c9-84db-ddc80dd43210",
   "metadata": {},
   "outputs": [],
   "source": [
    "model = keras.Sequential([\n",
    "    layers.Dense(512, activation='relu', input_shape=[n_features]),\n",
    "    layers.Dense(512, activation='relu'),\n",
    "    layers.Dense(512, activation='relu'),\n",
    "    layers.Dense(1),\n",
    "])"
   ]
  },
  {
   "cell_type": "code",
   "execution_count": 57,
   "id": "0a262c82-cbf0-418d-9cb5-ea735158c14a",
   "metadata": {},
   "outputs": [],
   "source": [
    "model.compile(\n",
    "    optimizer='adam',\n",
    "    loss='mae',\n",
    ")"
   ]
  },
  {
   "cell_type": "code",
   "execution_count": 58,
   "id": "e774d989-abdf-4e78-89fa-ea47b6970ec3",
   "metadata": {},
   "outputs": [
    {
     "name": "stdout",
     "output_type": "stream",
     "text": [
      "Epoch 1/10\n",
      "WARNING:tensorflow:From C:\\Users\\User\\Desktop\\programowanie_web_etc\\python_projects\\ml_zoo\\venv\\lib\\site-packages\\keras\\src\\utils\\tf_utils.py:492: The name tf.ragged.RaggedTensorValue is deprecated. Please use tf.compat.v1.ragged.RaggedTensorValue instead.\n",
      "\n",
      "21/21 [==============================] - 1s 11ms/step - loss: 0.1350 - val_loss: 0.1252\n",
      "Epoch 2/10\n",
      "21/21 [==============================] - 0s 7ms/step - loss: 0.1158 - val_loss: 0.1159\n",
      "Epoch 3/10\n",
      "21/21 [==============================] - 0s 6ms/step - loss: 0.1088 - val_loss: 0.1107\n",
      "Epoch 4/10\n",
      "21/21 [==============================] - 0s 7ms/step - loss: 0.1029 - val_loss: 0.1059\n",
      "Epoch 5/10\n",
      "21/21 [==============================] - 0s 6ms/step - loss: 0.1008 - val_loss: 0.1044\n",
      "Epoch 6/10\n",
      "21/21 [==============================] - 0s 7ms/step - loss: 0.0977 - val_loss: 0.1027\n",
      "Epoch 7/10\n",
      "21/21 [==============================] - 0s 6ms/step - loss: 0.0945 - val_loss: 0.0991\n",
      "Epoch 8/10\n",
      "21/21 [==============================] - 0s 6ms/step - loss: 0.0915 - val_loss: 0.1023\n",
      "Epoch 9/10\n",
      "21/21 [==============================] - 0s 7ms/step - loss: 0.0912 - val_loss: 0.0973\n",
      "Epoch 10/10\n",
      "21/21 [==============================] - 0s 6ms/step - loss: 0.0898 - val_loss: 0.0946\n"
     ]
    }
   ],
   "source": [
    "history = model.fit(\n",
    "    X_train, y_train,\n",
    "    validation_data=(X_test, y_test),\n",
    "    batch_size=256,\n",
    "    epochs=10,\n",
    ")"
   ]
  },
  {
   "cell_type": "code",
   "execution_count": 60,
   "id": "ce97881b-2312-4296-9a72-3de645b03757",
   "metadata": {},
   "outputs": [
    {
     "data": {
      "image/png": "[encoded data removed]",
      "text/plain": [
       "<Figure size 640x480 with 1 Axes>"
      ]
     },
     "metadata": {},
     "output_type": "display_data"
    }
   ],
   "source": [
    "# convert the training history to a dataframe\n",
    "history_df = pd.DataFrame(history.history)\n",
    "# use Pandas native plot method\n",
    "history_df['loss'].plot();\n",
    "history_df['val_loss'].plot();"
   ]
  },
  {
   "cell_type": "code",
   "execution_count": 62,
   "id": "25116b52-5c25-401c-a5f5-060dbda13b93",
   "metadata": {},
   "outputs": [
    {
     "name": "stdout",
     "output_type": "stream",
     "text": [
      "41/41 [==============================] - 0s 1ms/step\n"
     ]
    }
   ],
   "source": [
    "y_pred = model.predict(X_test)"
   ]
  },
  {
   "cell_type": "code",
   "execution_count": 64,
   "id": "1cff0664-ed30-4c72-bbac-403920edce89",
   "metadata": {},
   "outputs": [
    {
     "data": {
      "text/plain": [
       "0.0946113"
      ]
     },
     "execution_count": 64,
     "metadata": {},
     "output_type": "execute_result"
    }
   ],
   "source": [
    "mae = mean_absolute_error(y_test, y_pred)\n",
    "mae"
   ]
  },
  {
   "cell_type": "code",
   "execution_count": 66,
   "id": "0711c1a2-a9f8-48e5-9afa-f9829814611f",
   "metadata": {},
   "outputs": [],
   "source": [
    "df_pred = pd.DataFrame()"
   ]
  },
  {
   "cell_type": "code",
   "execution_count": 73,
   "id": "14877252-0744-4e61-bec3-8a3fad952565",
   "metadata": {},
   "outputs": [
    {
     "data": {
      "text/plain": [
       "array([0.23244825, 0.18359867, 0.08644051, ..., 0.32563195, 0.44880763,\n",
       "       0.14418504], dtype=float32)"
      ]
     },
     "execution_count": 73,
     "metadata": {},
     "output_type": "execute_result"
    }
   ],
   "source": [
    "y_pred[:,0]"
   ]
  },
  {
   "cell_type": "code",
   "execution_count": 76,
   "id": "b1069c01-f7d9-448e-b889-7a77320cc8de",
   "metadata": {},
   "outputs": [
    {
     "data": {
      "text/plain": [
       "4104    0.071989\n",
       "4998    0.169474\n",
       "5025    0.062320\n",
       "3474    0.250853\n",
       "5696    0.190182\n",
       "          ...   \n",
       "5291    0.041153\n",
       "5187    0.091362\n",
       "129     0.340604\n",
       "1987    0.372229\n",
       "3566    0.139896\n",
       "Name: Weekly_Sales, Length: 1287, dtype: float32"
      ]
     },
     "execution_count": 76,
     "metadata": {},
     "output_type": "execute_result"
    }
   ],
   "source": [
    "y_test"
   ]
  },
  {
   "cell_type": "code",
   "execution_count": 79,
   "id": "ec0bc2f3-1f59-4df8-9987-8f51e86d6d37",
   "metadata": {},
   "outputs": [
    {
     "data": {
      "text/html": [
       "<div>\n",
       "<style scoped>\n",
       "    .dataframe tbody tr th:only-of-type {\n",
       "        vertical-align: middle;\n",
       "    }\n",
       "\n",
       "    .dataframe tbody tr th {\n",
       "        vertical-align: top;\n",
       "    }\n",
       "\n",
       "    .dataframe thead th {\n",
       "        text-align: right;\n",
       "    }\n",
       "</style>\n",
       "<table border=\"1\" class=\"dataframe\">\n",
       "  <thead>\n",
       "    <tr style=\"text-align: right;\">\n",
       "      <th></th>\n",
       "      <th>y_test</th>\n",
       "      <th>y_pred</th>\n",
       "      <th>error</th>\n",
       "    </tr>\n",
       "  </thead>\n",
       "  <tbody>\n",
       "    <tr>\n",
       "      <th>1088</th>\n",
       "      <td>0.198752</td>\n",
       "      <td>0.199515</td>\n",
       "      <td>0.000763</td>\n",
       "    </tr>\n",
       "    <tr>\n",
       "      <th>386</th>\n",
       "      <td>0.054322</td>\n",
       "      <td>0.052150</td>\n",
       "      <td>0.002172</td>\n",
       "    </tr>\n",
       "    <tr>\n",
       "      <th>1111</th>\n",
       "      <td>0.202236</td>\n",
       "      <td>0.197077</td>\n",
       "      <td>0.005159</td>\n",
       "    </tr>\n",
       "    <tr>\n",
       "      <th>155</th>\n",
       "      <td>0.447587</td>\n",
       "      <td>0.441285</td>\n",
       "      <td>0.006302</td>\n",
       "    </tr>\n",
       "    <tr>\n",
       "      <th>882</th>\n",
       "      <td>0.092065</td>\n",
       "      <td>0.099827</td>\n",
       "      <td>0.007762</td>\n",
       "    </tr>\n",
       "  </tbody>\n",
       "</table>\n",
       "</div>"
      ],
      "text/plain": [
       "        y_test    y_pred     error\n",
       "1088  0.198752  0.199515  0.000763\n",
       "386   0.054322  0.052150  0.002172\n",
       "1111  0.202236  0.197077  0.005159\n",
       "155   0.447587  0.441285  0.006302\n",
       "882   0.092065  0.099827  0.007762"
      ]
     },
     "execution_count": 79,
     "metadata": {},
     "output_type": "execute_result"
    }
   ],
   "source": [
    "df_pred['y_test'] = pd.Series(y_pred[:,0])\n",
    "df_pred['y_pred'] = pd.Series(y_test)\n",
    "df_pred['error'] = abs(df_pred['y_test'] - df_pred['y_pred'])\n",
    "df_pred.sort_values(['error'], ascending=True).head()"
   ]
  },
  {
   "cell_type": "markdown",
   "id": "d332c5e0-37c6-4a4e-81ca-c9510eacf759",
   "metadata": {},
   "source": [
    "Wow, a MAE of 0.09 - incredible performance, but let's not forget - we scaled the data to belong in range 0-1 before training! To get an accurate estimate of model performance, we need to reverse that scaling"
   ]
  },
  {
   "cell_type": "code",
   "execution_count": 90,
   "id": "0acb3b97-ed00-405c-bd90-54df2276cfd9",
   "metadata": {},
   "outputs": [],
   "source": [
    "# scaler.inverse_transform(mae.reshape(1,7))"
   ]
  },
  {
   "cell_type": "markdown",
   "id": "79315ebe-c9d0-4f80-83bc-e77e37d8a53f",
   "metadata": {},
   "source": [
    "### With proper scaling, based on the training section\n",
    "And easy inversability"
   ]
  },
  {
   "cell_type": "code",
   "execution_count": 91,
   "id": "044ce01e-dd6b-4b93-8fa9-6703786297ca",
   "metadata": {},
   "outputs": [],
   "source": [
    "df_proper = df.drop(['Date'], axis=1)"
   ]
  },
  {
   "cell_type": "code",
   "execution_count": 92,
   "id": "67bfc690-32c6-4043-bfce-f5659b9d9048",
   "metadata": {},
   "outputs": [],
   "source": [
    "# Create training and validation splits\n",
    "df_train = df_proper.sample(frac=0.8, random_state=0)\n",
    "df_valid = df_proper.drop(df_train.index)"
   ]
  },
  {
   "cell_type": "code",
   "execution_count": 93,
   "id": "b879cc6a-bbf1-4ac8-9a44-74c4e676213a",
   "metadata": {},
   "outputs": [],
   "source": [
    "max_ = df_train.max(axis=0)\n",
    "min_ = df_train.min(axis=0)\n",
    "df_train = (df_train - min_) / (max_ - min_)\n",
    "df_valid = (df_valid - min_) / (max_ - min_)"
   ]
  },
  {
   "cell_type": "code",
   "execution_count": 94,
   "id": "8c3738ab-fe9b-4a20-a72f-da8b63a6ed41",
   "metadata": {},
   "outputs": [
    {
     "data": {
      "text/plain": [
       "Store           4.500000e+01\n",
       "Weekly_Sales    3.818686e+06\n",
       "Holiday_Flag    1.000000e+00\n",
       "Temperature     1.001400e+02\n",
       "Fuel_Price      4.468000e+00\n",
       "CPI             2.272328e+02\n",
       "Unemployment    1.431300e+01\n",
       "dtype: float64"
      ]
     },
     "execution_count": 94,
     "metadata": {},
     "output_type": "execute_result"
    }
   ],
   "source": [
    "max_"
   ]
  },
  {
   "cell_type": "code",
   "execution_count": 100,
   "id": "38331e33-be13-4111-ab78-6967a43690bf",
   "metadata": {},
   "outputs": [],
   "source": [
    "# df_train['Weekly_Sales']"
   ]
  },
  {
   "cell_type": "code",
   "execution_count": 101,
   "id": "0ad98675-b476-43ce-b699-3ede88f1da22",
   "metadata": {},
   "outputs": [],
   "source": [
    "# (df_train['Weekly_Sales']) * (max_['Weekly_Sales'] - min_['Weekly_Sales']) + min_['Weekly_Sales']"
   ]
  },
  {
   "cell_type": "code",
   "execution_count": 102,
   "id": "7bdf74a6-457b-4ef2-9e21-7c3fec4c6619",
   "metadata": {},
   "outputs": [],
   "source": [
    "# df['Weekly_Sales'].loc[3949]"
   ]
  },
  {
   "cell_type": "code",
   "execution_count": 103,
   "id": "6a5abc0b-09a1-4875-8e27-374e5e136091",
   "metadata": {},
   "outputs": [],
   "source": [
    "# Split features and target\n",
    "X_train = df_train.drop('Weekly_Sales', axis=1)\n",
    "X_valid = df_valid.drop('Weekly_Sales', axis=1)\n",
    "y_train = df_train['Weekly_Sales']\n",
    "y_valid = df_valid['Weekly_Sales']"
   ]
  },
  {
   "cell_type": "code",
   "execution_count": 106,
   "id": "f08e9fa6-b8f9-42a7-b478-65528e044840",
   "metadata": {},
   "outputs": [
    {
     "name": "stdout",
     "output_type": "stream",
     "text": [
      "Epoch 1/10\n",
      "21/21 [==============================] - 1s 10ms/step - loss: 0.1420 - val_loss: 0.1216\n",
      "Epoch 2/10\n",
      "21/21 [==============================] - 0s 6ms/step - loss: 0.1188 - val_loss: 0.1102\n",
      "Epoch 3/10\n",
      "21/21 [==============================] - 0s 6ms/step - loss: 0.1083 - val_loss: 0.1036\n",
      "Epoch 4/10\n",
      "21/21 [==============================] - 0s 6ms/step - loss: 0.1027 - val_loss: 0.1065\n",
      "Epoch 5/10\n",
      "21/21 [==============================] - 0s 6ms/step - loss: 0.1024 - val_loss: 0.1008\n",
      "Epoch 6/10\n",
      "21/21 [==============================] - 0s 6ms/step - loss: 0.0995 - val_loss: 0.0978\n",
      "Epoch 7/10\n",
      "21/21 [==============================] - 0s 7ms/step - loss: 0.0975 - val_loss: 0.0989\n",
      "Epoch 8/10\n",
      "21/21 [==============================] - 0s 7ms/step - loss: 0.0957 - val_loss: 0.0960\n",
      "Epoch 9/10\n",
      "21/21 [==============================] - 0s 7ms/step - loss: 0.0934 - val_loss: 0.0915\n",
      "Epoch 10/10\n",
      "21/21 [==============================] - 0s 7ms/step - loss: 0.0906 - val_loss: 0.0906\n"
     ]
    },
    {
     "data": {
      "image/png": "[encoded data removed]",
      "text/plain": [
       "<Figure size 640x480 with 1 Axes>"
      ]
     },
     "metadata": {},
     "output_type": "display_data"
    }
   ],
   "source": [
    "model = keras.Sequential([\n",
    "    layers.Dense(512, activation='relu', input_shape=[n_features]),\n",
    "    layers.Dense(512, activation='relu'),\n",
    "    layers.Dense(512, activation='relu'),\n",
    "    layers.Dense(1),\n",
    "])\n",
    "model.compile(\n",
    "    optimizer='adam',\n",
    "    loss='mae',\n",
    ")\n",
    "history = model.fit(\n",
    "    X_train, y_train,\n",
    "    validation_data=(X_valid, y_valid),\n",
    "    batch_size=256,\n",
    "    epochs=10,\n",
    ")\n",
    "# convert the training history to a dataframe\n",
    "history_df = pd.DataFrame(history.history)\n",
    "# use Pandas native plot method\n",
    "history_df['loss'].plot();\n",
    "history_df['val_loss'].plot();"
   ]
  },
  {
   "cell_type": "code",
   "execution_count": 107,
   "id": "e665d472-9fb3-4062-9017-969ea66d8518",
   "metadata": {},
   "outputs": [
    {
     "name": "stdout",
     "output_type": "stream",
     "text": [
      "41/41 [==============================] - 0s 975us/step\n"
     ]
    }
   ],
   "source": [
    "y_pred = model.predict(X_valid)"
   ]
  },
  {
   "cell_type": "code",
   "execution_count": 109,
   "id": "fb152a90-d2a4-4ed5-8b4a-bcf516ab48a5",
   "metadata": {},
   "outputs": [
    {
     "data": {
      "text/plain": [
       "536860.6526306982"
      ]
     },
     "execution_count": 109,
     "metadata": {},
     "output_type": "execute_result"
    }
   ],
   "source": [
    "mae = mean_absolute_error(y_valid, y_pred)\n",
    "mae_inv_scaled = mae * (max_['Weekly_Sales'] - min_['Weekly_Sales']) + min_['Weekly_Sales']\n",
    "mae_inv_scaled"
   ]
  },
  {
   "cell_type": "markdown",
   "id": "46b29b35-7151-4efb-9012-8c0c65c35940",
   "metadata": {},
   "source": [
    "Ouch! A MAE of over 500k! That's way too high to be considered usable. Let's check the proportions of mae to the highest sales data in the dataset to see if the scaled mae error does indeed represent that number"
   ]
  },
  {
   "cell_type": "code",
   "execution_count": 110,
   "id": "cf682cd1-5c4c-405c-98d5-622a21c79b1d",
   "metadata": {},
   "outputs": [
    {
     "data": {
      "text/plain": [
       "0.09057953958899057"
      ]
     },
     "execution_count": 110,
     "metadata": {},
     "output_type": "execute_result"
    }
   ],
   "source": [
    "mae"
   ]
  },
  {
   "cell_type": "code",
   "execution_count": 111,
   "id": "83a5bca4-e4ee-4b6d-8ae9-f95c296ad642",
   "metadata": {},
   "outputs": [
    {
     "data": {
      "text/plain": [
       "3818686.45"
      ]
     },
     "execution_count": 111,
     "metadata": {},
     "output_type": "execute_result"
    }
   ],
   "source": [
    "df['Weekly_Sales'].max()"
   ]
  },
  {
   "cell_type": "code",
   "execution_count": 112,
   "id": "7e5a7ba0-9af5-426f-8226-1c5f2299d05f",
   "metadata": {},
   "outputs": [
    {
     "data": {
      "text/plain": [
       "0.14058778055231483"
      ]
     },
     "execution_count": 112,
     "metadata": {},
     "output_type": "execute_result"
    }
   ],
   "source": [
    "mae_inv_scaled / df['Weekly_Sales'].max()"
   ]
  },
  {
   "cell_type": "markdown",
   "id": "4f518b34-9332-47f0-b29c-712b02b551ed",
   "metadata": {},
   "source": [
    "Pretty much. The scaling inversion was correct."
   ]
  },
  {
   "cell_type": "markdown",
   "id": "ea20974e-0cd6-42c9-9f94-06416909aa59",
   "metadata": {},
   "source": [
    "#### Training for longer on raw data\n",
    "As seen in the training and validation curves - we cut off training at 10 epochs, despite the descent angles still being quite fast. Perhaps further training will noticeably improve the performance. Let's see.  \n",
    "To not tread blindly into overfitting, let's also add a early stopping mechanism"
   ]
  },
  {
   "cell_type": "code",
   "execution_count": 114,
   "id": "26cb317c-9aab-4dd7-b92e-77853be3b8db",
   "metadata": {},
   "outputs": [],
   "source": [
    "early_stopping = EarlyStopping(\n",
    "    min_delta=0.001, # minimium amount of change to count as an improvement\n",
    "    patience=20, # how many epochs to wait before stopping\n",
    "    restore_best_weights=True,\n",
    ")"
   ]
  },
  {
   "cell_type": "code",
   "execution_count": 115,
   "id": "52d3c730-7e92-43fe-bba7-765c195526ca",
   "metadata": {},
   "outputs": [
    {
     "data": {
      "image/png": "[encoded data removed]",
      "text/plain": [
       "<Figure size 640x480 with 1 Axes>"
      ]
     },
     "metadata": {},
     "output_type": "display_data"
    }
   ],
   "source": [
    "model = keras.Sequential([\n",
    "    layers.Dense(512, activation='relu', input_shape=[n_features]),\n",
    "    layers.Dense(512, activation='relu'),\n",
    "    layers.Dense(512, activation='relu'),\n",
    "    layers.Dense(1),\n",
    "])\n",
    "\n",
    "model.compile(\n",
    "    optimizer='adam',\n",
    "    loss='mae',\n",
    ")\n",
    "history = model.fit(\n",
    "    X_train, y_train,\n",
    "    validation_data=(X_valid, y_valid),\n",
    "    batch_size=256,\n",
    "    epochs=500,\n",
    "    callbacks=[early_stopping], # put your callbacks in a list\n",
    "    verbose=0,  # turn off training log\n",
    ")\n",
    "# convert the training history to a dataframe\n",
    "history_df = pd.DataFrame(history.history)\n",
    "# use Pandas native plot method\n",
    "history_df['loss'].plot();\n",
    "history_df['val_loss'].plot();"
   ]
  },
  {
   "cell_type": "markdown",
   "id": "a10bd798-aab9-4ce5-86bb-c7a0c91401d8",
   "metadata": {},
   "source": [
    "Indeed it seems training was necessary no longer than for around 140 epochs, instead of 500 we set, let's look at some results now:"
   ]
  },
  {
   "cell_type": "code",
   "execution_count": 116,
   "id": "94e34da2-9058-465a-b3cd-5fbfa6f8bfa2",
   "metadata": {},
   "outputs": [
    {
     "name": "stdout",
     "output_type": "stream",
     "text": [
      "41/41 [==============================] - 0s 1ms/step\n"
     ]
    },
    {
     "data": {
      "text/plain": [
       "319203.21501476236"
      ]
     },
     "execution_count": 116,
     "metadata": {},
     "output_type": "execute_result"
    }
   ],
   "source": [
    "y_pred = model.predict(X_valid)\n",
    "mae = mean_absolute_error(y_valid, y_pred)\n",
    "mae_inv_scaled = mae * (max_['Weekly_Sales'] - min_['Weekly_Sales']) + min_['Weekly_Sales']\n",
    "mae_inv_scaled"
   ]
  },
  {
   "cell_type": "markdown",
   "id": "0380a777-74d6-4784-ae68-223e6cd5d8a8",
   "metadata": {},
   "source": [
    "319k. Quite an improvement, still a large value"
   ]
  },
  {
   "cell_type": "markdown",
   "id": "fe591a3c-267b-4cf6-9a04-c000774cb60a",
   "metadata": {},
   "source": [
    "#### Overfitting?"
   ]
  },
  {
   "cell_type": "markdown",
   "id": "a0fb17eb-fb12-4583-bfe0-99653da73272",
   "metadata": {},
   "source": [
    "The validation curve is above the training curve at all times. Perhaps the model is overfitting a little? Let's explore some simple overfitting-preventing techniques"
   ]
  },
  {
   "cell_type": "code",
   "execution_count": 117,
   "id": "cb838cd6-937c-4a6e-a73a-b03074629304",
   "metadata": {},
   "outputs": [
    {
     "name": "stdout",
     "output_type": "stream",
     "text": [
      "41/41 [==============================] - 0s 1ms/step\n",
      "mae:  394801.1546066284\n"
     ]
    },
    {
     "data": {
      "image/png": "[encoded data removed]",
      "text/plain": [
       "<Figure size 640x480 with 1 Axes>"
      ]
     },
     "metadata": {},
     "output_type": "display_data"
    }
   ],
   "source": [
    "model = keras.Sequential([\n",
    "    layers.Dense(512, activation='relu', input_shape=[n_features]),\n",
    "    layers.Dense(512, activation='relu'),\n",
    "    layers.Dropout(0.3),\n",
    "    layers.BatchNormalization(),\n",
    "    layers.Dense(512, activation='relu'),\n",
    "    layers.Dense(1),\n",
    "])\n",
    "\n",
    "model.compile(\n",
    "    optimizer='adam',\n",
    "    loss='mae',\n",
    ")\n",
    "history = model.fit(\n",
    "    X_train, y_train,\n",
    "    validation_data=(X_valid, y_valid),\n",
    "    batch_size=256,\n",
    "    epochs=500,\n",
    "    callbacks=[early_stopping], # put your callbacks in a list\n",
    "    verbose=0,  # turn off training log\n",
    ")\n",
    "# convert the training history to a dataframe\n",
    "history_df = pd.DataFrame(history.history)\n",
    "# use Pandas native plot method\n",
    "history_df['loss'].plot();\n",
    "history_df['val_loss'].plot();\n",
    "\n",
    "y_pred = model.predict(X_valid)\n",
    "mae = mean_absolute_error(y_valid, y_pred)\n",
    "mae_inv_scaled = mae * (max_['Weekly_Sales'] - min_['Weekly_Sales']) + min_['Weekly_Sales']\n",
    "print('mae: ', mae_inv_scaled)"
   ]
  },
  {
   "cell_type": "markdown",
   "id": "7ef7870b-89af-43fa-b5de-cd2b60c3cc1e",
   "metadata": {},
   "source": [
    "Indeed a closer relation between training a validating, no improvement in prediction quality though"
   ]
  },
  {
   "cell_type": "markdown",
   "id": "c246eb76-c34e-4ef2-b0f3-01f7676ac1ca",
   "metadata": {},
   "source": [
    "### Data with engineered features"
   ]
  },
  {
   "cell_type": "code",
   "execution_count": 119,
   "id": "4ce9567d-7e26-4efc-a7e9-44a1d9a5d1bd",
   "metadata": {},
   "outputs": [],
   "source": [
    "# dataset with engineered features\n",
    "df_eng_path = '../datasets/walmart_sales_engineered.csv'\n",
    "df_eng = pd.read_csv(df_eng_path, index_col = 0)"
   ]
  },
  {
   "cell_type": "code",
   "execution_count": 120,
   "id": "93cedcd0-38a8-41ee-854c-472e4fa7a7b2",
   "metadata": {},
   "outputs": [
    {
     "data": {
      "text/html": [
       "<div>\n",
       "<style scoped>\n",
       "    .dataframe tbody tr th:only-of-type {\n",
       "        vertical-align: middle;\n",
       "    }\n",
       "\n",
       "    .dataframe tbody tr th {\n",
       "        vertical-align: top;\n",
       "    }\n",
       "\n",
       "    .dataframe thead th {\n",
       "        text-align: right;\n",
       "    }\n",
       "</style>\n",
       "<table border=\"1\" class=\"dataframe\">\n",
       "  <thead>\n",
       "    <tr style=\"text-align: right;\">\n",
       "      <th></th>\n",
       "      <th>store</th>\n",
       "      <th>date</th>\n",
       "      <th>weekly_sales</th>\n",
       "      <th>holiday_flag</th>\n",
       "      <th>temperature</th>\n",
       "      <th>fuel_price</th>\n",
       "      <th>cpi</th>\n",
       "      <th>unemployment</th>\n",
       "      <th>week_number</th>\n",
       "      <th>month</th>\n",
       "      <th>...</th>\n",
       "      <th>weekly_sales_diff</th>\n",
       "      <th>temperature_diff</th>\n",
       "      <th>fuel_price_diff</th>\n",
       "      <th>cpi_diff</th>\n",
       "      <th>unemployment_diff</th>\n",
       "      <th>prev_month</th>\n",
       "      <th>prev_week_number</th>\n",
       "      <th>prev_week_of_month</th>\n",
       "      <th>prev_holiday_flag</th>\n",
       "      <th>holiday_flag_diff</th>\n",
       "    </tr>\n",
       "  </thead>\n",
       "  <tbody>\n",
       "    <tr>\n",
       "      <th>0</th>\n",
       "      <td>1</td>\n",
       "      <td>2010-02-05</td>\n",
       "      <td>1643690.90</td>\n",
       "      <td>0</td>\n",
       "      <td>42.31</td>\n",
       "      <td>2.572</td>\n",
       "      <td>211.096358</td>\n",
       "      <td>8.106</td>\n",
       "      <td>5</td>\n",
       "      <td>2</td>\n",
       "      <td>...</td>\n",
       "      <td>0.00</td>\n",
       "      <td>0.00</td>\n",
       "      <td>0.000</td>\n",
       "      <td>0.000000</td>\n",
       "      <td>0.000</td>\n",
       "      <td>2.0</td>\n",
       "      <td>5</td>\n",
       "      <td>1.0</td>\n",
       "      <td>0.0</td>\n",
       "      <td>0.0</td>\n",
       "    </tr>\n",
       "    <tr>\n",
       "      <th>1</th>\n",
       "      <td>1</td>\n",
       "      <td>2010-02-12</td>\n",
       "      <td>1641957.44</td>\n",
       "      <td>1</td>\n",
       "      <td>38.51</td>\n",
       "      <td>2.548</td>\n",
       "      <td>211.242170</td>\n",
       "      <td>8.106</td>\n",
       "      <td>6</td>\n",
       "      <td>2</td>\n",
       "      <td>...</td>\n",
       "      <td>-1733.46</td>\n",
       "      <td>-3.80</td>\n",
       "      <td>-0.024</td>\n",
       "      <td>0.145812</td>\n",
       "      <td>0.000</td>\n",
       "      <td>2.0</td>\n",
       "      <td>5</td>\n",
       "      <td>1.0</td>\n",
       "      <td>0.0</td>\n",
       "      <td>1.0</td>\n",
       "    </tr>\n",
       "    <tr>\n",
       "      <th>2</th>\n",
       "      <td>1</td>\n",
       "      <td>2010-02-19</td>\n",
       "      <td>1611968.17</td>\n",
       "      <td>0</td>\n",
       "      <td>39.93</td>\n",
       "      <td>2.514</td>\n",
       "      <td>211.289143</td>\n",
       "      <td>8.106</td>\n",
       "      <td>7</td>\n",
       "      <td>2</td>\n",
       "      <td>...</td>\n",
       "      <td>-29989.27</td>\n",
       "      <td>1.42</td>\n",
       "      <td>-0.034</td>\n",
       "      <td>0.046973</td>\n",
       "      <td>0.000</td>\n",
       "      <td>2.0</td>\n",
       "      <td>6</td>\n",
       "      <td>2.0</td>\n",
       "      <td>1.0</td>\n",
       "      <td>-1.0</td>\n",
       "    </tr>\n",
       "    <tr>\n",
       "      <th>3</th>\n",
       "      <td>1</td>\n",
       "      <td>2010-02-26</td>\n",
       "      <td>1409727.59</td>\n",
       "      <td>0</td>\n",
       "      <td>46.63</td>\n",
       "      <td>2.561</td>\n",
       "      <td>211.319643</td>\n",
       "      <td>8.106</td>\n",
       "      <td>8</td>\n",
       "      <td>2</td>\n",
       "      <td>...</td>\n",
       "      <td>-202240.58</td>\n",
       "      <td>6.70</td>\n",
       "      <td>0.047</td>\n",
       "      <td>0.030500</td>\n",
       "      <td>0.000</td>\n",
       "      <td>2.0</td>\n",
       "      <td>7</td>\n",
       "      <td>3.0</td>\n",
       "      <td>0.0</td>\n",
       "      <td>0.0</td>\n",
       "    </tr>\n",
       "    <tr>\n",
       "      <th>4</th>\n",
       "      <td>1</td>\n",
       "      <td>2010-03-05</td>\n",
       "      <td>1554806.68</td>\n",
       "      <td>0</td>\n",
       "      <td>46.50</td>\n",
       "      <td>2.625</td>\n",
       "      <td>211.350143</td>\n",
       "      <td>8.106</td>\n",
       "      <td>9</td>\n",
       "      <td>3</td>\n",
       "      <td>...</td>\n",
       "      <td>145079.09</td>\n",
       "      <td>-0.13</td>\n",
       "      <td>0.064</td>\n",
       "      <td>0.030500</td>\n",
       "      <td>0.000</td>\n",
       "      <td>2.0</td>\n",
       "      <td>8</td>\n",
       "      <td>4.0</td>\n",
       "      <td>0.0</td>\n",
       "      <td>0.0</td>\n",
       "    </tr>\n",
       "    <tr>\n",
       "      <th>...</th>\n",
       "      <td>...</td>\n",
       "      <td>...</td>\n",
       "      <td>...</td>\n",
       "      <td>...</td>\n",
       "      <td>...</td>\n",
       "      <td>...</td>\n",
       "      <td>...</td>\n",
       "      <td>...</td>\n",
       "      <td>...</td>\n",
       "      <td>...</td>\n",
       "      <td>...</td>\n",
       "      <td>...</td>\n",
       "      <td>...</td>\n",
       "      <td>...</td>\n",
       "      <td>...</td>\n",
       "      <td>...</td>\n",
       "      <td>...</td>\n",
       "      <td>...</td>\n",
       "      <td>...</td>\n",
       "      <td>...</td>\n",
       "      <td>...</td>\n",
       "    </tr>\n",
       "    <tr>\n",
       "      <th>6430</th>\n",
       "      <td>45</td>\n",
       "      <td>2012-09-28</td>\n",
       "      <td>713173.95</td>\n",
       "      <td>0</td>\n",
       "      <td>64.88</td>\n",
       "      <td>3.997</td>\n",
       "      <td>192.013558</td>\n",
       "      <td>8.684</td>\n",
       "      <td>39</td>\n",
       "      <td>9</td>\n",
       "      <td>...</td>\n",
       "      <td>-9912.25</td>\n",
       "      <td>-0.44</td>\n",
       "      <td>-0.041</td>\n",
       "      <td>0.156854</td>\n",
       "      <td>0.000</td>\n",
       "      <td>9.0</td>\n",
       "      <td>38</td>\n",
       "      <td>4.0</td>\n",
       "      <td>0.0</td>\n",
       "      <td>0.0</td>\n",
       "    </tr>\n",
       "    <tr>\n",
       "      <th>6431</th>\n",
       "      <td>45</td>\n",
       "      <td>2012-10-05</td>\n",
       "      <td>733455.07</td>\n",
       "      <td>0</td>\n",
       "      <td>64.89</td>\n",
       "      <td>3.985</td>\n",
       "      <td>192.170412</td>\n",
       "      <td>8.667</td>\n",
       "      <td>40</td>\n",
       "      <td>10</td>\n",
       "      <td>...</td>\n",
       "      <td>20281.12</td>\n",
       "      <td>0.01</td>\n",
       "      <td>-0.012</td>\n",
       "      <td>0.156854</td>\n",
       "      <td>-0.017</td>\n",
       "      <td>9.0</td>\n",
       "      <td>39</td>\n",
       "      <td>5.0</td>\n",
       "      <td>0.0</td>\n",
       "      <td>0.0</td>\n",
       "    </tr>\n",
       "    <tr>\n",
       "      <th>6432</th>\n",
       "      <td>45</td>\n",
       "      <td>2012-10-12</td>\n",
       "      <td>734464.36</td>\n",
       "      <td>0</td>\n",
       "      <td>54.47</td>\n",
       "      <td>4.000</td>\n",
       "      <td>192.327265</td>\n",
       "      <td>8.667</td>\n",
       "      <td>41</td>\n",
       "      <td>10</td>\n",
       "      <td>...</td>\n",
       "      <td>1009.29</td>\n",
       "      <td>-10.42</td>\n",
       "      <td>0.015</td>\n",
       "      <td>0.156854</td>\n",
       "      <td>0.000</td>\n",
       "      <td>10.0</td>\n",
       "      <td>40</td>\n",
       "      <td>1.0</td>\n",
       "      <td>0.0</td>\n",
       "      <td>0.0</td>\n",
       "    </tr>\n",
       "    <tr>\n",
       "      <th>6433</th>\n",
       "      <td>45</td>\n",
       "      <td>2012-10-19</td>\n",
       "      <td>718125.53</td>\n",
       "      <td>0</td>\n",
       "      <td>56.47</td>\n",
       "      <td>3.969</td>\n",
       "      <td>192.330854</td>\n",
       "      <td>8.667</td>\n",
       "      <td>42</td>\n",
       "      <td>10</td>\n",
       "      <td>...</td>\n",
       "      <td>-16338.83</td>\n",
       "      <td>2.00</td>\n",
       "      <td>-0.031</td>\n",
       "      <td>0.003589</td>\n",
       "      <td>0.000</td>\n",
       "      <td>10.0</td>\n",
       "      <td>41</td>\n",
       "      <td>2.0</td>\n",
       "      <td>0.0</td>\n",
       "      <td>0.0</td>\n",
       "    </tr>\n",
       "    <tr>\n",
       "      <th>6434</th>\n",
       "      <td>45</td>\n",
       "      <td>2012-10-26</td>\n",
       "      <td>760281.43</td>\n",
       "      <td>0</td>\n",
       "      <td>58.85</td>\n",
       "      <td>3.882</td>\n",
       "      <td>192.308899</td>\n",
       "      <td>8.667</td>\n",
       "      <td>43</td>\n",
       "      <td>10</td>\n",
       "      <td>...</td>\n",
       "      <td>42155.90</td>\n",
       "      <td>2.38</td>\n",
       "      <td>-0.087</td>\n",
       "      <td>-0.021955</td>\n",
       "      <td>0.000</td>\n",
       "      <td>10.0</td>\n",
       "      <td>42</td>\n",
       "      <td>3.0</td>\n",
       "      <td>0.0</td>\n",
       "      <td>0.0</td>\n",
       "    </tr>\n",
       "  </tbody>\n",
       "</table>\n",
       "<p>6435 rows × 26 columns</p>\n",
       "</div>"
      ],
      "text/plain": [
       "      store        date  weekly_sales  holiday_flag  temperature  fuel_price  \\\n",
       "0         1  2010-02-05    1643690.90             0        42.31       2.572   \n",
       "1         1  2010-02-12    1641957.44             1        38.51       2.548   \n",
       "2         1  2010-02-19    1611968.17             0        39.93       2.514   \n",
       "3         1  2010-02-26    1409727.59             0        46.63       2.561   \n",
       "4         1  2010-03-05    1554806.68             0        46.50       2.625   \n",
       "...     ...         ...           ...           ...          ...         ...   \n",
       "6430     45  2012-09-28     713173.95             0        64.88       3.997   \n",
       "6431     45  2012-10-05     733455.07             0        64.89       3.985   \n",
       "6432     45  2012-10-12     734464.36             0        54.47       4.000   \n",
       "6433     45  2012-10-19     718125.53             0        56.47       3.969   \n",
       "6434     45  2012-10-26     760281.43             0        58.85       3.882   \n",
       "\n",
       "             cpi  unemployment  week_number  month  ...  weekly_sales_diff  \\\n",
       "0     211.096358         8.106            5      2  ...               0.00   \n",
       "1     211.242170         8.106            6      2  ...           -1733.46   \n",
       "2     211.289143         8.106            7      2  ...          -29989.27   \n",
       "3     211.319643         8.106            8      2  ...         -202240.58   \n",
       "4     211.350143         8.106            9      3  ...          145079.09   \n",
       "...          ...           ...          ...    ...  ...                ...   \n",
       "6430  192.013558         8.684           39      9  ...           -9912.25   \n",
       "6431  192.170412         8.667           40     10  ...           20281.12   \n",
       "6432  192.327265         8.667           41     10  ...            1009.29   \n",
       "6433  192.330854         8.667           42     10  ...          -16338.83   \n",
       "6434  192.308899         8.667           43     10  ...           42155.90   \n",
       "\n",
       "      temperature_diff  fuel_price_diff  cpi_diff  unemployment_diff  \\\n",
       "0                 0.00            0.000  0.000000              0.000   \n",
       "1                -3.80           -0.024  0.145812              0.000   \n",
       "2                 1.42           -0.034  0.046973              0.000   \n",
       "3                 6.70            0.047  0.030500              0.000   \n",
       "4                -0.13            0.064  0.030500              0.000   \n",
       "...                ...              ...       ...                ...   \n",
       "6430             -0.44           -0.041  0.156854              0.000   \n",
       "6431              0.01           -0.012  0.156854             -0.017   \n",
       "6432            -10.42            0.015  0.156854              0.000   \n",
       "6433              2.00           -0.031  0.003589              0.000   \n",
       "6434              2.38           -0.087 -0.021955              0.000   \n",
       "\n",
       "      prev_month  prev_week_number  prev_week_of_month  prev_holiday_flag  \\\n",
       "0            2.0                 5                 1.0                0.0   \n",
       "1            2.0                 5                 1.0                0.0   \n",
       "2            2.0                 6                 2.0                1.0   \n",
       "3            2.0                 7                 3.0                0.0   \n",
       "4            2.0                 8                 4.0                0.0   \n",
       "...          ...               ...                 ...                ...   \n",
       "6430         9.0                38                 4.0                0.0   \n",
       "6431         9.0                39                 5.0                0.0   \n",
       "6432        10.0                40                 1.0                0.0   \n",
       "6433        10.0                41                 2.0                0.0   \n",
       "6434        10.0                42                 3.0                0.0   \n",
       "\n",
       "      holiday_flag_diff  \n",
       "0                   0.0  \n",
       "1                   1.0  \n",
       "2                  -1.0  \n",
       "3                   0.0  \n",
       "4                   0.0  \n",
       "...                 ...  \n",
       "6430                0.0  \n",
       "6431                0.0  \n",
       "6432                0.0  \n",
       "6433                0.0  \n",
       "6434                0.0  \n",
       "\n",
       "[6435 rows x 26 columns]"
      ]
     },
     "execution_count": 120,
     "metadata": {},
     "output_type": "execute_result"
    }
   ],
   "source": [
    "df_eng"
   ]
  },
  {
   "cell_type": "code",
   "execution_count": 123,
   "id": "c0fdfcbb-423b-4e01-a13a-5d3242abd120",
   "metadata": {},
   "outputs": [],
   "source": [
    "# Create training and validation splits\n",
    "df_proper = df_eng.drop(['date'], axis=1)\n",
    "\n",
    "df_train = df_proper.sample(frac=0.8, random_state=0)\n",
    "df_valid = df_proper.drop(df_train.index)\n",
    "\n",
    "max_ = df_train.max(axis=0)\n",
    "min_ = df_train.min(axis=0)\n",
    "df_train = (df_train - min_) / (max_ - min_)\n",
    "df_valid = (df_valid - min_) / (max_ - min_)\n",
    "\n",
    "# Split features and target\n",
    "X_train = df_train.drop('weekly_sales', axis=1)\n",
    "X_valid = df_valid.drop('weekly_sales', axis=1)\n",
    "y_train = df_train['weekly_sales']\n",
    "y_valid = df_valid['weekly_sales']"
   ]
  },
  {
   "cell_type": "code",
   "execution_count": 125,
   "id": "f07c0915-ee34-405a-86a2-6da3de244dcc",
   "metadata": {},
   "outputs": [],
   "source": [
    "n_features = X_train.shape[1]"
   ]
  },
  {
   "cell_type": "code",
   "execution_count": null,
   "id": "65d8156a-648f-4f09-b2d8-06e199c1941f",
   "metadata": {},
   "outputs": [],
   "source": []
  },
  {
   "cell_type": "code",
   "execution_count": 126,
   "id": "830b0997-bf2b-42bb-9ab1-92e3b599c52a",
   "metadata": {},
   "outputs": [
    {
     "name": "stdout",
     "output_type": "stream",
     "text": [
      "41/41 [==============================] - 0s 975us/step\n",
      "mae:  234987.14475973826\n"
     ]
    },
    {
     "data": {
      "image/png": "[encoded data removed]",
      "text/plain": [
       "<Figure size 640x480 with 1 Axes>"
      ]
     },
     "metadata": {},
     "output_type": "display_data"
    }
   ],
   "source": [
    "model = keras.Sequential([\n",
    "    layers.Dense(512, activation='relu', input_shape=[n_features]),\n",
    "    layers.Dense(512, activation='relu'),\n",
    "    layers.Dense(512, activation='relu'),\n",
    "    layers.Dense(1),\n",
    "])\n",
    "\n",
    "model.compile(\n",
    "    optimizer='adam',\n",
    "    loss='mae',\n",
    ")\n",
    "history = model.fit(\n",
    "    X_train, y_train,\n",
    "    validation_data=(X_valid, y_valid),\n",
    "    batch_size=256,\n",
    "    epochs=500,\n",
    "    callbacks=[early_stopping], # put your callbacks in a list\n",
    "    verbose=0,  # turn off training log\n",
    ")\n",
    "# convert the training history to a dataframe\n",
    "history_df = pd.DataFrame(history.history)\n",
    "# use Pandas native plot method\n",
    "history_df['loss'].plot();\n",
    "history_df['val_loss'].plot();\n",
    "\n",
    "y_pred = model.predict(X_valid)\n",
    "mae = mean_absolute_error(y_valid, y_pred)\n",
    "mae_inv_scaled = mae * (max_['weekly_sales'] - min_['weekly_sales']) + min_['weekly_sales']\n",
    "print('mae: ', mae_inv_scaled)"
   ]
  },
  {
   "cell_type": "markdown",
   "id": "b3e52369-b5b4-42e8-bdb0-659298995971",
   "metadata": {},
   "source": [
    "Around 235 thousand, better, still worse than our best performing model from Project 1"
   ]
  },
  {
   "cell_type": "markdown",
   "id": "ad1b862d-768c-4393-a8a2-9a62ffc613df",
   "metadata": {},
   "source": [
    "### A simpler model?\n",
    "Perhaps a simpler model will be able to catch some more obvious relations within the data?"
   ]
  },
  {
   "cell_type": "code",
   "execution_count": 128,
   "id": "e4a862a2-b7aa-4019-ac25-78e8b3309dbd",
   "metadata": {},
   "outputs": [
    {
     "name": "stdout",
     "output_type": "stream",
     "text": [
      "41/41 [==============================] - 0s 625us/step\n",
      "mae:  225852.1015754397\n"
     ]
    },
    {
     "data": {
      "image/png": "[encoded data removed]",
      "text/plain": [
       "<Figure size 640x480 with 1 Axes>"
      ]
     },
     "metadata": {},
     "output_type": "display_data"
    }
   ],
   "source": [
    "model = keras.Sequential([\n",
    "    layers.Dense(32, activation='relu', input_shape=[n_features]),\n",
    "    layers.Dense(32, activation='relu'),\n",
    "    layers.Dense(10, activation='relu'),\n",
    "    layers.Dense(1),\n",
    "])\n",
    "\n",
    "model.compile(\n",
    "    optimizer='adam',\n",
    "    loss='mae',\n",
    ")\n",
    "history = model.fit(\n",
    "    X_train, y_train,\n",
    "    validation_data=(X_valid, y_valid),\n",
    "    batch_size=256,\n",
    "    epochs=500,\n",
    "    callbacks=[early_stopping], # put your callbacks in a list\n",
    "    verbose=0,  # turn off training log\n",
    ")\n",
    "# convert the training history to a dataframe\n",
    "history_df = pd.DataFrame(history.history)\n",
    "# use Pandas native plot method\n",
    "history_df['loss'].plot();\n",
    "history_df['val_loss'].plot();\n",
    "\n",
    "y_pred = model.predict(X_valid)\n",
    "mae = mean_absolute_error(y_valid, y_pred)\n",
    "mae_inv_scaled = mae * (max_['weekly_sales'] - min_['weekly_sales']) + min_['weekly_sales']\n",
    "print('mae: ', mae_inv_scaled)"
   ]
  },
  {
   "cell_type": "markdown",
   "id": "73752a36-99d2-4bfc-96eb-d53d6b9dcc91",
   "metadata": {},
   "source": [
    "Indeed a slight improvement, still about 5 times worse than our best model! Not good!"
   ]
  },
  {
   "cell_type": "markdown",
   "id": "083b8a61-a61f-4a2b-ab2d-471a93449361",
   "metadata": {},
   "source": [
    "## TODOs:\n",
    "* improving performance\n",
    "* rossmann store sales"
   ]
  },
  {
   "cell_type": "code",
   "execution_count": null,
   "id": "86ea2a71-539e-430a-8925-c70775a4af8c",
   "metadata": {},
   "outputs": [],
   "source": []
  }
 ],
 "metadata": {
  "kernelspec": {
   "display_name": "ml_zoo_venv",
   "language": "python",
   "name": "ml_zoo_venv"
  },
  "language_info": {
   "codemirror_mode": {
    "name": "ipython",
    "version": 3
   },
   "file_extension": ".py",
   "mimetype": "text/x-python",
   "name": "python",
   "nbconvert_exporter": "python",
   "pygments_lexer": "ipython3",
   "version": "3.10.9"
  }
 },
 "nbformat": 4,
 "nbformat_minor": 5
}
